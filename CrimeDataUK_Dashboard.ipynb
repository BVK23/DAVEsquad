{
 "cells": [
  {
   "cell_type": "code",
   "execution_count": 2,
   "id": "8583514b-2af8-44d4-a2df-081397d35425",
   "metadata": {},
   "outputs": [],
   "source": [
    "import pandas as pd\n",
    "import numpy as np\n",
    "import panel as pn\n",
    "pn.extension('tabulator')\n",
    "\n",
    "import hvplot.pandas"
   ]
  },
  {
   "cell_type": "code",
   "execution_count": 3,
   "id": "d88da374-5abc-49d0-b6d8-7a933346261a",
   "metadata": {},
   "outputs": [],
   "source": [
    "df = pd.read_csv(\"Data_Final1.csv\")\n",
    "df = df[df['Year_Month'] <= '2020-12']"
   ]
  },
  {
   "cell_type": "code",
   "execution_count": 4,
   "id": "36a27241-dabd-4b62-bc74-f3164a5ffe6a",
   "metadata": {},
   "outputs": [
    {
     "data": {
      "text/html": [
       "<div>\n",
       "<style scoped>\n",
       "    .dataframe tbody tr th:only-of-type {\n",
       "        vertical-align: middle;\n",
       "    }\n",
       "\n",
       "    .dataframe tbody tr th {\n",
       "        vertical-align: top;\n",
       "    }\n",
       "\n",
       "    .dataframe thead th {\n",
       "        text-align: right;\n",
       "    }\n",
       "</style>\n",
       "<table border=\"1\" class=\"dataframe\">\n",
       "  <thead>\n",
       "    <tr style=\"text-align: right;\">\n",
       "      <th></th>\n",
       "      <th>Year</th>\n",
       "      <th>Month</th>\n",
       "      <th>Year_Month</th>\n",
       "      <th>Crime type</th>\n",
       "      <th>LAD19CD</th>\n",
       "      <th>LAD19NM</th>\n",
       "      <th>CTYNM</th>\n",
       "      <th>RGN19CD</th>\n",
       "      <th>RGN19NM</th>\n",
       "      <th>CNTY21NM</th>\n",
       "      <th>NTN21NM</th>\n",
       "      <th>Frequency</th>\n",
       "      <th>Population</th>\n",
       "      <th>Population Density</th>\n",
       "      <th>Rainfall</th>\n",
       "    </tr>\n",
       "  </thead>\n",
       "  <tbody>\n",
       "    <tr>\n",
       "      <th>0</th>\n",
       "      <td>2013</td>\n",
       "      <td>5</td>\n",
       "      <td>2013-05</td>\n",
       "      <td>Anti-social behaviour</td>\n",
       "      <td>E06000001</td>\n",
       "      <td>Hartlepool</td>\n",
       "      <td>Cleveland</td>\n",
       "      <td>E12000001</td>\n",
       "      <td>North East</td>\n",
       "      <td>England</td>\n",
       "      <td>UK</td>\n",
       "      <td>622</td>\n",
       "      <td>92662.0</td>\n",
       "      <td>987.224740</td>\n",
       "      <td>76.6</td>\n",
       "    </tr>\n",
       "    <tr>\n",
       "      <th>1</th>\n",
       "      <td>2013</td>\n",
       "      <td>5</td>\n",
       "      <td>2013-05</td>\n",
       "      <td>Anti-social behaviour</td>\n",
       "      <td>E06000002</td>\n",
       "      <td>Middlesbrough</td>\n",
       "      <td>Cleveland</td>\n",
       "      <td>E12000001</td>\n",
       "      <td>North East</td>\n",
       "      <td>England</td>\n",
       "      <td>UK</td>\n",
       "      <td>1063</td>\n",
       "      <td>138911.0</td>\n",
       "      <td>2578.408789</td>\n",
       "      <td>76.6</td>\n",
       "    </tr>\n",
       "    <tr>\n",
       "      <th>2</th>\n",
       "      <td>2013</td>\n",
       "      <td>5</td>\n",
       "      <td>2013-05</td>\n",
       "      <td>Anti-social behaviour</td>\n",
       "      <td>E06000003</td>\n",
       "      <td>Redcar and Cleveland</td>\n",
       "      <td>Cleveland</td>\n",
       "      <td>E12000001</td>\n",
       "      <td>North East</td>\n",
       "      <td>England</td>\n",
       "      <td>UK</td>\n",
       "      <td>842</td>\n",
       "      <td>134960.0</td>\n",
       "      <td>551.093101</td>\n",
       "      <td>76.6</td>\n",
       "    </tr>\n",
       "    <tr>\n",
       "      <th>3</th>\n",
       "      <td>2013</td>\n",
       "      <td>5</td>\n",
       "      <td>2013-05</td>\n",
       "      <td>Anti-social behaviour</td>\n",
       "      <td>E06000004</td>\n",
       "      <td>Stockton-on-Tees</td>\n",
       "      <td>Cleveland</td>\n",
       "      <td>E12000001</td>\n",
       "      <td>North East</td>\n",
       "      <td>England</td>\n",
       "      <td>UK</td>\n",
       "      <td>1146</td>\n",
       "      <td>193433.0</td>\n",
       "      <td>948.523664</td>\n",
       "      <td>76.6</td>\n",
       "    </tr>\n",
       "    <tr>\n",
       "      <th>4</th>\n",
       "      <td>2013</td>\n",
       "      <td>5</td>\n",
       "      <td>2013-05</td>\n",
       "      <td>Anti-social behaviour</td>\n",
       "      <td>E06000005</td>\n",
       "      <td>Darlington</td>\n",
       "      <td>Durham</td>\n",
       "      <td>E12000001</td>\n",
       "      <td>North East</td>\n",
       "      <td>England</td>\n",
       "      <td>UK</td>\n",
       "      <td>474</td>\n",
       "      <td>105726.0</td>\n",
       "      <td>535.389019</td>\n",
       "      <td>76.6</td>\n",
       "    </tr>\n",
       "    <tr>\n",
       "      <th>...</th>\n",
       "      <td>...</td>\n",
       "      <td>...</td>\n",
       "      <td>...</td>\n",
       "      <td>...</td>\n",
       "      <td>...</td>\n",
       "      <td>...</td>\n",
       "      <td>...</td>\n",
       "      <td>...</td>\n",
       "      <td>...</td>\n",
       "      <td>...</td>\n",
       "      <td>...</td>\n",
       "      <td>...</td>\n",
       "      <td>...</td>\n",
       "      <td>...</td>\n",
       "      <td>...</td>\n",
       "    </tr>\n",
       "    <tr>\n",
       "      <th>397996</th>\n",
       "      <td>2020</td>\n",
       "      <td>12</td>\n",
       "      <td>2020-12</td>\n",
       "      <td>Violence and sexual offences</td>\n",
       "      <td>E09000029</td>\n",
       "      <td>Sutton</td>\n",
       "      <td>Metropolitan</td>\n",
       "      <td>E12000007</td>\n",
       "      <td>London</td>\n",
       "      <td>England</td>\n",
       "      <td>UK</td>\n",
       "      <td>314</td>\n",
       "      <td>207707.0</td>\n",
       "      <td>4736.740083</td>\n",
       "      <td>123.6</td>\n",
       "    </tr>\n",
       "    <tr>\n",
       "      <th>397997</th>\n",
       "      <td>2020</td>\n",
       "      <td>12</td>\n",
       "      <td>2020-12</td>\n",
       "      <td>Violence and sexual offences</td>\n",
       "      <td>E09000030</td>\n",
       "      <td>Tower Hamlets</td>\n",
       "      <td>Metropolitan</td>\n",
       "      <td>E12000007</td>\n",
       "      <td>London</td>\n",
       "      <td>England</td>\n",
       "      <td>UK</td>\n",
       "      <td>755</td>\n",
       "      <td>331969.0</td>\n",
       "      <td>16792.402250</td>\n",
       "      <td>123.6</td>\n",
       "    </tr>\n",
       "    <tr>\n",
       "      <th>397998</th>\n",
       "      <td>2020</td>\n",
       "      <td>12</td>\n",
       "      <td>2020-12</td>\n",
       "      <td>Violence and sexual offences</td>\n",
       "      <td>E09000031</td>\n",
       "      <td>Waltham Forest</td>\n",
       "      <td>Metropolitan</td>\n",
       "      <td>E12000007</td>\n",
       "      <td>London</td>\n",
       "      <td>England</td>\n",
       "      <td>UK</td>\n",
       "      <td>574</td>\n",
       "      <td>276940.0</td>\n",
       "      <td>7135.054362</td>\n",
       "      <td>123.6</td>\n",
       "    </tr>\n",
       "    <tr>\n",
       "      <th>397999</th>\n",
       "      <td>2020</td>\n",
       "      <td>12</td>\n",
       "      <td>2020-12</td>\n",
       "      <td>Violence and sexual offences</td>\n",
       "      <td>E09000032</td>\n",
       "      <td>Wandsworth</td>\n",
       "      <td>Metropolitan</td>\n",
       "      <td>E12000007</td>\n",
       "      <td>London</td>\n",
       "      <td>England</td>\n",
       "      <td>UK</td>\n",
       "      <td>590</td>\n",
       "      <td>329735.0</td>\n",
       "      <td>9623.674587</td>\n",
       "      <td>123.6</td>\n",
       "    </tr>\n",
       "    <tr>\n",
       "      <th>398000</th>\n",
       "      <td>2020</td>\n",
       "      <td>12</td>\n",
       "      <td>2020-12</td>\n",
       "      <td>Violence and sexual offences</td>\n",
       "      <td>E09000033</td>\n",
       "      <td>Westminster</td>\n",
       "      <td>Metropolitan</td>\n",
       "      <td>E12000007</td>\n",
       "      <td>London</td>\n",
       "      <td>England</td>\n",
       "      <td>UK</td>\n",
       "      <td>686</td>\n",
       "      <td>269848.0</td>\n",
       "      <td>12564.042870</td>\n",
       "      <td>123.6</td>\n",
       "    </tr>\n",
       "  </tbody>\n",
       "</table>\n",
       "<p>398001 rows × 15 columns</p>\n",
       "</div>"
      ],
      "text/plain": [
       "        Year  Month Year_Month                    Crime type    LAD19CD  \\\n",
       "0       2013      5    2013-05         Anti-social behaviour  E06000001   \n",
       "1       2013      5    2013-05         Anti-social behaviour  E06000002   \n",
       "2       2013      5    2013-05         Anti-social behaviour  E06000003   \n",
       "3       2013      5    2013-05         Anti-social behaviour  E06000004   \n",
       "4       2013      5    2013-05         Anti-social behaviour  E06000005   \n",
       "...      ...    ...        ...                           ...        ...   \n",
       "397996  2020     12    2020-12  Violence and sexual offences  E09000029   \n",
       "397997  2020     12    2020-12  Violence and sexual offences  E09000030   \n",
       "397998  2020     12    2020-12  Violence and sexual offences  E09000031   \n",
       "397999  2020     12    2020-12  Violence and sexual offences  E09000032   \n",
       "398000  2020     12    2020-12  Violence and sexual offences  E09000033   \n",
       "\n",
       "                     LAD19NM         CTYNM    RGN19CD     RGN19NM CNTY21NM  \\\n",
       "0                 Hartlepool     Cleveland  E12000001  North East  England   \n",
       "1              Middlesbrough     Cleveland  E12000001  North East  England   \n",
       "2       Redcar and Cleveland     Cleveland  E12000001  North East  England   \n",
       "3           Stockton-on-Tees     Cleveland  E12000001  North East  England   \n",
       "4                 Darlington        Durham  E12000001  North East  England   \n",
       "...                      ...           ...        ...         ...      ...   \n",
       "397996                Sutton  Metropolitan  E12000007      London  England   \n",
       "397997         Tower Hamlets  Metropolitan  E12000007      London  England   \n",
       "397998        Waltham Forest  Metropolitan  E12000007      London  England   \n",
       "397999            Wandsworth  Metropolitan  E12000007      London  England   \n",
       "398000           Westminster  Metropolitan  E12000007      London  England   \n",
       "\n",
       "       NTN21NM  Frequency  Population  Population Density  Rainfall  \n",
       "0           UK        622     92662.0          987.224740      76.6  \n",
       "1           UK       1063    138911.0         2578.408789      76.6  \n",
       "2           UK        842    134960.0          551.093101      76.6  \n",
       "3           UK       1146    193433.0          948.523664      76.6  \n",
       "4           UK        474    105726.0          535.389019      76.6  \n",
       "...        ...        ...         ...                 ...       ...  \n",
       "397996      UK        314    207707.0         4736.740083     123.6  \n",
       "397997      UK        755    331969.0        16792.402250     123.6  \n",
       "397998      UK        574    276940.0         7135.054362     123.6  \n",
       "397999      UK        590    329735.0         9623.674587     123.6  \n",
       "398000      UK        686    269848.0        12564.042870     123.6  \n",
       "\n",
       "[398001 rows x 15 columns]"
      ]
     },
     "execution_count": 4,
     "metadata": {},
     "output_type": "execute_result"
    }
   ],
   "source": [
    "df"
   ]
  },
  {
   "cell_type": "code",
   "execution_count": 5,
   "id": "1e5199b9-315a-445f-aea0-f6c65e9161f5",
   "metadata": {},
   "outputs": [],
   "source": [
    "df = df.rename({\n",
    "'Crime type' : 'Crime_Type',\n",
    "'LAD19CD': 'LAD_Codes', \n",
    "'LAD19NM': 'LAD_Names',\n",
    "'CTYNM': 'County',\n",
    "'CNTY21NM': 'Country',\n",
    "'NTN21NM':'Nation',\n",
    "'Population Density':'Population_Density'}, axis=1)"
   ]
  },
  {
   "cell_type": "code",
   "execution_count": 6,
   "id": "1c96c5cb-a134-468e-8345-62d68df312e9",
   "metadata": {},
   "outputs": [
    {
     "data": {},
     "metadata": {},
     "output_type": "display_data"
    },
    {
     "data": {
      "application/vnd.holoviews_exec.v0+json": "",
      "text/html": [
       "<div id='1002'>\n",
       "\n",
       "\n",
       "\n",
       "\n",
       "\n",
       "  <div class=\"bk-root\" id=\"7722b62e-cbab-4a1e-9e47-0d6133d3a6c7\" data-root-id=\"1002\"></div>\n",
       "</div>\n",
       "<script type=\"application/javascript\">(function(root) {\n",
       "  function embed_document(root) {\n",
       "    var docs_json = {\"b4cb20f7-fd71-46da-9ef2-22a8a2c7a497\":{\"defs\":[{\"extends\":null,\"module\":null,\"name\":\"ReactiveHTML1\",\"overrides\":[],\"properties\":[]},{\"extends\":null,\"module\":null,\"name\":\"FlexBox1\",\"overrides\":[],\"properties\":[{\"default\":\"flex-start\",\"kind\":null,\"name\":\"align_content\"},{\"default\":\"flex-start\",\"kind\":null,\"name\":\"align_items\"},{\"default\":\"row\",\"kind\":null,\"name\":\"flex_direction\"},{\"default\":\"wrap\",\"kind\":null,\"name\":\"flex_wrap\"},{\"default\":\"flex-start\",\"kind\":null,\"name\":\"justify_content\"}]},{\"extends\":null,\"module\":null,\"name\":\"TemplateActions1\",\"overrides\":[],\"properties\":[{\"default\":0,\"kind\":null,\"name\":\"open_modal\"},{\"default\":0,\"kind\":null,\"name\":\"close_modal\"}]},{\"extends\":null,\"module\":null,\"name\":\"MaterialTemplateActions1\",\"overrides\":[],\"properties\":[{\"default\":0,\"kind\":null,\"name\":\"open_modal\"},{\"default\":0,\"kind\":null,\"name\":\"close_modal\"}]}],\"roots\":{\"references\":[{\"attributes\":{\"end\":2020,\"margin\":[5,10,5,10],\"start\":2013,\"title\":\"Year slider\",\"value\":2014},\"id\":\"1002\",\"type\":\"Slider\"},{\"attributes\":{\"client_comm_id\":\"25d78ddd58ef4bcb8d7ca2cb3ffe2217\",\"comm_id\":\"f53126639bf24e68bd9339dfd0d77a11\",\"plot_id\":\"1002\"},\"id\":\"1003\",\"type\":\"panel.models.comm_manager.CommManager\"},{\"attributes\":{\"reload\":false},\"id\":\"1004\",\"type\":\"panel.models.location.Location\"}],\"root_ids\":[\"1002\",\"1003\",\"1004\"]},\"title\":\"Bokeh Application\",\"version\":\"2.4.2\"}};\n",
       "    var render_items = [{\"docid\":\"b4cb20f7-fd71-46da-9ef2-22a8a2c7a497\",\"root_ids\":[\"1002\"],\"roots\":{\"1002\":\"7722b62e-cbab-4a1e-9e47-0d6133d3a6c7\"}}];\n",
       "    root.Bokeh.embed.embed_items_notebook(docs_json, render_items);\n",
       "  }\n",
       "  if (root.Bokeh !== undefined && root.Bokeh.Panel !== undefined && ( root['Tabulator'] !== undefined)) {\n",
       "    embed_document(root);\n",
       "  } else {\n",
       "    var attempts = 0;\n",
       "    var timer = setInterval(function(root) {\n",
       "      if (root.Bokeh !== undefined && root.Bokeh.Panel !== undefined && (root['Tabulator'] !== undefined)) {\n",
       "        clearInterval(timer);\n",
       "        embed_document(root);\n",
       "      } else if (document.readyState == \"complete\") {\n",
       "        attempts++;\n",
       "        if (attempts > 200) {\n",
       "          clearInterval(timer);\n",
       "          console.log(\"Bokeh: ERROR: Unable to run BokehJS code because BokehJS library is missing\");\n",
       "        }\n",
       "      }\n",
       "    }, 25, root)\n",
       "  }\n",
       "})(window);</script>"
      ],
      "text/plain": [
       "IntSlider(end=2020, name='Year slider', start=2013, value=2014)"
      ]
     },
     "execution_count": 6,
     "metadata": {
      "application/vnd.holoviews_exec.v0+json": {
       "id": "1002"
      }
     },
     "output_type": "execute_result"
    }
   ],
   "source": [
    "year_slider = pn.widgets.IntSlider(name='Year slider', start=2013, end=2020, step=1, value=2014)\n",
    "year_slider"
   ]
  },
  {
   "cell_type": "code",
   "execution_count": 7,
   "id": "73a6d364",
   "metadata": {},
   "outputs": [],
   "source": [
    "select_rgn = pn.widgets.Select(name='Select', options=['North East', 'North West', 'Yorkshire and The Humber',\n",
    "       'East Midlands', 'West Midlands', 'South West', 'East of England',\n",
    "       'South East', 'London'])"
   ]
  },
  {
   "cell_type": "code",
   "execution_count": 8,
   "id": "24f13483-af7e-4d7c-a736-5b918fe787b0",
   "metadata": {},
   "outputs": [],
   "source": [
    "idf = df.interactive()"
   ]
  },
  {
   "cell_type": "code",
   "execution_count": 9,
   "id": "99fd1334-4791-4ac6-b0d7-cb36171fed1b",
   "metadata": {},
   "outputs": [],
   "source": [
    "crimeyr_pipeline = (\n",
    "    idf[\n",
    "        (idf.Year == year_slider) &\n",
    "        (idf.RGN19NM == select_rgn)\n",
    "    ].groupby(['Year', 'Crime_Type'])['Frequency'].sum()\n",
    "    .to_frame()\n",
    "    .reset_index()\n",
    "    .sort_values(by='Crime_Type') \n",
    "    .reset_index(drop=True)\n",
    ")"
   ]
  },
  {
   "cell_type": "code",
   "execution_count": 10,
   "id": "f7e0e385",
   "metadata": {},
   "outputs": [
    {
     "data": {
      "text/plain": [
       "hvplot.interactive.Interactive"
      ]
     },
     "execution_count": 10,
     "metadata": {},
     "output_type": "execute_result"
    }
   ],
   "source": [
    "type(crimeyr_pipeline)"
   ]
  },
  {
   "cell_type": "code",
   "execution_count": 11,
   "id": "834e972e-d52e-45aa-ba9c-1e55a105b0b7",
   "metadata": {},
   "outputs": [
    {
     "data": {},
     "metadata": {},
     "output_type": "display_data"
    },
    {
     "data": {
      "application/vnd.holoviews_exec.v0+json": "",
      "text/html": [
       "<div id='1005'>\n",
       "\n",
       "\n",
       "\n",
       "\n",
       "\n",
       "  <div class=\"bk-root\" id=\"95de8eb5-b77b-49d1-a300-7eaadb33fd4d\" data-root-id=\"1005\"></div>\n",
       "</div>\n",
       "<script type=\"application/javascript\">(function(root) {\n",
       "  function embed_document(root) {\n",
       "    var docs_json = {\"17e2c054-4786-4e0c-af5a-8fd9277a1291\":{\"defs\":[{\"extends\":null,\"module\":null,\"name\":\"ReactiveHTML1\",\"overrides\":[],\"properties\":[]},{\"extends\":null,\"module\":null,\"name\":\"FlexBox1\",\"overrides\":[],\"properties\":[{\"default\":\"flex-start\",\"kind\":null,\"name\":\"align_content\"},{\"default\":\"flex-start\",\"kind\":null,\"name\":\"align_items\"},{\"default\":\"row\",\"kind\":null,\"name\":\"flex_direction\"},{\"default\":\"wrap\",\"kind\":null,\"name\":\"flex_wrap\"},{\"default\":\"flex-start\",\"kind\":null,\"name\":\"justify_content\"}]},{\"extends\":null,\"module\":null,\"name\":\"TemplateActions1\",\"overrides\":[],\"properties\":[{\"default\":0,\"kind\":null,\"name\":\"open_modal\"},{\"default\":0,\"kind\":null,\"name\":\"close_modal\"}]},{\"extends\":null,\"module\":null,\"name\":\"MaterialTemplateActions1\",\"overrides\":[],\"properties\":[{\"default\":0,\"kind\":null,\"name\":\"open_modal\"},{\"default\":0,\"kind\":null,\"name\":\"close_modal\"}]}],\"roots\":{\"references\":[{\"attributes\":{\"end\":2020,\"margin\":[5,10,5,10],\"start\":2013,\"title\":\"Year slider\",\"value\":2014},\"id\":\"1009\",\"type\":\"Slider\"},{\"attributes\":{},\"id\":\"1032\",\"type\":\"UnionRenderers\"},{\"attributes\":{\"data\":{\"Crime_Type\":[\"Anti-social behaviour\",\"Bicycle theft\",\"Burglary\",\"Criminal damage and arson\",\"Drugs\",\"Other crime\",\"Other theft\",\"Possession of weapons\",\"Public order\",\"Robbery\",\"Shoplifting\",\"Theft from the person\",\"Vehicle crime\",\"Violence and sexual offences\"],\"Frequency\":[152417,3648,15954,28668,7102,2058,18880,1124,5389,871,18488,1306,10926,29235],\"Year\":[2014,2014,2014,2014,2014,2014,2014,2014,2014,2014,2014,2014,2014,2014],\"index\":[0,1,2,3,4,5,6,7,8,9,10,11,12,13]},\"selected\":{\"id\":\"1014\"},\"selection_policy\":{\"id\":\"1032\"}},\"id\":\"1013\",\"type\":\"ColumnDataSource\"},{\"attributes\":{\"children\":[{\"id\":\"1008\"},{\"id\":\"1011\"}],\"margin\":[0,0,0,0],\"name\":\"Row01963\"},\"id\":\"1007\",\"type\":\"Row\"},{\"attributes\":{\"margin\":[5,5,5,5],\"name\":\"HSpacer01962\",\"sizing_mode\":\"stretch_width\"},\"id\":\"1011\",\"type\":\"Spacer\"},{\"attributes\":{\"editor\":{\"id\":\"1021\"},\"field\":\"Crime_Type\",\"formatter\":{\"id\":\"1020\"},\"title\":\"Crime_Type\",\"width\":0},\"id\":\"1022\",\"type\":\"TableColumn\"},{\"attributes\":{\"editor\":{\"id\":\"1026\"},\"field\":\"Frequency\",\"formatter\":{\"id\":\"1025\"},\"title\":\"Frequency\",\"width\":0},\"id\":\"1027\",\"type\":\"TableColumn\"},{\"attributes\":{},\"id\":\"1025\",\"type\":\"NumberFormatter\"},{\"attributes\":{\"children\":[{\"id\":\"1030\"}],\"margin\":[0,0,0,0],\"name\":\"Row01932\"},\"id\":\"1012\",\"type\":\"Row\"},{\"attributes\":{\"children\":[{\"id\":\"1006\"}],\"margin\":[0,0,0,0],\"name\":\"Row01965\"},\"id\":\"1005\",\"type\":\"Row\"},{\"attributes\":{\"children\":[{\"id\":\"1009\"},{\"id\":\"1010\"}],\"margin\":[0,0,0,0],\"name\":\"Column01927\"},\"id\":\"1008\",\"type\":\"Column\"},{\"attributes\":{\"columns\":[{\"id\":\"1017\"},{\"id\":\"1022\"},{\"id\":\"1027\"}],\"configuration\":{\"columns\":[{\"field\":\"Year\"},{\"field\":\"Crime_Type\"},{\"field\":\"Frequency\"}],\"dataTree\":false,\"selectable\":true},\"height\":450,\"layout\":\"fit_columns\",\"margin\":[5,10,5,10],\"max_page\":1,\"name\":\"\",\"page\":1,\"page_size\":14,\"pagination\":\"remote\",\"selectable_rows\":null,\"source\":{\"id\":\"1013\"}},\"id\":\"1030\",\"type\":\"panel.models.tabulator.DataTabulator\"},{\"attributes\":{\"margin\":[5,10,5,10],\"options\":[\"North East\",\"North West\",\"Yorkshire and The Humber\",\"East Midlands\",\"West Midlands\",\"South West\",\"East of England\",\"South East\",\"London\"],\"title\":\"Select\",\"value\":\"North East\"},\"id\":\"1010\",\"type\":\"Select\"},{\"attributes\":{\"children\":[{\"id\":\"1007\"},{\"id\":\"1012\"}],\"margin\":[0,0,0,0],\"name\":\"Column01964\"},\"id\":\"1006\",\"type\":\"Column\"},{\"attributes\":{},\"id\":\"1020\",\"type\":\"StringFormatter\"},{\"attributes\":{},\"id\":\"1026\",\"type\":\"IntEditor\"},{\"attributes\":{\"client_comm_id\":\"7430982907204b3482c80e4e215f5c82\",\"comm_id\":\"559e00f804f94d0c8b1c604455a90b08\",\"plot_id\":\"1005\"},\"id\":\"1038\",\"type\":\"panel.models.comm_manager.CommManager\"},{\"attributes\":{},\"id\":\"1021\",\"type\":\"StringEditor\"},{\"attributes\":{\"editor\":{\"id\":\"1016\"},\"field\":\"Year\",\"formatter\":{\"id\":\"1015\"},\"title\":\"Year\",\"width\":0},\"id\":\"1017\",\"type\":\"TableColumn\"},{\"attributes\":{},\"id\":\"1015\",\"type\":\"NumberFormatter\"},{\"attributes\":{\"indices\":[]},\"id\":\"1014\",\"type\":\"Selection\"},{\"attributes\":{},\"id\":\"1016\",\"type\":\"IntEditor\"}],\"root_ids\":[\"1005\",\"1038\"]},\"title\":\"Bokeh Application\",\"version\":\"2.4.2\"}};\n",
       "    var render_items = [{\"docid\":\"17e2c054-4786-4e0c-af5a-8fd9277a1291\",\"root_ids\":[\"1005\"],\"roots\":{\"1005\":\"95de8eb5-b77b-49d1-a300-7eaadb33fd4d\"}}];\n",
       "    root.Bokeh.embed.embed_items_notebook(docs_json, render_items);\n",
       "  }\n",
       "  if (root.Bokeh !== undefined && root.Bokeh.Panel !== undefined && ( root['Tabulator'] !== undefined)) {\n",
       "    embed_document(root);\n",
       "  } else {\n",
       "    var attempts = 0;\n",
       "    var timer = setInterval(function(root) {\n",
       "      if (root.Bokeh !== undefined && root.Bokeh.Panel !== undefined && (root['Tabulator'] !== undefined)) {\n",
       "        clearInterval(timer);\n",
       "        embed_document(root);\n",
       "      } else if (document.readyState == \"complete\") {\n",
       "        attempts++;\n",
       "        if (attempts > 200) {\n",
       "          clearInterval(timer);\n",
       "          console.log(\"Bokeh: ERROR: Unable to run BokehJS code because BokehJS library is missing\");\n",
       "        }\n",
       "      }\n",
       "    }, 25, root)\n",
       "  }\n",
       "})(window);</script>"
      ],
      "text/plain": [
       "<hvplot.interactive.Interactive at 0x24108114940>"
      ]
     },
     "execution_count": 11,
     "metadata": {
      "application/vnd.holoviews_exec.v0+json": {
       "id": "1005"
      }
     },
     "output_type": "execute_result"
    }
   ],
   "source": [
    "cryr_plot = crimeyr_pipeline.pipe(pn.widgets.Tabulator, pagination='remote', page_size = 14, layout='fit_columns',show_index=False) \n",
    "cryr_plot"
   ]
  },
  {
   "cell_type": "code",
   "execution_count": null,
   "id": "cdfe6c2f-5b7d-40a2-bd9c-3599a5e4c148",
   "metadata": {},
   "outputs": [],
   "source": []
  },
  {
   "cell_type": "code",
   "execution_count": 12,
   "id": "3663590e-5459-4220-86f5-246ab98e85aa",
   "metadata": {},
   "outputs": [],
   "source": [
    "select_typ = pn.widgets.Select(name='Select', options=['Anti-social behaviour', 'Bicycle theft', 'Burglary',\n",
    "       'Criminal damage and arson', 'Drugs', 'Other crime', 'Other theft',\n",
    "       'Possession of weapons', 'Public order', 'Robbery', 'Shoplifting',\n",
    "       'Theft from the person', 'Vehicle crime',\n",
    "       'Violence and sexual offences'])"
   ]
  },
  {
   "cell_type": "code",
   "execution_count": 13,
   "id": "235e4116",
   "metadata": {},
   "outputs": [],
   "source": [
    "crimeyrtp_pipeline = (\n",
    "    idf[\n",
    "        (idf.Year == year_slider) &\n",
    "        (idf.Crime_Type == select_typ)\n",
    "    ].groupby(['Year', 'RGN19NM'])['Frequency'].sum()\n",
    "    .to_frame()\n",
    "    .reset_index()\n",
    "    .sort_values(by='RGN19NM') \n",
    "    .reset_index(drop=True)\n",
    ")"
   ]
  },
  {
   "cell_type": "code",
   "execution_count": 14,
   "id": "014bb56c",
   "metadata": {},
   "outputs": [
    {
     "data": {},
     "metadata": {},
     "output_type": "display_data"
    },
    {
     "data": {
      "application/vnd.holoviews_exec.v0+json": "",
      "text/html": [
       "<div id='1049'>\n",
       "\n",
       "\n",
       "\n",
       "\n",
       "\n",
       "  <div class=\"bk-root\" id=\"8f82446a-7069-44c2-aab3-00bc27f425fa\" data-root-id=\"1049\"></div>\n",
       "</div>\n",
       "<script type=\"application/javascript\">(function(root) {\n",
       "  function embed_document(root) {\n",
       "    var docs_json = {\"1a69f8a7-01e7-4b4c-aec9-08d58ebbc4db\":{\"defs\":[{\"extends\":null,\"module\":null,\"name\":\"ReactiveHTML1\",\"overrides\":[],\"properties\":[]},{\"extends\":null,\"module\":null,\"name\":\"FlexBox1\",\"overrides\":[],\"properties\":[{\"default\":\"flex-start\",\"kind\":null,\"name\":\"align_content\"},{\"default\":\"flex-start\",\"kind\":null,\"name\":\"align_items\"},{\"default\":\"row\",\"kind\":null,\"name\":\"flex_direction\"},{\"default\":\"wrap\",\"kind\":null,\"name\":\"flex_wrap\"},{\"default\":\"flex-start\",\"kind\":null,\"name\":\"justify_content\"}]},{\"extends\":null,\"module\":null,\"name\":\"TemplateActions1\",\"overrides\":[],\"properties\":[{\"default\":0,\"kind\":null,\"name\":\"open_modal\"},{\"default\":0,\"kind\":null,\"name\":\"close_modal\"}]},{\"extends\":null,\"module\":null,\"name\":\"MaterialTemplateActions1\",\"overrides\":[],\"properties\":[{\"default\":0,\"kind\":null,\"name\":\"open_modal\"},{\"default\":0,\"kind\":null,\"name\":\"close_modal\"}]}],\"roots\":{\"references\":[{\"attributes\":{\"children\":[{\"id\":\"1074\"}],\"margin\":[0,0,0,0],\"name\":\"Row02296\"},\"id\":\"1056\",\"type\":\"Row\"},{\"attributes\":{},\"id\":\"1060\",\"type\":\"IntEditor\"},{\"attributes\":{\"margin\":[5,5,5,5],\"name\":\"HSpacer02326\",\"sizing_mode\":\"stretch_width\"},\"id\":\"1055\",\"type\":\"Spacer\"},{\"attributes\":{\"children\":[{\"id\":\"1050\"}],\"margin\":[0,0,0,0],\"name\":\"Row02329\"},\"id\":\"1049\",\"type\":\"Row\"},{\"attributes\":{\"editor\":{\"id\":\"1070\"},\"field\":\"Frequency\",\"formatter\":{\"id\":\"1069\"},\"title\":\"Frequency\",\"width\":0},\"id\":\"1071\",\"type\":\"TableColumn\"},{\"attributes\":{},\"id\":\"1064\",\"type\":\"StringFormatter\"},{\"attributes\":{\"children\":[{\"id\":\"1051\"},{\"id\":\"1056\"}],\"margin\":[0,0,0,0],\"name\":\"Column02328\"},\"id\":\"1050\",\"type\":\"Column\"},{\"attributes\":{},\"id\":\"1070\",\"type\":\"IntEditor\"},{\"attributes\":{\"children\":[{\"id\":\"1053\"},{\"id\":\"1054\"}],\"margin\":[0,0,0,0],\"name\":\"Column02291\"},\"id\":\"1052\",\"type\":\"Column\"},{\"attributes\":{\"data\":{\"Frequency\":[159216,168876,256611,152417,324063,241757,168495,168202,215592],\"RGN19NM\":[\"East Midlands\",\"East of England\",\"London\",\"North East\",\"North West\",\"South East\",\"South West\",\"West Midlands\",\"Yorkshire and The Humber\"],\"Year\":[2014,2014,2014,2014,2014,2014,2014,2014,2014],\"index\":[0,1,2,3,4,5,6,7,8]},\"selected\":{\"id\":\"1058\"},\"selection_policy\":{\"id\":\"1076\"}},\"id\":\"1057\",\"type\":\"ColumnDataSource\"},{\"attributes\":{\"children\":[{\"id\":\"1052\"},{\"id\":\"1055\"}],\"margin\":[0,0,0,0],\"name\":\"Row02327\"},\"id\":\"1051\",\"type\":\"Row\"},{\"attributes\":{},\"id\":\"1069\",\"type\":\"NumberFormatter\"},{\"attributes\":{},\"id\":\"1059\",\"type\":\"NumberFormatter\"},{\"attributes\":{\"columns\":[{\"id\":\"1061\"},{\"id\":\"1066\"},{\"id\":\"1071\"}],\"configuration\":{\"columns\":[{\"field\":\"Year\"},{\"field\":\"RGN19NM\"},{\"field\":\"Frequency\"}],\"dataTree\":false,\"selectable\":true},\"height\":300,\"layout\":\"fit_columns\",\"margin\":[5,10,5,10],\"max_page\":1,\"name\":\"\",\"page\":1,\"page_size\":9,\"pagination\":\"remote\",\"selectable_rows\":null,\"source\":{\"id\":\"1057\"}},\"id\":\"1074\",\"type\":\"panel.models.tabulator.DataTabulator\"},{\"attributes\":{\"end\":2020,\"margin\":[5,10,5,10],\"start\":2013,\"title\":\"Year slider\",\"value\":2014},\"id\":\"1053\",\"type\":\"Slider\"},{\"attributes\":{\"margin\":[5,10,5,10],\"options\":[\"Anti-social behaviour\",\"Bicycle theft\",\"Burglary\",\"Criminal damage and arson\",\"Drugs\",\"Other crime\",\"Other theft\",\"Possession of weapons\",\"Public order\",\"Robbery\",\"Shoplifting\",\"Theft from the person\",\"Vehicle crime\",\"Violence and sexual offences\"],\"title\":\"Select\",\"value\":\"Anti-social behaviour\"},\"id\":\"1054\",\"type\":\"Select\"},{\"attributes\":{\"editor\":{\"id\":\"1065\"},\"field\":\"RGN19NM\",\"formatter\":{\"id\":\"1064\"},\"title\":\"RGN19NM\",\"width\":0},\"id\":\"1066\",\"type\":\"TableColumn\"},{\"attributes\":{\"indices\":[]},\"id\":\"1058\",\"type\":\"Selection\"},{\"attributes\":{\"client_comm_id\":\"5829653af3874cd4a8c205363bc0af31\",\"comm_id\":\"df0fc21bf6384a188ee8688c030ac529\",\"plot_id\":\"1049\"},\"id\":\"1082\",\"type\":\"panel.models.comm_manager.CommManager\"},{\"attributes\":{\"editor\":{\"id\":\"1060\"},\"field\":\"Year\",\"formatter\":{\"id\":\"1059\"},\"title\":\"Year\",\"width\":0},\"id\":\"1061\",\"type\":\"TableColumn\"},{\"attributes\":{},\"id\":\"1076\",\"type\":\"UnionRenderers\"},{\"attributes\":{},\"id\":\"1065\",\"type\":\"StringEditor\"}],\"root_ids\":[\"1049\",\"1082\"]},\"title\":\"Bokeh Application\",\"version\":\"2.4.2\"}};\n",
       "    var render_items = [{\"docid\":\"1a69f8a7-01e7-4b4c-aec9-08d58ebbc4db\",\"root_ids\":[\"1049\"],\"roots\":{\"1049\":\"8f82446a-7069-44c2-aab3-00bc27f425fa\"}}];\n",
       "    root.Bokeh.embed.embed_items_notebook(docs_json, render_items);\n",
       "  }\n",
       "  if (root.Bokeh !== undefined && root.Bokeh.Panel !== undefined && ( root['Tabulator'] !== undefined)) {\n",
       "    embed_document(root);\n",
       "  } else {\n",
       "    var attempts = 0;\n",
       "    var timer = setInterval(function(root) {\n",
       "      if (root.Bokeh !== undefined && root.Bokeh.Panel !== undefined && (root['Tabulator'] !== undefined)) {\n",
       "        clearInterval(timer);\n",
       "        embed_document(root);\n",
       "      } else if (document.readyState == \"complete\") {\n",
       "        attempts++;\n",
       "        if (attempts > 200) {\n",
       "          clearInterval(timer);\n",
       "          console.log(\"Bokeh: ERROR: Unable to run BokehJS code because BokehJS library is missing\");\n",
       "        }\n",
       "      }\n",
       "    }, 25, root)\n",
       "  }\n",
       "})(window);</script>"
      ],
      "text/plain": [
       "<hvplot.interactive.Interactive at 0x24108d02c70>"
      ]
     },
     "execution_count": 14,
     "metadata": {
      "application/vnd.holoviews_exec.v0+json": {
       "id": "1049"
      }
     },
     "output_type": "execute_result"
    }
   ],
   "source": [
    "cryrtyp_plot = crimeyrtp_pipeline.pipe(pn.widgets.Tabulator, pagination='remote', page_size = 9, layout='fit_columns',show_index=False) \n",
    "cryrtyp_plot"
   ]
  },
  {
   "cell_type": "code",
   "execution_count": 15,
   "id": "31de351d-5569-4ee5-b8e2-a5856435f361",
   "metadata": {},
   "outputs": [],
   "source": [
    "crimergn_pipeline = (\n",
    "    idf[(idf.RGN19NM == select_rgn )].groupby(['Year_Month'])['Frequency'].sum()\n",
    "    .to_frame()\n",
    "    .reset_index()\n",
    "    .sort_values(by='Year_Month') \n",
    "    .reset_index(drop=True)\n",
    ")"
   ]
  },
  {
   "cell_type": "code",
   "execution_count": 16,
   "id": "ec67cc22-4696-4dde-9e2a-49fb994bfedd",
   "metadata": {},
   "outputs": [
    {
     "data": {},
     "metadata": {},
     "output_type": "display_data"
    },
    {
     "data": {},
     "metadata": {},
     "output_type": "display_data"
    },
    {
     "data": {
      "application/vnd.holoviews_exec.v0+json": "",
      "text/html": [
       "<div id='1093'>\n",
       "\n",
       "\n",
       "\n",
       "\n",
       "\n",
       "  <div class=\"bk-root\" id=\"e26424e2-fc1d-454b-a18b-31a1a4f82956\" data-root-id=\"1093\"></div>\n",
       "</div>\n",
       "<script type=\"application/javascript\">(function(root) {\n",
       "  function embed_document(root) {\n",
       "    var docs_json = {\"0402bae1-2739-4207-a00c-7fb1ce5ed63c\":{\"defs\":[{\"extends\":null,\"module\":null,\"name\":\"ReactiveHTML1\",\"overrides\":[],\"properties\":[]},{\"extends\":null,\"module\":null,\"name\":\"FlexBox1\",\"overrides\":[],\"properties\":[{\"default\":\"flex-start\",\"kind\":null,\"name\":\"align_content\"},{\"default\":\"flex-start\",\"kind\":null,\"name\":\"align_items\"},{\"default\":\"row\",\"kind\":null,\"name\":\"flex_direction\"},{\"default\":\"wrap\",\"kind\":null,\"name\":\"flex_wrap\"},{\"default\":\"flex-start\",\"kind\":null,\"name\":\"justify_content\"}]},{\"extends\":null,\"module\":null,\"name\":\"TemplateActions1\",\"overrides\":[],\"properties\":[{\"default\":0,\"kind\":null,\"name\":\"open_modal\"},{\"default\":0,\"kind\":null,\"name\":\"close_modal\"}]},{\"extends\":null,\"module\":null,\"name\":\"MaterialTemplateActions1\",\"overrides\":[],\"properties\":[{\"default\":0,\"kind\":null,\"name\":\"open_modal\"},{\"default\":0,\"kind\":null,\"name\":\"close_modal\"}]}],\"roots\":{\"references\":[{\"attributes\":{\"axis\":{\"id\":\"1111\"},\"coordinates\":null,\"grid_line_color\":null,\"group\":null,\"ticker\":null},\"id\":\"1113\",\"type\":\"Grid\"},{\"attributes\":{},\"id\":\"1132\",\"type\":\"Selection\"},{\"attributes\":{\"axis_label\":\"Year_Month\",\"coordinates\":null,\"formatter\":{\"id\":\"1141\"},\"group\":null,\"major_label_policy\":{\"id\":\"1142\"},\"ticker\":{\"id\":\"1112\"}},\"id\":\"1111\",\"type\":\"CategoricalAxis\"},{\"attributes\":{\"tools\":[{\"id\":\"1101\"},{\"id\":\"1118\"},{\"id\":\"1119\"},{\"id\":\"1120\"},{\"id\":\"1121\"},{\"id\":\"1122\"}]},\"id\":\"1124\",\"type\":\"Toolbar\"},{\"attributes\":{\"callback\":null,\"renderers\":[{\"id\":\"1137\"}],\"tags\":[\"hv_created\"],\"tooltips\":[[\"Year_Month\",\"@{Year_Month}\"],[\"Frequency\",\"@{Frequency}\"]]},\"id\":\"1101\",\"type\":\"HoverTool\"},{\"attributes\":{\"coordinates\":null,\"group\":null,\"text\":\"Total Crime Frequency plot for Region across 2013-2020\",\"text_color\":\"black\",\"text_font_size\":\"12pt\"},\"id\":\"1103\",\"type\":\"Title\"},{\"attributes\":{\"line_color\":\"#30a2da\",\"line_width\":2,\"x\":{\"field\":\"Year_Month\"},\"y\":{\"field\":\"Frequency\"}},\"id\":\"1134\",\"type\":\"Line\"},{\"attributes\":{\"axis\":{\"id\":\"1114\"},\"coordinates\":null,\"dimension\":1,\"grid_line_color\":null,\"group\":null,\"ticker\":null},\"id\":\"1117\",\"type\":\"Grid\"},{\"attributes\":{\"data\":{\"Frequency\":[23827,24858,28101,27130,24119,25106,23415,20829,21328,21565,25259,24624,26020,26162,26737,25193,25917,26804,24771,21686,21778,21646,25171,26047,25682,25810,26929,27249,25047,28836,25525,24282,24409,25246,27883,27074,28844,27072,30859,29703,30314,31398,27185,28025,28093,27178,32742,32208,33784,32737,34562,35641,32883,36131,32412,30332,30975,29456,32536,33219,36246,35082,36966,34044,32594,35092,32388,29995,30513,30396,33500,32401,31813,32388,33807,33249,31734,32791,29800,26228,30843,29066,29435,33895,36021,32068,29814,33623,32125,33978,31113,27391],\"Year_Month\":[\"2013-05\",\"2013-06\",\"2013-07\",\"2013-08\",\"2013-09\",\"2013-10\",\"2013-11\",\"2013-12\",\"2014-01\",\"2014-02\",\"2014-03\",\"2014-04\",\"2014-05\",\"2014-06\",\"2014-07\",\"2014-08\",\"2014-09\",\"2014-10\",\"2014-11\",\"2014-12\",\"2015-01\",\"2015-02\",\"2015-03\",\"2015-04\",\"2015-05\",\"2015-06\",\"2015-07\",\"2015-08\",\"2015-09\",\"2015-10\",\"2015-11\",\"2015-12\",\"2016-01\",\"2016-02\",\"2016-03\",\"2016-04\",\"2016-05\",\"2016-06\",\"2016-07\",\"2016-08\",\"2016-09\",\"2016-10\",\"2016-11\",\"2016-12\",\"2017-01\",\"2017-02\",\"2017-03\",\"2017-04\",\"2017-05\",\"2017-06\",\"2017-07\",\"2017-08\",\"2017-09\",\"2017-10\",\"2017-11\",\"2017-12\",\"2018-01\",\"2018-02\",\"2018-03\",\"2018-04\",\"2018-05\",\"2018-06\",\"2018-07\",\"2018-08\",\"2018-09\",\"2018-10\",\"2018-11\",\"2018-12\",\"2019-01\",\"2019-02\",\"2019-03\",\"2019-04\",\"2019-05\",\"2019-06\",\"2019-07\",\"2019-08\",\"2019-09\",\"2019-10\",\"2019-11\",\"2019-12\",\"2020-01\",\"2020-02\",\"2020-03\",\"2020-04\",\"2020-05\",\"2020-06\",\"2020-07\",\"2020-08\",\"2020-09\",\"2020-10\",\"2020-11\",\"2020-12\"]},\"selected\":{\"id\":\"1132\"},\"selection_policy\":{\"id\":\"1153\"}},\"id\":\"1131\",\"type\":\"ColumnDataSource\"},{\"attributes\":{\"axis_label\":\"Frequency\",\"coordinates\":null,\"formatter\":{\"id\":\"1144\"},\"group\":null,\"major_label_policy\":{\"id\":\"1145\"},\"ticker\":{\"id\":\"1115\"}},\"id\":\"1114\",\"type\":\"LinearAxis\"},{\"attributes\":{},\"id\":\"1120\",\"type\":\"WheelZoomTool\"},{\"attributes\":{},\"id\":\"1119\",\"type\":\"PanTool\"},{\"attributes\":{\"children\":[{\"id\":\"1096\"},{\"id\":\"1098\"}],\"margin\":[0,0,0,0],\"name\":\"Row02658\"},\"id\":\"1095\",\"type\":\"Row\"},{\"attributes\":{},\"id\":\"1109\",\"type\":\"LinearScale\"},{\"attributes\":{},\"id\":\"1141\",\"type\":\"CategoricalTickFormatter\"},{\"attributes\":{},\"id\":\"1115\",\"type\":\"BasicTicker\"},{\"attributes\":{\"children\":[{\"id\":\"1094\"}],\"margin\":[0,0,0,0],\"name\":\"Row02665\"},\"id\":\"1093\",\"type\":\"Row\"},{\"attributes\":{},\"id\":\"1112\",\"type\":\"CategoricalTicker\"},{\"attributes\":{},\"id\":\"1118\",\"type\":\"SaveTool\"},{\"attributes\":{},\"id\":\"1107\",\"type\":\"CategoricalScale\"},{\"attributes\":{\"factors\":[\"2013-05\",\"2013-06\",\"2013-07\",\"2013-08\",\"2013-09\",\"2013-10\",\"2013-11\",\"2013-12\",\"2014-01\",\"2014-02\",\"2014-03\",\"2014-04\",\"2014-05\",\"2014-06\",\"2014-07\",\"2014-08\",\"2014-09\",\"2014-10\",\"2014-11\",\"2014-12\",\"2015-01\",\"2015-02\",\"2015-03\",\"2015-04\",\"2015-05\",\"2015-06\",\"2015-07\",\"2015-08\",\"2015-09\",\"2015-10\",\"2015-11\",\"2015-12\",\"2016-01\",\"2016-02\",\"2016-03\",\"2016-04\",\"2016-05\",\"2016-06\",\"2016-07\",\"2016-08\",\"2016-09\",\"2016-10\",\"2016-11\",\"2016-12\",\"2017-01\",\"2017-02\",\"2017-03\",\"2017-04\",\"2017-05\",\"2017-06\",\"2017-07\",\"2017-08\",\"2017-09\",\"2017-10\",\"2017-11\",\"2017-12\",\"2018-01\",\"2018-02\",\"2018-03\",\"2018-04\",\"2018-05\",\"2018-06\",\"2018-07\",\"2018-08\",\"2018-09\",\"2018-10\",\"2018-11\",\"2018-12\",\"2019-01\",\"2019-02\",\"2019-03\",\"2019-04\",\"2019-05\",\"2019-06\",\"2019-07\",\"2019-08\",\"2019-09\",\"2019-10\",\"2019-11\",\"2019-12\",\"2020-01\",\"2020-02\",\"2020-03\",\"2020-04\",\"2020-05\",\"2020-06\",\"2020-07\",\"2020-08\",\"2020-09\",\"2020-10\",\"2020-11\",\"2020-12\"],\"tags\":[[[\"Year_Month\",\"Year_Month\",null]]]},\"id\":\"1099\",\"type\":\"FactorRange\"},{\"attributes\":{\"overlay\":{\"id\":\"1123\"}},\"id\":\"1121\",\"type\":\"BoxZoomTool\"},{\"attributes\":{\"end\":38579.7,\"reset_end\":38579.7,\"reset_start\":19215.3,\"start\":19215.3,\"tags\":[[[\"Frequency\",\"Frequency\",null]]]},\"id\":\"1100\",\"type\":\"Range1d\"},{\"attributes\":{},\"id\":\"1122\",\"type\":\"ResetTool\"},{\"attributes\":{\"margin\":[5,5,5,5],\"name\":\"HSpacer02657\",\"sizing_mode\":\"stretch_width\"},\"id\":\"1098\",\"type\":\"Spacer\"},{\"attributes\":{\"line_color\":\"#30a2da\",\"line_width\":2,\"x\":{\"field\":\"Year_Month\"},\"y\":{\"field\":\"Frequency\"}},\"id\":\"1139\",\"type\":\"Line\"},{\"attributes\":{\"source\":{\"id\":\"1131\"}},\"id\":\"1138\",\"type\":\"CDSView\"},{\"attributes\":{\"bottom_units\":\"screen\",\"coordinates\":null,\"fill_alpha\":0.5,\"fill_color\":\"lightgrey\",\"group\":null,\"left_units\":\"screen\",\"level\":\"overlay\",\"line_alpha\":1.0,\"line_color\":\"black\",\"line_dash\":[4,4],\"line_width\":2,\"right_units\":\"screen\",\"syncable\":false,\"top_units\":\"screen\"},\"id\":\"1123\",\"type\":\"BoxAnnotation\"},{\"attributes\":{\"line_alpha\":0.2,\"line_color\":\"#30a2da\",\"line_width\":2,\"x\":{\"field\":\"Year_Month\"},\"y\":{\"field\":\"Frequency\"}},\"id\":\"1136\",\"type\":\"Line\"},{\"attributes\":{\"below\":[{\"id\":\"1111\"}],\"center\":[{\"id\":\"1113\"},{\"id\":\"1117\"}],\"height\":300,\"left\":[{\"id\":\"1114\"}],\"margin\":[5,5,5,5],\"min_border_bottom\":10,\"min_border_left\":10,\"min_border_right\":10,\"min_border_top\":10,\"renderers\":[{\"id\":\"1137\"}],\"sizing_mode\":\"fixed\",\"title\":{\"id\":\"1103\"},\"toolbar\":{\"id\":\"1124\"},\"width\":700,\"x_range\":{\"id\":\"1099\"},\"x_scale\":{\"id\":\"1107\"},\"y_range\":{\"id\":\"1100\"},\"y_scale\":{\"id\":\"1109\"}},\"id\":\"1102\",\"subtype\":\"Figure\",\"type\":\"Plot\"},{\"attributes\":{\"children\":[{\"id\":\"1097\"}],\"margin\":[0,0,0,0],\"name\":\"Column02653\"},\"id\":\"1096\",\"type\":\"Column\"},{\"attributes\":{\"coordinates\":null,\"data_source\":{\"id\":\"1131\"},\"glyph\":{\"id\":\"1134\"},\"group\":null,\"hover_glyph\":null,\"muted_glyph\":{\"id\":\"1136\"},\"nonselection_glyph\":{\"id\":\"1135\"},\"selection_glyph\":{\"id\":\"1139\"},\"view\":{\"id\":\"1138\"}},\"id\":\"1137\",\"type\":\"GlyphRenderer\"},{\"attributes\":{\"margin\":[5,10,5,10],\"options\":[\"North East\",\"North West\",\"Yorkshire and The Humber\",\"East Midlands\",\"West Midlands\",\"South West\",\"East of England\",\"South East\",\"London\"],\"title\":\"Select\",\"value\":\"North East\"},\"id\":\"1097\",\"type\":\"Select\"},{\"attributes\":{},\"id\":\"1142\",\"type\":\"AllLabels\"},{\"attributes\":{},\"id\":\"1153\",\"type\":\"UnionRenderers\"},{\"attributes\":{\"line_alpha\":0.1,\"line_color\":\"#30a2da\",\"line_width\":2,\"x\":{\"field\":\"Year_Month\"},\"y\":{\"field\":\"Frequency\"}},\"id\":\"1135\",\"type\":\"Line\"},{\"attributes\":{\"client_comm_id\":\"3b7be06a3cb74278b2c320ea11e0b217\",\"comm_id\":\"6aa64979f0484328abf665ec1779eb69\",\"plot_id\":\"1093\"},\"id\":\"1196\",\"type\":\"panel.models.comm_manager.CommManager\"},{\"attributes\":{},\"id\":\"1144\",\"type\":\"BasicTickFormatter\"},{\"attributes\":{},\"id\":\"1145\",\"type\":\"AllLabels\"},{\"attributes\":{\"children\":[{\"id\":\"1095\"},{\"id\":\"1102\"}],\"margin\":[0,0,0,0],\"name\":\"Column02664\"},\"id\":\"1094\",\"type\":\"Column\"}],\"root_ids\":[\"1093\",\"1196\"]},\"title\":\"Bokeh Application\",\"version\":\"2.4.2\"}};\n",
       "    var render_items = [{\"docid\":\"0402bae1-2739-4207-a00c-7fb1ce5ed63c\",\"root_ids\":[\"1093\"],\"roots\":{\"1093\":\"e26424e2-fc1d-454b-a18b-31a1a4f82956\"}}];\n",
       "    root.Bokeh.embed.embed_items_notebook(docs_json, render_items);\n",
       "  }\n",
       "  if (root.Bokeh !== undefined && root.Bokeh.Panel !== undefined && ( root['Tabulator'] !== undefined)) {\n",
       "    embed_document(root);\n",
       "  } else {\n",
       "    var attempts = 0;\n",
       "    var timer = setInterval(function(root) {\n",
       "      if (root.Bokeh !== undefined && root.Bokeh.Panel !== undefined && (root['Tabulator'] !== undefined)) {\n",
       "        clearInterval(timer);\n",
       "        embed_document(root);\n",
       "      } else if (document.readyState == \"complete\") {\n",
       "        attempts++;\n",
       "        if (attempts > 200) {\n",
       "          clearInterval(timer);\n",
       "          console.log(\"Bokeh: ERROR: Unable to run BokehJS code because BokehJS library is missing\");\n",
       "        }\n",
       "      }\n",
       "    }, 25, root)\n",
       "  }\n",
       "})(window);</script>"
      ],
      "text/plain": [
       "<hvplot.interactive.Interactive at 0x24108d020d0>"
      ]
     },
     "execution_count": 16,
     "metadata": {
      "application/vnd.holoviews_exec.v0+json": {
       "id": "1093"
      }
     },
     "output_type": "execute_result"
    }
   ],
   "source": [
    "crrgn_plot = crimergn_pipeline.hvplot(x = 'Year_Month', y='Frequency',line_width=2, title=\"Total Crime Frequency plot for Region across 2013-2020\")\n",
    "crrgn_plot"
   ]
  },
  {
   "cell_type": "code",
   "execution_count": 17,
   "id": "9f82acbe-edb5-4501-975f-fe4fb1498d67",
   "metadata": {},
   "outputs": [],
   "source": [
    "crimetyp_pipeline = (\n",
    "    idf[(idf.Crime_Type == select_typ )].groupby(['Year_Month'])['Frequency'].sum()\n",
    "    .to_frame()\n",
    "    .reset_index()\n",
    "    .sort_values(by='Year_Month') \n",
    "    .reset_index(drop=True)\n",
    ")"
   ]
  },
  {
   "cell_type": "code",
   "execution_count": 18,
   "id": "64ed815c-9e7a-4c68-944b-6d3696a99feb",
   "metadata": {
    "scrolled": true
   },
   "outputs": [
    {
     "data": {},
     "metadata": {},
     "output_type": "display_data"
    },
    {
     "data": {},
     "metadata": {},
     "output_type": "display_data"
    },
    {
     "data": {
      "application/vnd.holoviews_exec.v0+json": "",
      "text/html": [
       "<div id='1247'>\n",
       "\n",
       "\n",
       "\n",
       "\n",
       "\n",
       "  <div class=\"bk-root\" id=\"c7e064a5-8be6-480b-a138-08a39fbcc1fd\" data-root-id=\"1247\"></div>\n",
       "</div>\n",
       "<script type=\"application/javascript\">(function(root) {\n",
       "  function embed_document(root) {\n",
       "    var docs_json = {\"75ef66e4-c242-42a4-81a4-e222bc4ac6b8\":{\"defs\":[{\"extends\":null,\"module\":null,\"name\":\"ReactiveHTML1\",\"overrides\":[],\"properties\":[]},{\"extends\":null,\"module\":null,\"name\":\"FlexBox1\",\"overrides\":[],\"properties\":[{\"default\":\"flex-start\",\"kind\":null,\"name\":\"align_content\"},{\"default\":\"flex-start\",\"kind\":null,\"name\":\"align_items\"},{\"default\":\"row\",\"kind\":null,\"name\":\"flex_direction\"},{\"default\":\"wrap\",\"kind\":null,\"name\":\"flex_wrap\"},{\"default\":\"flex-start\",\"kind\":null,\"name\":\"justify_content\"}]},{\"extends\":null,\"module\":null,\"name\":\"TemplateActions1\",\"overrides\":[],\"properties\":[{\"default\":0,\"kind\":null,\"name\":\"open_modal\"},{\"default\":0,\"kind\":null,\"name\":\"close_modal\"}]},{\"extends\":null,\"module\":null,\"name\":\"MaterialTemplateActions1\",\"overrides\":[],\"properties\":[{\"default\":0,\"kind\":null,\"name\":\"open_modal\"},{\"default\":0,\"kind\":null,\"name\":\"close_modal\"}]}],\"roots\":{\"references\":[{\"attributes\":{\"children\":[{\"id\":\"1251\"}],\"margin\":[0,0,0,0],\"name\":\"Column03184\"},\"id\":\"1250\",\"type\":\"Column\"},{\"attributes\":{},\"id\":\"1296\",\"type\":\"AllLabels\"},{\"attributes\":{\"coordinates\":null,\"group\":null,\"text\":\"Total Crime Frequency plot for crime type across 2013-2020\",\"text_color\":\"black\",\"text_font_size\":\"12pt\"},\"id\":\"1257\",\"type\":\"Title\"},{\"attributes\":{\"end\":239226.0,\"reset_end\":239226.0,\"reset_start\":59802.0,\"start\":59802.0,\"tags\":[[[\"Frequency\",\"Frequency\",null]]]},\"id\":\"1254\",\"type\":\"Range1d\"},{\"attributes\":{\"line_alpha\":0.1,\"line_color\":\"#30a2da\",\"line_width\":2,\"x\":{\"field\":\"Year_Month\"},\"y\":{\"field\":\"Frequency\"}},\"id\":\"1289\",\"type\":\"Line\"},{\"attributes\":{},\"id\":\"1307\",\"type\":\"UnionRenderers\"},{\"attributes\":{\"axis\":{\"id\":\"1268\"},\"coordinates\":null,\"dimension\":1,\"grid_line_color\":null,\"group\":null,\"ticker\":null},\"id\":\"1271\",\"type\":\"Grid\"},{\"attributes\":{},\"id\":\"1299\",\"type\":\"AllLabels\"},{\"attributes\":{},\"id\":\"1286\",\"type\":\"Selection\"},{\"attributes\":{\"children\":[{\"id\":\"1249\"},{\"id\":\"1256\"}],\"margin\":[0,0,0,0],\"name\":\"Column03195\"},\"id\":\"1248\",\"type\":\"Column\"},{\"attributes\":{},\"id\":\"1269\",\"type\":\"BasicTicker\"},{\"attributes\":{\"tools\":[{\"id\":\"1255\"},{\"id\":\"1272\"},{\"id\":\"1273\"},{\"id\":\"1274\"},{\"id\":\"1275\"},{\"id\":\"1276\"}]},\"id\":\"1278\",\"type\":\"Toolbar\"},{\"attributes\":{\"client_comm_id\":\"f5d0d9f36b36427b98c52d0fbe08fbe3\",\"comm_id\":\"cb233f3a807b4e6aae1972d002a40297\",\"plot_id\":\"1247\"},\"id\":\"1350\",\"type\":\"panel.models.comm_manager.CommManager\"},{\"attributes\":{\"below\":[{\"id\":\"1265\"}],\"center\":[{\"id\":\"1267\"},{\"id\":\"1271\"}],\"height\":300,\"left\":[{\"id\":\"1268\"}],\"margin\":[5,5,5,5],\"min_border_bottom\":10,\"min_border_left\":10,\"min_border_right\":10,\"min_border_top\":10,\"renderers\":[{\"id\":\"1291\"}],\"sizing_mode\":\"fixed\",\"title\":{\"id\":\"1257\"},\"toolbar\":{\"id\":\"1278\"},\"width\":700,\"x_range\":{\"id\":\"1253\"},\"x_scale\":{\"id\":\"1261\"},\"y_range\":{\"id\":\"1254\"},\"y_scale\":{\"id\":\"1263\"}},\"id\":\"1256\",\"subtype\":\"Figure\",\"type\":\"Plot\"},{\"attributes\":{\"line_color\":\"#30a2da\",\"line_width\":2,\"x\":{\"field\":\"Year_Month\"},\"y\":{\"field\":\"Frequency\"}},\"id\":\"1288\",\"type\":\"Line\"},{\"attributes\":{},\"id\":\"1273\",\"type\":\"PanTool\"},{\"attributes\":{},\"id\":\"1263\",\"type\":\"LinearScale\"},{\"attributes\":{},\"id\":\"1298\",\"type\":\"BasicTickFormatter\"},{\"attributes\":{\"children\":[{\"id\":\"1250\"},{\"id\":\"1252\"}],\"margin\":[0,0,0,0],\"name\":\"Row03189\"},\"id\":\"1249\",\"type\":\"Row\"},{\"attributes\":{},\"id\":\"1295\",\"type\":\"CategoricalTickFormatter\"},{\"attributes\":{\"axis_label\":\"Frequency\",\"coordinates\":null,\"formatter\":{\"id\":\"1298\"},\"group\":null,\"major_label_policy\":{\"id\":\"1299\"},\"ticker\":{\"id\":\"1269\"}},\"id\":\"1268\",\"type\":\"LinearAxis\"},{\"attributes\":{\"data\":{\"Frequency\":[172711,182271,224274,206004,161867,164490,145347,129527,126733,122766,153274,160154,167203,178163,198481,168263,166031,157793,137274,119094,119835,119747,138206,151344,152625,160159,169777,165672,140933,151729,124569,117842,116996,115969,132711,135062,155056,153811,173418,167687,153637,155011,119864,116657,113576,111725,135027,141394,143575,142418,150675,146636,124133,138177,111432,100343,98761,92195,103848,111952,121322,121747,130237,119407,101936,106835,89571,83585,88191,90394,101212,107993,111108,111502,123506,115706,97088,99244,84534,74754,82112,78759,101532,203363,206067,163119,141664,145907,124407,131396,126915,110940],\"Year_Month\":[\"2013-05\",\"2013-06\",\"2013-07\",\"2013-08\",\"2013-09\",\"2013-10\",\"2013-11\",\"2013-12\",\"2014-01\",\"2014-02\",\"2014-03\",\"2014-04\",\"2014-05\",\"2014-06\",\"2014-07\",\"2014-08\",\"2014-09\",\"2014-10\",\"2014-11\",\"2014-12\",\"2015-01\",\"2015-02\",\"2015-03\",\"2015-04\",\"2015-05\",\"2015-06\",\"2015-07\",\"2015-08\",\"2015-09\",\"2015-10\",\"2015-11\",\"2015-12\",\"2016-01\",\"2016-02\",\"2016-03\",\"2016-04\",\"2016-05\",\"2016-06\",\"2016-07\",\"2016-08\",\"2016-09\",\"2016-10\",\"2016-11\",\"2016-12\",\"2017-01\",\"2017-02\",\"2017-03\",\"2017-04\",\"2017-05\",\"2017-06\",\"2017-07\",\"2017-08\",\"2017-09\",\"2017-10\",\"2017-11\",\"2017-12\",\"2018-01\",\"2018-02\",\"2018-03\",\"2018-04\",\"2018-05\",\"2018-06\",\"2018-07\",\"2018-08\",\"2018-09\",\"2018-10\",\"2018-11\",\"2018-12\",\"2019-01\",\"2019-02\",\"2019-03\",\"2019-04\",\"2019-05\",\"2019-06\",\"2019-07\",\"2019-08\",\"2019-09\",\"2019-10\",\"2019-11\",\"2019-12\",\"2020-01\",\"2020-02\",\"2020-03\",\"2020-04\",\"2020-05\",\"2020-06\",\"2020-07\",\"2020-08\",\"2020-09\",\"2020-10\",\"2020-11\",\"2020-12\"]},\"selected\":{\"id\":\"1286\"},\"selection_policy\":{\"id\":\"1307\"}},\"id\":\"1285\",\"type\":\"ColumnDataSource\"},{\"attributes\":{\"children\":[{\"id\":\"1248\"}],\"margin\":[0,0,0,0],\"name\":\"Row03196\"},\"id\":\"1247\",\"type\":\"Row\"},{\"attributes\":{\"factors\":[\"2013-05\",\"2013-06\",\"2013-07\",\"2013-08\",\"2013-09\",\"2013-10\",\"2013-11\",\"2013-12\",\"2014-01\",\"2014-02\",\"2014-03\",\"2014-04\",\"2014-05\",\"2014-06\",\"2014-07\",\"2014-08\",\"2014-09\",\"2014-10\",\"2014-11\",\"2014-12\",\"2015-01\",\"2015-02\",\"2015-03\",\"2015-04\",\"2015-05\",\"2015-06\",\"2015-07\",\"2015-08\",\"2015-09\",\"2015-10\",\"2015-11\",\"2015-12\",\"2016-01\",\"2016-02\",\"2016-03\",\"2016-04\",\"2016-05\",\"2016-06\",\"2016-07\",\"2016-08\",\"2016-09\",\"2016-10\",\"2016-11\",\"2016-12\",\"2017-01\",\"2017-02\",\"2017-03\",\"2017-04\",\"2017-05\",\"2017-06\",\"2017-07\",\"2017-08\",\"2017-09\",\"2017-10\",\"2017-11\",\"2017-12\",\"2018-01\",\"2018-02\",\"2018-03\",\"2018-04\",\"2018-05\",\"2018-06\",\"2018-07\",\"2018-08\",\"2018-09\",\"2018-10\",\"2018-11\",\"2018-12\",\"2019-01\",\"2019-02\",\"2019-03\",\"2019-04\",\"2019-05\",\"2019-06\",\"2019-07\",\"2019-08\",\"2019-09\",\"2019-10\",\"2019-11\",\"2019-12\",\"2020-01\",\"2020-02\",\"2020-03\",\"2020-04\",\"2020-05\",\"2020-06\",\"2020-07\",\"2020-08\",\"2020-09\",\"2020-10\",\"2020-11\",\"2020-12\"],\"tags\":[[[\"Year_Month\",\"Year_Month\",null]]]},\"id\":\"1253\",\"type\":\"FactorRange\"},{\"attributes\":{},\"id\":\"1272\",\"type\":\"SaveTool\"},{\"attributes\":{},\"id\":\"1274\",\"type\":\"WheelZoomTool\"},{\"attributes\":{\"callback\":null,\"renderers\":[{\"id\":\"1291\"}],\"tags\":[\"hv_created\"],\"tooltips\":[[\"Year_Month\",\"@{Year_Month}\"],[\"Frequency\",\"@{Frequency}\"]]},\"id\":\"1255\",\"type\":\"HoverTool\"},{\"attributes\":{\"axis\":{\"id\":\"1265\"},\"coordinates\":null,\"grid_line_color\":null,\"group\":null,\"ticker\":null},\"id\":\"1267\",\"type\":\"Grid\"},{\"attributes\":{\"axis_label\":\"Year_Month\",\"coordinates\":null,\"formatter\":{\"id\":\"1295\"},\"group\":null,\"major_label_policy\":{\"id\":\"1296\"},\"ticker\":{\"id\":\"1266\"}},\"id\":\"1265\",\"type\":\"CategoricalAxis\"},{\"attributes\":{\"overlay\":{\"id\":\"1277\"}},\"id\":\"1275\",\"type\":\"BoxZoomTool\"},{\"attributes\":{},\"id\":\"1276\",\"type\":\"ResetTool\"},{\"attributes\":{\"line_alpha\":0.2,\"line_color\":\"#30a2da\",\"line_width\":2,\"x\":{\"field\":\"Year_Month\"},\"y\":{\"field\":\"Frequency\"}},\"id\":\"1290\",\"type\":\"Line\"},{\"attributes\":{\"margin\":[5,10,5,10],\"options\":[\"Anti-social behaviour\",\"Bicycle theft\",\"Burglary\",\"Criminal damage and arson\",\"Drugs\",\"Other crime\",\"Other theft\",\"Possession of weapons\",\"Public order\",\"Robbery\",\"Shoplifting\",\"Theft from the person\",\"Vehicle crime\",\"Violence and sexual offences\"],\"title\":\"Select\",\"value\":\"Anti-social behaviour\"},\"id\":\"1251\",\"type\":\"Select\"},{\"attributes\":{\"line_color\":\"#30a2da\",\"line_width\":2,\"x\":{\"field\":\"Year_Month\"},\"y\":{\"field\":\"Frequency\"}},\"id\":\"1293\",\"type\":\"Line\"},{\"attributes\":{\"bottom_units\":\"screen\",\"coordinates\":null,\"fill_alpha\":0.5,\"fill_color\":\"lightgrey\",\"group\":null,\"left_units\":\"screen\",\"level\":\"overlay\",\"line_alpha\":1.0,\"line_color\":\"black\",\"line_dash\":[4,4],\"line_width\":2,\"right_units\":\"screen\",\"syncable\":false,\"top_units\":\"screen\"},\"id\":\"1277\",\"type\":\"BoxAnnotation\"},{\"attributes\":{\"source\":{\"id\":\"1285\"}},\"id\":\"1292\",\"type\":\"CDSView\"},{\"attributes\":{\"margin\":[5,5,5,5],\"name\":\"HSpacer03188\",\"sizing_mode\":\"stretch_width\"},\"id\":\"1252\",\"type\":\"Spacer\"},{\"attributes\":{\"coordinates\":null,\"data_source\":{\"id\":\"1285\"},\"glyph\":{\"id\":\"1288\"},\"group\":null,\"hover_glyph\":null,\"muted_glyph\":{\"id\":\"1290\"},\"nonselection_glyph\":{\"id\":\"1289\"},\"selection_glyph\":{\"id\":\"1293\"},\"view\":{\"id\":\"1292\"}},\"id\":\"1291\",\"type\":\"GlyphRenderer\"},{\"attributes\":{},\"id\":\"1266\",\"type\":\"CategoricalTicker\"},{\"attributes\":{},\"id\":\"1261\",\"type\":\"CategoricalScale\"}],\"root_ids\":[\"1247\",\"1350\"]},\"title\":\"Bokeh Application\",\"version\":\"2.4.2\"}};\n",
       "    var render_items = [{\"docid\":\"75ef66e4-c242-42a4-81a4-e222bc4ac6b8\",\"root_ids\":[\"1247\"],\"roots\":{\"1247\":\"c7e064a5-8be6-480b-a138-08a39fbcc1fd\"}}];\n",
       "    root.Bokeh.embed.embed_items_notebook(docs_json, render_items);\n",
       "  }\n",
       "  if (root.Bokeh !== undefined && root.Bokeh.Panel !== undefined && ( root['Tabulator'] !== undefined)) {\n",
       "    embed_document(root);\n",
       "  } else {\n",
       "    var attempts = 0;\n",
       "    var timer = setInterval(function(root) {\n",
       "      if (root.Bokeh !== undefined && root.Bokeh.Panel !== undefined && (root['Tabulator'] !== undefined)) {\n",
       "        clearInterval(timer);\n",
       "        embed_document(root);\n",
       "      } else if (document.readyState == \"complete\") {\n",
       "        attempts++;\n",
       "        if (attempts > 200) {\n",
       "          clearInterval(timer);\n",
       "          console.log(\"Bokeh: ERROR: Unable to run BokehJS code because BokehJS library is missing\");\n",
       "        }\n",
       "      }\n",
       "    }, 25, root)\n",
       "  }\n",
       "})(window);</script>"
      ],
      "text/plain": [
       "<hvplot.interactive.Interactive at 0x24108ddc520>"
      ]
     },
     "execution_count": 18,
     "metadata": {
      "application/vnd.holoviews_exec.v0+json": {
       "id": "1247"
      }
     },
     "output_type": "execute_result"
    }
   ],
   "source": [
    "crtyp_plot = crimetyp_pipeline.hvplot(x = 'Year_Month', y='Frequency',line_width=2, title=\"Total Crime Frequency plot for crime type across 2013-2020\")\n",
    "crtyp_plot"
   ]
  },
  {
   "cell_type": "code",
   "execution_count": 19,
   "id": "fcda4b4c-f775-4cdc-8535-f43924b6b799",
   "metadata": {},
   "outputs": [
    {
     "name": "stdout",
     "output_type": "stream",
     "text": [
      "Launching server at http://localhost:61803\n"
     ]
    },
    {
     "data": {
      "text/plain": [
       "<bokeh.server.server.Server at 0x24108eef400>"
      ]
     },
     "execution_count": 19,
     "metadata": {},
     "output_type": "execute_result"
    }
   ],
   "source": [
    "template = pn.template.FastListTemplate(\n",
    "    title='Crime frequency:England dashboard', \n",
    "    sidebar=[pn.pane.Markdown(\"# Crime frequency England dashboard\"), \n",
    "             pn.pane.Markdown(\"#### Choose from the options below\"), \n",
    "             pn.pane.Markdown(\"## Settings\"),   \n",
    "             year_slider,select_rgn,select_typ],\n",
    "    main=[pn.Row(pn.Column(cryr_plot.panel(width=260), margin=(0,25)), \n",
    "                 pn.Column(crrgn_plot.panel(width=700))), \n",
    "          pn.Row(pn.Column(cryrtyp_plot.panel(width=260), margin=(0,25)),\n",
    "              pn.Column(crtyp_plot.panel(width=700))\n",
    "                 )],\n",
    "    accent_base_color=\"#88d8b0\",\n",
    "    header_background=\"#88d8b0\",\n",
    ")\n",
    "template.show()\n",
    "#template.servable();"
   ]
  },
  {
   "cell_type": "code",
   "execution_count": null,
   "id": "f300ead0-a965-4a56-9a24-9242112c520a",
   "metadata": {},
   "outputs": [],
   "source": []
  },
  {
   "cell_type": "code",
   "execution_count": null,
   "id": "c4d74644-393c-4b48-8fc8-89387bfc6a9c",
   "metadata": {},
   "outputs": [],
   "source": []
  },
  {
   "cell_type": "code",
   "execution_count": null,
   "id": "1cabea9c-f4dc-4157-8741-b42ddfab1634",
   "metadata": {},
   "outputs": [],
   "source": []
  },
  {
   "cell_type": "code",
   "execution_count": null,
   "id": "633a9852-2022-4d2d-a28f-50fb3e235b83",
   "metadata": {},
   "outputs": [],
   "source": []
  }
 ],
 "metadata": {
  "kernelspec": {
   "display_name": "Python 3 (ipykernel)",
   "language": "python",
   "name": "python3"
  },
  "language_info": {
   "codemirror_mode": {
    "name": "ipython",
    "version": 3
   },
   "file_extension": ".py",
   "mimetype": "text/x-python",
   "name": "python",
   "nbconvert_exporter": "python",
   "pygments_lexer": "ipython3",
   "version": "3.8.8"
  }
 },
 "nbformat": 4,
 "nbformat_minor": 5
}
