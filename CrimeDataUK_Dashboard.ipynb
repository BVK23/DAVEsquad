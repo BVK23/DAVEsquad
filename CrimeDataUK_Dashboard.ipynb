{
 "cells": [
  {
   "cell_type": "code",
   "execution_count": 64,
   "id": "8583514b-2af8-44d4-a2df-081397d35425",
   "metadata": {},
   "outputs": [],
   "source": [
    "import pandas as pd\n",
    "import numpy as np\n",
    "import panel as pn\n",
    "pn.extension('tabulator')\n",
    "\n",
    "import hvplot.pandas"
   ]
  },
  {
   "cell_type": "code",
   "execution_count": 65,
   "id": "d88da374-5abc-49d0-b6d8-7a933346261a",
   "metadata": {},
   "outputs": [],
   "source": [
    "df = pd.read_csv(\"Data_Final1.csv\")\n",
    "df = df[df['Year_Month'] <= '2020-12']"
   ]
  },
  {
   "cell_type": "code",
   "execution_count": 66,
   "id": "36a27241-dabd-4b62-bc74-f3164a5ffe6a",
   "metadata": {},
   "outputs": [
    {
     "data": {
      "text/html": [
       "<div>\n",
       "<style scoped>\n",
       "    .dataframe tbody tr th:only-of-type {\n",
       "        vertical-align: middle;\n",
       "    }\n",
       "\n",
       "    .dataframe tbody tr th {\n",
       "        vertical-align: top;\n",
       "    }\n",
       "\n",
       "    .dataframe thead th {\n",
       "        text-align: right;\n",
       "    }\n",
       "</style>\n",
       "<table border=\"1\" class=\"dataframe\">\n",
       "  <thead>\n",
       "    <tr style=\"text-align: right;\">\n",
       "      <th></th>\n",
       "      <th>Year</th>\n",
       "      <th>Month</th>\n",
       "      <th>Year_Month</th>\n",
       "      <th>Crime type</th>\n",
       "      <th>LAD19CD</th>\n",
       "      <th>LAD19NM</th>\n",
       "      <th>CTYNM</th>\n",
       "      <th>RGN19CD</th>\n",
       "      <th>RGN19NM</th>\n",
       "      <th>CNTY21NM</th>\n",
       "      <th>NTN21NM</th>\n",
       "      <th>Frequency</th>\n",
       "      <th>Population</th>\n",
       "      <th>Population Density</th>\n",
       "      <th>Rainfall</th>\n",
       "    </tr>\n",
       "  </thead>\n",
       "  <tbody>\n",
       "    <tr>\n",
       "      <th>0</th>\n",
       "      <td>2013</td>\n",
       "      <td>5</td>\n",
       "      <td>2013-05</td>\n",
       "      <td>Anti-social behaviour</td>\n",
       "      <td>E06000001</td>\n",
       "      <td>Hartlepool</td>\n",
       "      <td>Cleveland</td>\n",
       "      <td>E12000001</td>\n",
       "      <td>North East</td>\n",
       "      <td>England</td>\n",
       "      <td>UK</td>\n",
       "      <td>622</td>\n",
       "      <td>92662.0</td>\n",
       "      <td>987.224740</td>\n",
       "      <td>76.6</td>\n",
       "    </tr>\n",
       "    <tr>\n",
       "      <th>1</th>\n",
       "      <td>2013</td>\n",
       "      <td>5</td>\n",
       "      <td>2013-05</td>\n",
       "      <td>Anti-social behaviour</td>\n",
       "      <td>E06000002</td>\n",
       "      <td>Middlesbrough</td>\n",
       "      <td>Cleveland</td>\n",
       "      <td>E12000001</td>\n",
       "      <td>North East</td>\n",
       "      <td>England</td>\n",
       "      <td>UK</td>\n",
       "      <td>1063</td>\n",
       "      <td>138911.0</td>\n",
       "      <td>2578.408789</td>\n",
       "      <td>76.6</td>\n",
       "    </tr>\n",
       "    <tr>\n",
       "      <th>2</th>\n",
       "      <td>2013</td>\n",
       "      <td>5</td>\n",
       "      <td>2013-05</td>\n",
       "      <td>Anti-social behaviour</td>\n",
       "      <td>E06000003</td>\n",
       "      <td>Redcar and Cleveland</td>\n",
       "      <td>Cleveland</td>\n",
       "      <td>E12000001</td>\n",
       "      <td>North East</td>\n",
       "      <td>England</td>\n",
       "      <td>UK</td>\n",
       "      <td>842</td>\n",
       "      <td>134960.0</td>\n",
       "      <td>551.093101</td>\n",
       "      <td>76.6</td>\n",
       "    </tr>\n",
       "    <tr>\n",
       "      <th>3</th>\n",
       "      <td>2013</td>\n",
       "      <td>5</td>\n",
       "      <td>2013-05</td>\n",
       "      <td>Anti-social behaviour</td>\n",
       "      <td>E06000004</td>\n",
       "      <td>Stockton-on-Tees</td>\n",
       "      <td>Cleveland</td>\n",
       "      <td>E12000001</td>\n",
       "      <td>North East</td>\n",
       "      <td>England</td>\n",
       "      <td>UK</td>\n",
       "      <td>1146</td>\n",
       "      <td>193433.0</td>\n",
       "      <td>948.523664</td>\n",
       "      <td>76.6</td>\n",
       "    </tr>\n",
       "    <tr>\n",
       "      <th>4</th>\n",
       "      <td>2013</td>\n",
       "      <td>5</td>\n",
       "      <td>2013-05</td>\n",
       "      <td>Anti-social behaviour</td>\n",
       "      <td>E06000005</td>\n",
       "      <td>Darlington</td>\n",
       "      <td>Durham</td>\n",
       "      <td>E12000001</td>\n",
       "      <td>North East</td>\n",
       "      <td>England</td>\n",
       "      <td>UK</td>\n",
       "      <td>474</td>\n",
       "      <td>105726.0</td>\n",
       "      <td>535.389019</td>\n",
       "      <td>76.6</td>\n",
       "    </tr>\n",
       "    <tr>\n",
       "      <th>...</th>\n",
       "      <td>...</td>\n",
       "      <td>...</td>\n",
       "      <td>...</td>\n",
       "      <td>...</td>\n",
       "      <td>...</td>\n",
       "      <td>...</td>\n",
       "      <td>...</td>\n",
       "      <td>...</td>\n",
       "      <td>...</td>\n",
       "      <td>...</td>\n",
       "      <td>...</td>\n",
       "      <td>...</td>\n",
       "      <td>...</td>\n",
       "      <td>...</td>\n",
       "      <td>...</td>\n",
       "    </tr>\n",
       "    <tr>\n",
       "      <th>397996</th>\n",
       "      <td>2020</td>\n",
       "      <td>12</td>\n",
       "      <td>2020-12</td>\n",
       "      <td>Violence and sexual offences</td>\n",
       "      <td>E09000029</td>\n",
       "      <td>Sutton</td>\n",
       "      <td>Metropolitan</td>\n",
       "      <td>E12000007</td>\n",
       "      <td>London</td>\n",
       "      <td>England</td>\n",
       "      <td>UK</td>\n",
       "      <td>314</td>\n",
       "      <td>207707.0</td>\n",
       "      <td>4736.740083</td>\n",
       "      <td>123.6</td>\n",
       "    </tr>\n",
       "    <tr>\n",
       "      <th>397997</th>\n",
       "      <td>2020</td>\n",
       "      <td>12</td>\n",
       "      <td>2020-12</td>\n",
       "      <td>Violence and sexual offences</td>\n",
       "      <td>E09000030</td>\n",
       "      <td>Tower Hamlets</td>\n",
       "      <td>Metropolitan</td>\n",
       "      <td>E12000007</td>\n",
       "      <td>London</td>\n",
       "      <td>England</td>\n",
       "      <td>UK</td>\n",
       "      <td>755</td>\n",
       "      <td>331969.0</td>\n",
       "      <td>16792.402250</td>\n",
       "      <td>123.6</td>\n",
       "    </tr>\n",
       "    <tr>\n",
       "      <th>397998</th>\n",
       "      <td>2020</td>\n",
       "      <td>12</td>\n",
       "      <td>2020-12</td>\n",
       "      <td>Violence and sexual offences</td>\n",
       "      <td>E09000031</td>\n",
       "      <td>Waltham Forest</td>\n",
       "      <td>Metropolitan</td>\n",
       "      <td>E12000007</td>\n",
       "      <td>London</td>\n",
       "      <td>England</td>\n",
       "      <td>UK</td>\n",
       "      <td>574</td>\n",
       "      <td>276940.0</td>\n",
       "      <td>7135.054362</td>\n",
       "      <td>123.6</td>\n",
       "    </tr>\n",
       "    <tr>\n",
       "      <th>397999</th>\n",
       "      <td>2020</td>\n",
       "      <td>12</td>\n",
       "      <td>2020-12</td>\n",
       "      <td>Violence and sexual offences</td>\n",
       "      <td>E09000032</td>\n",
       "      <td>Wandsworth</td>\n",
       "      <td>Metropolitan</td>\n",
       "      <td>E12000007</td>\n",
       "      <td>London</td>\n",
       "      <td>England</td>\n",
       "      <td>UK</td>\n",
       "      <td>590</td>\n",
       "      <td>329735.0</td>\n",
       "      <td>9623.674587</td>\n",
       "      <td>123.6</td>\n",
       "    </tr>\n",
       "    <tr>\n",
       "      <th>398000</th>\n",
       "      <td>2020</td>\n",
       "      <td>12</td>\n",
       "      <td>2020-12</td>\n",
       "      <td>Violence and sexual offences</td>\n",
       "      <td>E09000033</td>\n",
       "      <td>Westminster</td>\n",
       "      <td>Metropolitan</td>\n",
       "      <td>E12000007</td>\n",
       "      <td>London</td>\n",
       "      <td>England</td>\n",
       "      <td>UK</td>\n",
       "      <td>686</td>\n",
       "      <td>269848.0</td>\n",
       "      <td>12564.042870</td>\n",
       "      <td>123.6</td>\n",
       "    </tr>\n",
       "  </tbody>\n",
       "</table>\n",
       "<p>398001 rows × 15 columns</p>\n",
       "</div>"
      ],
      "text/plain": [
       "        Year  Month Year_Month                    Crime type    LAD19CD  \\\n",
       "0       2013      5    2013-05         Anti-social behaviour  E06000001   \n",
       "1       2013      5    2013-05         Anti-social behaviour  E06000002   \n",
       "2       2013      5    2013-05         Anti-social behaviour  E06000003   \n",
       "3       2013      5    2013-05         Anti-social behaviour  E06000004   \n",
       "4       2013      5    2013-05         Anti-social behaviour  E06000005   \n",
       "...      ...    ...        ...                           ...        ...   \n",
       "397996  2020     12    2020-12  Violence and sexual offences  E09000029   \n",
       "397997  2020     12    2020-12  Violence and sexual offences  E09000030   \n",
       "397998  2020     12    2020-12  Violence and sexual offences  E09000031   \n",
       "397999  2020     12    2020-12  Violence and sexual offences  E09000032   \n",
       "398000  2020     12    2020-12  Violence and sexual offences  E09000033   \n",
       "\n",
       "                     LAD19NM         CTYNM    RGN19CD     RGN19NM CNTY21NM  \\\n",
       "0                 Hartlepool     Cleveland  E12000001  North East  England   \n",
       "1              Middlesbrough     Cleveland  E12000001  North East  England   \n",
       "2       Redcar and Cleveland     Cleveland  E12000001  North East  England   \n",
       "3           Stockton-on-Tees     Cleveland  E12000001  North East  England   \n",
       "4                 Darlington        Durham  E12000001  North East  England   \n",
       "...                      ...           ...        ...         ...      ...   \n",
       "397996                Sutton  Metropolitan  E12000007      London  England   \n",
       "397997         Tower Hamlets  Metropolitan  E12000007      London  England   \n",
       "397998        Waltham Forest  Metropolitan  E12000007      London  England   \n",
       "397999            Wandsworth  Metropolitan  E12000007      London  England   \n",
       "398000           Westminster  Metropolitan  E12000007      London  England   \n",
       "\n",
       "       NTN21NM  Frequency  Population  Population Density  Rainfall  \n",
       "0           UK        622     92662.0          987.224740      76.6  \n",
       "1           UK       1063    138911.0         2578.408789      76.6  \n",
       "2           UK        842    134960.0          551.093101      76.6  \n",
       "3           UK       1146    193433.0          948.523664      76.6  \n",
       "4           UK        474    105726.0          535.389019      76.6  \n",
       "...        ...        ...         ...                 ...       ...  \n",
       "397996      UK        314    207707.0         4736.740083     123.6  \n",
       "397997      UK        755    331969.0        16792.402250     123.6  \n",
       "397998      UK        574    276940.0         7135.054362     123.6  \n",
       "397999      UK        590    329735.0         9623.674587     123.6  \n",
       "398000      UK        686    269848.0        12564.042870     123.6  \n",
       "\n",
       "[398001 rows x 15 columns]"
      ]
     },
     "execution_count": 66,
     "metadata": {},
     "output_type": "execute_result"
    }
   ],
   "source": [
    "df"
   ]
  },
  {
   "cell_type": "code",
   "execution_count": 67,
   "id": "1e5199b9-315a-445f-aea0-f6c65e9161f5",
   "metadata": {},
   "outputs": [],
   "source": [
    "df = df.rename({\n",
    "'Crime type' : 'Crime_Type',\n",
    "'LAD19CD': 'LAD_Codes', \n",
    "'LAD19NM': 'LAD_Names',\n",
    "'CTYNM': 'County',\n",
    "'CNTY21NM': 'Country',\n",
    "'NTN21NM':'Nation',\n",
    "'Population Density':'Population_Density'}, axis=1)"
   ]
  },
  {
   "cell_type": "code",
   "execution_count": 68,
   "id": "1c96c5cb-a134-468e-8345-62d68df312e9",
   "metadata": {},
   "outputs": [
    {
     "data": {},
     "metadata": {},
     "output_type": "display_data"
    },
    {
     "data": {
      "application/vnd.holoviews_exec.v0+json": "",
      "text/html": [
       "<div id='35623'>\n",
       "\n",
       "\n",
       "\n",
       "\n",
       "\n",
       "  <div class=\"bk-root\" id=\"9b573eca-d2be-45ec-9210-5d13673279b1\" data-root-id=\"35623\"></div>\n",
       "</div>\n",
       "<script type=\"application/javascript\">(function(root) {\n",
       "  function embed_document(root) {\n",
       "    var docs_json = {\"2bf287ec-e2ae-4989-b350-e7a1b947834a\":{\"defs\":[{\"extends\":null,\"module\":null,\"name\":\"ReactiveHTML1\",\"overrides\":[],\"properties\":[]},{\"extends\":null,\"module\":null,\"name\":\"FlexBox1\",\"overrides\":[],\"properties\":[{\"default\":\"flex-start\",\"kind\":null,\"name\":\"align_content\"},{\"default\":\"flex-start\",\"kind\":null,\"name\":\"align_items\"},{\"default\":\"row\",\"kind\":null,\"name\":\"flex_direction\"},{\"default\":\"wrap\",\"kind\":null,\"name\":\"flex_wrap\"},{\"default\":\"flex-start\",\"kind\":null,\"name\":\"justify_content\"}]},{\"extends\":null,\"module\":null,\"name\":\"TemplateActions1\",\"overrides\":[],\"properties\":[{\"default\":0,\"kind\":null,\"name\":\"open_modal\"},{\"default\":0,\"kind\":null,\"name\":\"close_modal\"}]},{\"extends\":null,\"module\":null,\"name\":\"MaterialTemplateActions1\",\"overrides\":[],\"properties\":[{\"default\":0,\"kind\":null,\"name\":\"open_modal\"},{\"default\":0,\"kind\":null,\"name\":\"close_modal\"}]}],\"roots\":{\"references\":[{\"attributes\":{\"client_comm_id\":\"6f250d3388af4faeb6de87163b09c006\",\"comm_id\":\"64e27513f6094cd4a9fc93126442e55a\",\"plot_id\":\"35623\"},\"id\":\"35624\",\"type\":\"panel.models.comm_manager.CommManager\"},{\"attributes\":{\"end\":2020,\"margin\":[5,10,5,10],\"start\":2013,\"title\":\"Year slider\",\"value\":2014},\"id\":\"35623\",\"type\":\"Slider\"}],\"root_ids\":[\"35623\",\"35624\"]},\"title\":\"Bokeh Application\",\"version\":\"2.4.2\"}};\n",
       "    var render_items = [{\"docid\":\"2bf287ec-e2ae-4989-b350-e7a1b947834a\",\"root_ids\":[\"35623\"],\"roots\":{\"35623\":\"9b573eca-d2be-45ec-9210-5d13673279b1\"}}];\n",
       "    root.Bokeh.embed.embed_items_notebook(docs_json, render_items);\n",
       "  }\n",
       "  if (root.Bokeh !== undefined && root.Bokeh.Panel !== undefined && ( root['Tabulator'] !== undefined)) {\n",
       "    embed_document(root);\n",
       "  } else {\n",
       "    var attempts = 0;\n",
       "    var timer = setInterval(function(root) {\n",
       "      if (root.Bokeh !== undefined && root.Bokeh.Panel !== undefined && (root['Tabulator'] !== undefined)) {\n",
       "        clearInterval(timer);\n",
       "        embed_document(root);\n",
       "      } else if (document.readyState == \"complete\") {\n",
       "        attempts++;\n",
       "        if (attempts > 200) {\n",
       "          clearInterval(timer);\n",
       "          console.log(\"Bokeh: ERROR: Unable to run BokehJS code because BokehJS library is missing\");\n",
       "        }\n",
       "      }\n",
       "    }, 25, root)\n",
       "  }\n",
       "})(window);</script>"
      ],
      "text/plain": [
       "IntSlider(end=2020, name='Year slider', start=2013, value=2014)"
      ]
     },
     "execution_count": 68,
     "metadata": {
      "application/vnd.holoviews_exec.v0+json": {
       "id": "35623"
      }
     },
     "output_type": "execute_result"
    }
   ],
   "source": [
    "year_slider = pn.widgets.IntSlider(name='Year slider', start=2013, end=2020, step=1, value=2014)\n",
    "year_slider"
   ]
  },
  {
   "cell_type": "code",
   "execution_count": 69,
   "id": "73a6d364",
   "metadata": {},
   "outputs": [],
   "source": [
    "select_rgn = pn.widgets.Select(name='Select', options=['North East', 'North West', 'Yorkshire and The Humber',\n",
    "       'East Midlands', 'West Midlands', 'South West', 'East of England',\n",
    "       'South East', 'London'])"
   ]
  },
  {
   "cell_type": "code",
   "execution_count": 70,
   "id": "24f13483-af7e-4d7c-a736-5b918fe787b0",
   "metadata": {},
   "outputs": [],
   "source": [
    "idf = df.interactive()"
   ]
  },
  {
   "cell_type": "code",
   "execution_count": 71,
   "id": "99fd1334-4791-4ac6-b0d7-cb36171fed1b",
   "metadata": {},
   "outputs": [],
   "source": [
    "crimeyr_pipeline = (\n",
    "    idf[\n",
    "        (idf.Year == year_slider) &\n",
    "        (idf.RGN19NM == select_rgn)\n",
    "    ].groupby(['Year', 'Crime_Type'])['Frequency'].sum()\n",
    "    .to_frame()\n",
    "    .reset_index()\n",
    "    .sort_values(by='Crime_Type') \n",
    "    .reset_index(drop=True)\n",
    ")"
   ]
  },
  {
   "cell_type": "code",
   "execution_count": 72,
   "id": "f7e0e385",
   "metadata": {},
   "outputs": [
    {
     "data": {
      "text/plain": [
       "hvplot.interactive.Interactive"
      ]
     },
     "execution_count": 72,
     "metadata": {},
     "output_type": "execute_result"
    }
   ],
   "source": [
    "type(crimeyr_pipeline)"
   ]
  },
  {
   "cell_type": "code",
   "execution_count": 73,
   "id": "834e972e-d52e-45aa-ba9c-1e55a105b0b7",
   "metadata": {},
   "outputs": [
    {
     "data": {},
     "metadata": {},
     "output_type": "display_data"
    },
    {
     "data": {
      "application/vnd.holoviews_exec.v0+json": "",
      "text/html": [
       "<div id='35625'>\n",
       "\n",
       "\n",
       "\n",
       "\n",
       "\n",
       "  <div class=\"bk-root\" id=\"ae0c0baa-89fb-478c-95c2-af93d55e8fb1\" data-root-id=\"35625\"></div>\n",
       "</div>\n",
       "<script type=\"application/javascript\">(function(root) {\n",
       "  function embed_document(root) {\n",
       "    var docs_json = {\"c6e5ef30-f319-4e08-8137-4026f82ee5cb\":{\"defs\":[{\"extends\":null,\"module\":null,\"name\":\"ReactiveHTML1\",\"overrides\":[],\"properties\":[]},{\"extends\":null,\"module\":null,\"name\":\"FlexBox1\",\"overrides\":[],\"properties\":[{\"default\":\"flex-start\",\"kind\":null,\"name\":\"align_content\"},{\"default\":\"flex-start\",\"kind\":null,\"name\":\"align_items\"},{\"default\":\"row\",\"kind\":null,\"name\":\"flex_direction\"},{\"default\":\"wrap\",\"kind\":null,\"name\":\"flex_wrap\"},{\"default\":\"flex-start\",\"kind\":null,\"name\":\"justify_content\"}]},{\"extends\":null,\"module\":null,\"name\":\"TemplateActions1\",\"overrides\":[],\"properties\":[{\"default\":0,\"kind\":null,\"name\":\"open_modal\"},{\"default\":0,\"kind\":null,\"name\":\"close_modal\"}]},{\"extends\":null,\"module\":null,\"name\":\"MaterialTemplateActions1\",\"overrides\":[],\"properties\":[{\"default\":0,\"kind\":null,\"name\":\"open_modal\"},{\"default\":0,\"kind\":null,\"name\":\"close_modal\"}]}],\"roots\":{\"references\":[{\"attributes\":{},\"id\":\"35636\",\"type\":\"IntEditor\"},{\"attributes\":{\"children\":[{\"id\":\"35650\"}],\"margin\":[0,0,0,0],\"name\":\"Row113264\"},\"id\":\"35632\",\"type\":\"Row\"},{\"attributes\":{\"margin\":[5,10,5,10],\"options\":[\"North East\",\"North West\",\"Yorkshire and The Humber\",\"East Midlands\",\"West Midlands\",\"South West\",\"East of England\",\"South East\",\"London\"],\"title\":\"Select\",\"value\":\"North East\"},\"id\":\"35630\",\"type\":\"Select\"},{\"attributes\":{\"indices\":[]},\"id\":\"35634\",\"type\":\"Selection\"},{\"attributes\":{},\"id\":\"35652\",\"type\":\"UnionRenderers\"},{\"attributes\":{\"children\":[{\"id\":\"35626\"}],\"margin\":[0,0,0,0],\"name\":\"Row113297\"},\"id\":\"35625\",\"type\":\"Row\"},{\"attributes\":{\"children\":[{\"id\":\"35628\"},{\"id\":\"35631\"}],\"margin\":[0,0,0,0],\"name\":\"Row113295\"},\"id\":\"35627\",\"type\":\"Row\"},{\"attributes\":{},\"id\":\"35635\",\"type\":\"NumberFormatter\"},{\"attributes\":{\"children\":[{\"id\":\"35627\"},{\"id\":\"35632\"}],\"margin\":[0,0,0,0],\"name\":\"Column113296\"},\"id\":\"35626\",\"type\":\"Column\"},{\"attributes\":{\"children\":[{\"id\":\"35629\"},{\"id\":\"35630\"}],\"margin\":[0,0,0,0],\"name\":\"Column113259\"},\"id\":\"35628\",\"type\":\"Column\"},{\"attributes\":{\"editor\":{\"id\":\"35646\"},\"field\":\"Frequency\",\"formatter\":{\"id\":\"35645\"},\"title\":\"Frequency\",\"width\":0},\"id\":\"35647\",\"type\":\"TableColumn\"},{\"attributes\":{\"margin\":[5,5,5,5],\"name\":\"HSpacer113294\",\"sizing_mode\":\"stretch_width\"},\"id\":\"35631\",\"type\":\"Spacer\"},{\"attributes\":{\"editor\":{\"id\":\"35636\"},\"field\":\"Year\",\"formatter\":{\"id\":\"35635\"},\"title\":\"Year\",\"width\":0},\"id\":\"35637\",\"type\":\"TableColumn\"},{\"attributes\":{\"client_comm_id\":\"c887f497571e4c7a805a563e13d8dcf7\",\"comm_id\":\"b8673ebd8ecf4219843f612f2c435bd2\",\"plot_id\":\"35625\"},\"id\":\"35658\",\"type\":\"panel.models.comm_manager.CommManager\"},{\"attributes\":{\"columns\":[{\"id\":\"35637\"},{\"id\":\"35642\"},{\"id\":\"35647\"}],\"configuration\":{\"columns\":[{\"field\":\"Year\"},{\"field\":\"Crime_Type\"},{\"field\":\"Frequency\"}],\"dataTree\":false,\"selectable\":true},\"height\":450,\"layout\":\"fit_columns\",\"margin\":[5,10,5,10],\"max_page\":1,\"name\":\"\",\"page\":1,\"page_size\":14,\"pagination\":\"remote\",\"selectable_rows\":null,\"source\":{\"id\":\"35633\"}},\"id\":\"35650\",\"type\":\"panel.models.tabulator.DataTabulator\"},{\"attributes\":{},\"id\":\"35640\",\"type\":\"StringFormatter\"},{\"attributes\":{},\"id\":\"35645\",\"type\":\"NumberFormatter\"},{\"attributes\":{},\"id\":\"35646\",\"type\":\"IntEditor\"},{\"attributes\":{\"end\":2020,\"margin\":[5,10,5,10],\"start\":2013,\"title\":\"Year slider\",\"value\":2014},\"id\":\"35629\",\"type\":\"Slider\"},{\"attributes\":{},\"id\":\"35641\",\"type\":\"StringEditor\"},{\"attributes\":{\"data\":{\"Crime_Type\":[\"Anti-social behaviour\",\"Bicycle theft\",\"Burglary\",\"Criminal damage and arson\",\"Drugs\",\"Other crime\",\"Other theft\",\"Possession of weapons\",\"Public order\",\"Robbery\",\"Shoplifting\",\"Theft from the person\",\"Vehicle crime\",\"Violence and sexual offences\"],\"Frequency\":[152417,3648,15954,28668,7102,2058,18880,1124,5389,871,18488,1306,10926,29235],\"Year\":[2014,2014,2014,2014,2014,2014,2014,2014,2014,2014,2014,2014,2014,2014],\"index\":[0,1,2,3,4,5,6,7,8,9,10,11,12,13]},\"selected\":{\"id\":\"35634\"},\"selection_policy\":{\"id\":\"35652\"}},\"id\":\"35633\",\"type\":\"ColumnDataSource\"},{\"attributes\":{\"editor\":{\"id\":\"35641\"},\"field\":\"Crime_Type\",\"formatter\":{\"id\":\"35640\"},\"title\":\"Crime_Type\",\"width\":0},\"id\":\"35642\",\"type\":\"TableColumn\"}],\"root_ids\":[\"35625\",\"35658\"]},\"title\":\"Bokeh Application\",\"version\":\"2.4.2\"}};\n",
       "    var render_items = [{\"docid\":\"c6e5ef30-f319-4e08-8137-4026f82ee5cb\",\"root_ids\":[\"35625\"],\"roots\":{\"35625\":\"ae0c0baa-89fb-478c-95c2-af93d55e8fb1\"}}];\n",
       "    root.Bokeh.embed.embed_items_notebook(docs_json, render_items);\n",
       "  }\n",
       "  if (root.Bokeh !== undefined && root.Bokeh.Panel !== undefined && ( root['Tabulator'] !== undefined)) {\n",
       "    embed_document(root);\n",
       "  } else {\n",
       "    var attempts = 0;\n",
       "    var timer = setInterval(function(root) {\n",
       "      if (root.Bokeh !== undefined && root.Bokeh.Panel !== undefined && (root['Tabulator'] !== undefined)) {\n",
       "        clearInterval(timer);\n",
       "        embed_document(root);\n",
       "      } else if (document.readyState == \"complete\") {\n",
       "        attempts++;\n",
       "        if (attempts > 200) {\n",
       "          clearInterval(timer);\n",
       "          console.log(\"Bokeh: ERROR: Unable to run BokehJS code because BokehJS library is missing\");\n",
       "        }\n",
       "      }\n",
       "    }, 25, root)\n",
       "  }\n",
       "})(window);</script>"
      ],
      "text/plain": [
       "<hvplot.interactive.Interactive at 0x24119d14280>"
      ]
     },
     "execution_count": 73,
     "metadata": {
      "application/vnd.holoviews_exec.v0+json": {
       "id": "35625"
      }
     },
     "output_type": "execute_result"
    }
   ],
   "source": [
    "cryr_plot = crimeyr_pipeline.pipe(pn.widgets.Tabulator, pagination='remote', page_size = 14, layout='fit_columns',show_index=False) \n",
    "cryr_plot"
   ]
  },
  {
   "cell_type": "code",
   "execution_count": null,
   "id": "cdfe6c2f-5b7d-40a2-bd9c-3599a5e4c148",
   "metadata": {},
   "outputs": [],
   "source": []
  },
  {
   "cell_type": "code",
   "execution_count": 74,
   "id": "3663590e-5459-4220-86f5-246ab98e85aa",
   "metadata": {},
   "outputs": [],
   "source": [
    "select_typ = pn.widgets.Select(name='Select', options=['Anti-social behaviour', 'Bicycle theft', 'Burglary',\n",
    "       'Criminal damage and arson', 'Drugs', 'Other crime', 'Other theft',\n",
    "       'Possession of weapons', 'Public order', 'Robbery', 'Shoplifting',\n",
    "       'Theft from the person', 'Vehicle crime',\n",
    "       'Violence and sexual offences'])"
   ]
  },
  {
   "cell_type": "code",
   "execution_count": 75,
   "id": "235e4116",
   "metadata": {},
   "outputs": [],
   "source": [
    "crimeyrtp_pipeline = (\n",
    "    idf[\n",
    "        (idf.Year == year_slider) &\n",
    "        (idf.Crime_Type == select_typ)\n",
    "    ].groupby(['Year', 'RGN19NM'])['Frequency'].sum()\n",
    "    .to_frame()\n",
    "    .reset_index()\n",
    "    .sort_values(by='RGN19NM') \n",
    "    .reset_index(drop=True)\n",
    ")"
   ]
  },
  {
   "cell_type": "code",
   "execution_count": 76,
   "id": "014bb56c",
   "metadata": {},
   "outputs": [
    {
     "data": {},
     "metadata": {},
     "output_type": "display_data"
    },
    {
     "data": {
      "application/vnd.holoviews_exec.v0+json": "",
      "text/html": [
       "<div id='35669'>\n",
       "\n",
       "\n",
       "\n",
       "\n",
       "\n",
       "  <div class=\"bk-root\" id=\"bac026e7-ecca-477e-a700-bfd62c1054a9\" data-root-id=\"35669\"></div>\n",
       "</div>\n",
       "<script type=\"application/javascript\">(function(root) {\n",
       "  function embed_document(root) {\n",
       "    var docs_json = {\"227726ed-2b08-408f-a75f-f87fe86b09a0\":{\"defs\":[{\"extends\":null,\"module\":null,\"name\":\"ReactiveHTML1\",\"overrides\":[],\"properties\":[]},{\"extends\":null,\"module\":null,\"name\":\"FlexBox1\",\"overrides\":[],\"properties\":[{\"default\":\"flex-start\",\"kind\":null,\"name\":\"align_content\"},{\"default\":\"flex-start\",\"kind\":null,\"name\":\"align_items\"},{\"default\":\"row\",\"kind\":null,\"name\":\"flex_direction\"},{\"default\":\"wrap\",\"kind\":null,\"name\":\"flex_wrap\"},{\"default\":\"flex-start\",\"kind\":null,\"name\":\"justify_content\"}]},{\"extends\":null,\"module\":null,\"name\":\"TemplateActions1\",\"overrides\":[],\"properties\":[{\"default\":0,\"kind\":null,\"name\":\"open_modal\"},{\"default\":0,\"kind\":null,\"name\":\"close_modal\"}]},{\"extends\":null,\"module\":null,\"name\":\"MaterialTemplateActions1\",\"overrides\":[],\"properties\":[{\"default\":0,\"kind\":null,\"name\":\"open_modal\"},{\"default\":0,\"kind\":null,\"name\":\"close_modal\"}]}],\"roots\":{\"references\":[{\"attributes\":{},\"id\":\"35696\",\"type\":\"UnionRenderers\"},{\"attributes\":{\"editor\":{\"id\":\"35685\"},\"field\":\"RGN19NM\",\"formatter\":{\"id\":\"35684\"},\"title\":\"RGN19NM\",\"width\":0},\"id\":\"35686\",\"type\":\"TableColumn\"},{\"attributes\":{},\"id\":\"35690\",\"type\":\"IntEditor\"},{\"attributes\":{\"children\":[{\"id\":\"35670\"}],\"margin\":[0,0,0,0],\"name\":\"Row113661\"},\"id\":\"35669\",\"type\":\"Row\"},{\"attributes\":{\"client_comm_id\":\"500f20b1a814467ba1f369c20126bde9\",\"comm_id\":\"11659d4b4fa84512a8be4a1550f1f70d\",\"plot_id\":\"35669\"},\"id\":\"35702\",\"type\":\"panel.models.comm_manager.CommManager\"},{\"attributes\":{\"children\":[{\"id\":\"35671\"},{\"id\":\"35676\"}],\"margin\":[0,0,0,0],\"name\":\"Column113660\"},\"id\":\"35670\",\"type\":\"Column\"},{\"attributes\":{},\"id\":\"35689\",\"type\":\"NumberFormatter\"},{\"attributes\":{\"editor\":{\"id\":\"35680\"},\"field\":\"Year\",\"formatter\":{\"id\":\"35679\"},\"title\":\"Year\",\"width\":0},\"id\":\"35681\",\"type\":\"TableColumn\"},{\"attributes\":{\"margin\":[5,10,5,10],\"options\":[\"Anti-social behaviour\",\"Bicycle theft\",\"Burglary\",\"Criminal damage and arson\",\"Drugs\",\"Other crime\",\"Other theft\",\"Possession of weapons\",\"Public order\",\"Robbery\",\"Shoplifting\",\"Theft from the person\",\"Vehicle crime\",\"Violence and sexual offences\"],\"title\":\"Select\",\"value\":\"Anti-social behaviour\"},\"id\":\"35674\",\"type\":\"Select\"},{\"attributes\":{\"indices\":[]},\"id\":\"35678\",\"type\":\"Selection\"},{\"attributes\":{\"children\":[{\"id\":\"35694\"}],\"margin\":[0,0,0,0],\"name\":\"Row113628\"},\"id\":\"35676\",\"type\":\"Row\"},{\"attributes\":{},\"id\":\"35679\",\"type\":\"NumberFormatter\"},{\"attributes\":{\"margin\":[5,5,5,5],\"name\":\"HSpacer113658\",\"sizing_mode\":\"stretch_width\"},\"id\":\"35675\",\"type\":\"Spacer\"},{\"attributes\":{\"columns\":[{\"id\":\"35681\"},{\"id\":\"35686\"},{\"id\":\"35691\"}],\"configuration\":{\"columns\":[{\"field\":\"Year\"},{\"field\":\"RGN19NM\"},{\"field\":\"Frequency\"}],\"dataTree\":false,\"selectable\":true},\"height\":300,\"layout\":\"fit_columns\",\"margin\":[5,10,5,10],\"max_page\":1,\"name\":\"\",\"page\":1,\"page_size\":9,\"pagination\":\"remote\",\"selectable_rows\":null,\"source\":{\"id\":\"35677\"}},\"id\":\"35694\",\"type\":\"panel.models.tabulator.DataTabulator\"},{\"attributes\":{},\"id\":\"35684\",\"type\":\"StringFormatter\"},{\"attributes\":{\"end\":2020,\"margin\":[5,10,5,10],\"start\":2013,\"title\":\"Year slider\",\"value\":2014},\"id\":\"35673\",\"type\":\"Slider\"},{\"attributes\":{\"editor\":{\"id\":\"35690\"},\"field\":\"Frequency\",\"formatter\":{\"id\":\"35689\"},\"title\":\"Frequency\",\"width\":0},\"id\":\"35691\",\"type\":\"TableColumn\"},{\"attributes\":{},\"id\":\"35680\",\"type\":\"IntEditor\"},{\"attributes\":{\"children\":[{\"id\":\"35672\"},{\"id\":\"35675\"}],\"margin\":[0,0,0,0],\"name\":\"Row113659\"},\"id\":\"35671\",\"type\":\"Row\"},{\"attributes\":{\"data\":{\"Frequency\":[159216,168876,256611,152417,324063,241757,168495,168202,215592],\"RGN19NM\":[\"East Midlands\",\"East of England\",\"London\",\"North East\",\"North West\",\"South East\",\"South West\",\"West Midlands\",\"Yorkshire and The Humber\"],\"Year\":[2014,2014,2014,2014,2014,2014,2014,2014,2014],\"index\":[0,1,2,3,4,5,6,7,8]},\"selected\":{\"id\":\"35678\"},\"selection_policy\":{\"id\":\"35696\"}},\"id\":\"35677\",\"type\":\"ColumnDataSource\"},{\"attributes\":{\"children\":[{\"id\":\"35673\"},{\"id\":\"35674\"}],\"margin\":[0,0,0,0],\"name\":\"Column113623\"},\"id\":\"35672\",\"type\":\"Column\"},{\"attributes\":{},\"id\":\"35685\",\"type\":\"StringEditor\"}],\"root_ids\":[\"35669\",\"35702\"]},\"title\":\"Bokeh Application\",\"version\":\"2.4.2\"}};\n",
       "    var render_items = [{\"docid\":\"227726ed-2b08-408f-a75f-f87fe86b09a0\",\"root_ids\":[\"35669\"],\"roots\":{\"35669\":\"bac026e7-ecca-477e-a700-bfd62c1054a9\"}}];\n",
       "    root.Bokeh.embed.embed_items_notebook(docs_json, render_items);\n",
       "  }\n",
       "  if (root.Bokeh !== undefined && root.Bokeh.Panel !== undefined && ( root['Tabulator'] !== undefined)) {\n",
       "    embed_document(root);\n",
       "  } else {\n",
       "    var attempts = 0;\n",
       "    var timer = setInterval(function(root) {\n",
       "      if (root.Bokeh !== undefined && root.Bokeh.Panel !== undefined && (root['Tabulator'] !== undefined)) {\n",
       "        clearInterval(timer);\n",
       "        embed_document(root);\n",
       "      } else if (document.readyState == \"complete\") {\n",
       "        attempts++;\n",
       "        if (attempts > 200) {\n",
       "          clearInterval(timer);\n",
       "          console.log(\"Bokeh: ERROR: Unable to run BokehJS code because BokehJS library is missing\");\n",
       "        }\n",
       "      }\n",
       "    }, 25, root)\n",
       "  }\n",
       "})(window);</script>"
      ],
      "text/plain": [
       "<hvplot.interactive.Interactive at 0x24119dd6e20>"
      ]
     },
     "execution_count": 76,
     "metadata": {
      "application/vnd.holoviews_exec.v0+json": {
       "id": "35669"
      }
     },
     "output_type": "execute_result"
    }
   ],
   "source": [
    "cryrtyp_plot = crimeyrtp_pipeline.pipe(pn.widgets.Tabulator, pagination='remote', page_size = 9, layout='fit_columns',show_index=False) \n",
    "cryrtyp_plot"
   ]
  },
  {
   "cell_type": "code",
   "execution_count": 77,
   "id": "31de351d-5569-4ee5-b8e2-a5856435f361",
   "metadata": {},
   "outputs": [],
   "source": [
    "crimergn_pipeline = (\n",
    "    idf[(idf.RGN19NM == select_rgn ) & (idf.Crime_Type== select_typ) ].groupby(['Year_Month'])['Frequency'].sum()\n",
    "    .to_frame()\n",
    "    .reset_index()\n",
    "    .sort_values(by='Year_Month') \n",
    "    .reset_index(drop=True)\n",
    ")"
   ]
  },
  {
   "cell_type": "code",
   "execution_count": 78,
   "id": "ec67cc22-4696-4dde-9e2a-49fb994bfedd",
   "metadata": {},
   "outputs": [
    {
     "data": {},
     "metadata": {},
     "output_type": "display_data"
    },
    {
     "data": {},
     "metadata": {},
     "output_type": "display_data"
    },
    {
     "data": {
      "application/vnd.holoviews_exec.v0+json": "",
      "text/html": [
       "<div id='35713'>\n",
       "\n",
       "\n",
       "\n",
       "\n",
       "\n",
       "  <div class=\"bk-root\" id=\"54abfe80-f3d7-44cf-9fb0-45196bf30b12\" data-root-id=\"35713\"></div>\n",
       "</div>\n",
       "<script type=\"application/javascript\">(function(root) {\n",
       "  function embed_document(root) {\n",
       "    var docs_json = {\"82bc12c4-8374-4e49-b189-9fdb76c068a4\":{\"defs\":[{\"extends\":null,\"module\":null,\"name\":\"ReactiveHTML1\",\"overrides\":[],\"properties\":[]},{\"extends\":null,\"module\":null,\"name\":\"FlexBox1\",\"overrides\":[],\"properties\":[{\"default\":\"flex-start\",\"kind\":null,\"name\":\"align_content\"},{\"default\":\"flex-start\",\"kind\":null,\"name\":\"align_items\"},{\"default\":\"row\",\"kind\":null,\"name\":\"flex_direction\"},{\"default\":\"wrap\",\"kind\":null,\"name\":\"flex_wrap\"},{\"default\":\"flex-start\",\"kind\":null,\"name\":\"justify_content\"}]},{\"extends\":null,\"module\":null,\"name\":\"TemplateActions1\",\"overrides\":[],\"properties\":[{\"default\":0,\"kind\":null,\"name\":\"open_modal\"},{\"default\":0,\"kind\":null,\"name\":\"close_modal\"}]},{\"extends\":null,\"module\":null,\"name\":\"MaterialTemplateActions1\",\"overrides\":[],\"properties\":[{\"default\":0,\"kind\":null,\"name\":\"open_modal\"},{\"default\":0,\"kind\":null,\"name\":\"close_modal\"}]}],\"roots\":{\"references\":[{\"attributes\":{\"data\":{\"Frequency\":[11965,12860,15858,15069,12356,13003,11371,9940,10188,10583,13012,13442,14252,14569,15075,13451,13618,13526,11487,9214,9686,9930,11487,12903,12173,12687,13414,13356,11538,13018,9456,8427,8404,8691,10693,9919,11513,10781,12324,11753,11580,12198,9094,8984,8745,8357,10386,10579,10646,10295,10597,10981,9623,11258,8757,8013,8217,7786,8486,9042,10093,9342,9940,9395,8118,8677,7374,6526,6687,7622,8015,8342,8027,8265,9437,8887,7808,8378,6512,3681,7031,6371,7506,16413,16139,11101,6025,10326,9798,12256,10156,7509],\"Year_Month\":[\"2013-05\",\"2013-06\",\"2013-07\",\"2013-08\",\"2013-09\",\"2013-10\",\"2013-11\",\"2013-12\",\"2014-01\",\"2014-02\",\"2014-03\",\"2014-04\",\"2014-05\",\"2014-06\",\"2014-07\",\"2014-08\",\"2014-09\",\"2014-10\",\"2014-11\",\"2014-12\",\"2015-01\",\"2015-02\",\"2015-03\",\"2015-04\",\"2015-05\",\"2015-06\",\"2015-07\",\"2015-08\",\"2015-09\",\"2015-10\",\"2015-11\",\"2015-12\",\"2016-01\",\"2016-02\",\"2016-03\",\"2016-04\",\"2016-05\",\"2016-06\",\"2016-07\",\"2016-08\",\"2016-09\",\"2016-10\",\"2016-11\",\"2016-12\",\"2017-01\",\"2017-02\",\"2017-03\",\"2017-04\",\"2017-05\",\"2017-06\",\"2017-07\",\"2017-08\",\"2017-09\",\"2017-10\",\"2017-11\",\"2017-12\",\"2018-01\",\"2018-02\",\"2018-03\",\"2018-04\",\"2018-05\",\"2018-06\",\"2018-07\",\"2018-08\",\"2018-09\",\"2018-10\",\"2018-11\",\"2018-12\",\"2019-01\",\"2019-02\",\"2019-03\",\"2019-04\",\"2019-05\",\"2019-06\",\"2019-07\",\"2019-08\",\"2019-09\",\"2019-10\",\"2019-11\",\"2019-12\",\"2020-01\",\"2020-02\",\"2020-03\",\"2020-04\",\"2020-05\",\"2020-06\",\"2020-07\",\"2020-08\",\"2020-09\",\"2020-10\",\"2020-11\",\"2020-12\"]},\"selected\":{\"id\":\"35753\"},\"selection_policy\":{\"id\":\"35776\"}},\"id\":\"35752\",\"type\":\"ColumnDataSource\"},{\"attributes\":{\"line_alpha\":0.1,\"line_color\":\"#30a2da\",\"line_width\":2,\"x\":{\"field\":\"Year_Month\"},\"y\":{\"field\":\"Frequency\"}},\"id\":\"35756\",\"type\":\"Line\"},{\"attributes\":{},\"id\":\"35776\",\"type\":\"UnionRenderers\"},{\"attributes\":{\"coordinates\":null,\"group\":null,\"text\":\"Total Crime Frequency plot for Region across 2013-2020\",\"text_color\":\"black\",\"text_font_size\":\"10pt\"},\"id\":\"35724\",\"type\":\"Title\"},{\"attributes\":{\"callback\":null,\"renderers\":[{\"id\":\"35758\"}],\"tags\":[\"hv_created\"],\"tooltips\":[[\"Year_Month\",\"@{Year_Month}\"],[\"Frequency\",\"@{Frequency}\"]]},\"id\":\"35722\",\"type\":\"HoverTool\"},{\"attributes\":{\"client_comm_id\":\"58e053130d0340a49fedb4c6c8fb4422\",\"comm_id\":\"7541732ea4d74dd9b808ab3dd66f92dd\",\"plot_id\":\"35713\"},\"id\":\"35815\",\"type\":\"panel.models.comm_manager.CommManager\"},{\"attributes\":{},\"id\":\"35740\",\"type\":\"PanTool\"},{\"attributes\":{\"end\":17686.2,\"reset_end\":17686.2,\"reset_start\":2407.8,\"start\":2407.8,\"tags\":[[[\"Frequency\",\"Frequency\",null]]]},\"id\":\"35721\",\"type\":\"Range1d\"},{\"attributes\":{},\"id\":\"35730\",\"type\":\"LinearScale\"},{\"attributes\":{\"tools\":[{\"id\":\"35722\"},{\"id\":\"35739\"},{\"id\":\"35740\"},{\"id\":\"35741\"},{\"id\":\"35742\"},{\"id\":\"35743\"}]},\"id\":\"35745\",\"type\":\"Toolbar\"},{\"attributes\":{\"children\":[{\"id\":\"35714\"}],\"margin\":[0,0,0,0],\"name\":\"Row114071\"},\"id\":\"35713\",\"type\":\"Row\"},{\"attributes\":{},\"id\":\"35741\",\"type\":\"WheelZoomTool\"},{\"attributes\":{\"children\":[{\"id\":\"35716\"},{\"id\":\"35719\"}],\"margin\":[0,0,0,0],\"name\":\"Row114064\"},\"id\":\"35715\",\"type\":\"Row\"},{\"attributes\":{},\"id\":\"35769\",\"type\":\"AllLabels\"},{\"attributes\":{\"margin\":[5,5,5,5],\"name\":\"HSpacer114063\",\"sizing_mode\":\"stretch_width\"},\"id\":\"35719\",\"type\":\"Spacer\"},{\"attributes\":{},\"id\":\"35763\",\"type\":\"CategoricalTickFormatter\"},{\"attributes\":{\"line_color\":\"#30a2da\",\"line_width\":2,\"x\":{\"field\":\"Year_Month\"},\"y\":{\"field\":\"Frequency\"}},\"id\":\"35755\",\"type\":\"Line\"},{\"attributes\":{\"factors\":[\"2013-05\",\"2013-06\",\"2013-07\",\"2013-08\",\"2013-09\",\"2013-10\",\"2013-11\",\"2013-12\",\"2014-01\",\"2014-02\",\"2014-03\",\"2014-04\",\"2014-05\",\"2014-06\",\"2014-07\",\"2014-08\",\"2014-09\",\"2014-10\",\"2014-11\",\"2014-12\",\"2015-01\",\"2015-02\",\"2015-03\",\"2015-04\",\"2015-05\",\"2015-06\",\"2015-07\",\"2015-08\",\"2015-09\",\"2015-10\",\"2015-11\",\"2015-12\",\"2016-01\",\"2016-02\",\"2016-03\",\"2016-04\",\"2016-05\",\"2016-06\",\"2016-07\",\"2016-08\",\"2016-09\",\"2016-10\",\"2016-11\",\"2016-12\",\"2017-01\",\"2017-02\",\"2017-03\",\"2017-04\",\"2017-05\",\"2017-06\",\"2017-07\",\"2017-08\",\"2017-09\",\"2017-10\",\"2017-11\",\"2017-12\",\"2018-01\",\"2018-02\",\"2018-03\",\"2018-04\",\"2018-05\",\"2018-06\",\"2018-07\",\"2018-08\",\"2018-09\",\"2018-10\",\"2018-11\",\"2018-12\",\"2019-01\",\"2019-02\",\"2019-03\",\"2019-04\",\"2019-05\",\"2019-06\",\"2019-07\",\"2019-08\",\"2019-09\",\"2019-10\",\"2019-11\",\"2019-12\",\"2020-01\",\"2020-02\",\"2020-03\",\"2020-04\",\"2020-05\",\"2020-06\",\"2020-07\",\"2020-08\",\"2020-09\",\"2020-10\",\"2020-11\",\"2020-12\"],\"tags\":[[[\"Year_Month\",\"Year_Month\",null]]]},\"id\":\"35720\",\"type\":\"FactorRange\"},{\"attributes\":{},\"id\":\"35768\",\"type\":\"BasicTickFormatter\"},{\"attributes\":{\"axis\":{\"id\":\"35732\"},\"coordinates\":null,\"grid_line_color\":null,\"group\":null,\"ticker\":null},\"id\":\"35734\",\"type\":\"Grid\"},{\"attributes\":{\"children\":[{\"id\":\"35715\"},{\"id\":\"35723\"}],\"margin\":[0,0,0,0],\"name\":\"Column114070\"},\"id\":\"35714\",\"type\":\"Column\"},{\"attributes\":{\"axis\":{\"id\":\"35735\"},\"coordinates\":null,\"dimension\":1,\"grid_line_color\":null,\"group\":null,\"ticker\":null},\"id\":\"35738\",\"type\":\"Grid\"},{\"attributes\":{\"line_alpha\":0.2,\"line_color\":\"#30a2da\",\"line_width\":2,\"x\":{\"field\":\"Year_Month\"},\"y\":{\"field\":\"Frequency\"}},\"id\":\"35757\",\"type\":\"Line\"},{\"attributes\":{\"desired_num_ticks\":0},\"id\":\"35761\",\"type\":\"BasicTicker\"},{\"attributes\":{\"below\":[{\"id\":\"35732\"}],\"center\":[{\"id\":\"35734\"},{\"id\":\"35738\"}],\"height\":300,\"left\":[{\"id\":\"35735\"}],\"margin\":[5,5,5,5],\"min_border_bottom\":10,\"min_border_left\":10,\"min_border_right\":10,\"min_border_top\":10,\"renderers\":[{\"id\":\"35758\"}],\"sizing_mode\":\"fixed\",\"title\":{\"id\":\"35724\"},\"toolbar\":{\"id\":\"35745\"},\"width\":700,\"x_range\":{\"id\":\"35720\"},\"x_scale\":{\"id\":\"35728\"},\"y_range\":{\"id\":\"35721\"},\"y_scale\":{\"id\":\"35730\"}},\"id\":\"35723\",\"subtype\":\"Figure\",\"type\":\"Plot\"},{\"attributes\":{\"axis_label\":\"Frequency\",\"axis_label_text_font_size\":\"10pt\",\"coordinates\":null,\"formatter\":{\"id\":\"35768\"},\"group\":null,\"major_label_policy\":{\"id\":\"35769\"},\"ticker\":{\"id\":\"35736\"}},\"id\":\"35735\",\"type\":\"LinearAxis\"},{\"attributes\":{\"margin\":[5,10,5,10],\"options\":[\"Anti-social behaviour\",\"Bicycle theft\",\"Burglary\",\"Criminal damage and arson\",\"Drugs\",\"Other crime\",\"Other theft\",\"Possession of weapons\",\"Public order\",\"Robbery\",\"Shoplifting\",\"Theft from the person\",\"Vehicle crime\",\"Violence and sexual offences\"],\"title\":\"Select\",\"value\":\"Anti-social behaviour\"},\"id\":\"35718\",\"type\":\"Select\"},{\"attributes\":{\"margin\":[5,10,5,10],\"options\":[\"North East\",\"North West\",\"Yorkshire and The Humber\",\"East Midlands\",\"West Midlands\",\"South West\",\"East of England\",\"South East\",\"London\"],\"title\":\"Select\",\"value\":\"North East\"},\"id\":\"35717\",\"type\":\"Select\"},{\"attributes\":{},\"id\":\"35753\",\"type\":\"Selection\"},{\"attributes\":{},\"id\":\"35736\",\"type\":\"BasicTicker\"},{\"attributes\":{\"bottom_units\":\"screen\",\"coordinates\":null,\"fill_alpha\":0.5,\"fill_color\":\"lightgrey\",\"group\":null,\"left_units\":\"screen\",\"level\":\"overlay\",\"line_alpha\":1.0,\"line_color\":\"black\",\"line_dash\":[4,4],\"line_width\":2,\"right_units\":\"screen\",\"syncable\":false,\"top_units\":\"screen\"},\"id\":\"35744\",\"type\":\"BoxAnnotation\"},{\"attributes\":{\"children\":[{\"id\":\"35717\"},{\"id\":\"35718\"}],\"margin\":[0,0,0,0],\"name\":\"Column114059\"},\"id\":\"35716\",\"type\":\"Column\"},{\"attributes\":{\"axis_label\":\"Year_Month\",\"axis_label_text_font_size\":\"10pt\",\"coordinates\":null,\"formatter\":{\"id\":\"35763\"},\"group\":null,\"major_label_policy\":{\"id\":\"35764\"},\"ticker\":{\"id\":\"35761\"}},\"id\":\"35732\",\"type\":\"CategoricalAxis\"},{\"attributes\":{},\"id\":\"35764\",\"type\":\"AllLabels\"},{\"attributes\":{\"source\":{\"id\":\"35752\"}},\"id\":\"35759\",\"type\":\"CDSView\"},{\"attributes\":{},\"id\":\"35739\",\"type\":\"SaveTool\"},{\"attributes\":{\"coordinates\":null,\"data_source\":{\"id\":\"35752\"},\"glyph\":{\"id\":\"35755\"},\"group\":null,\"hover_glyph\":null,\"muted_glyph\":{\"id\":\"35757\"},\"nonselection_glyph\":{\"id\":\"35756\"},\"selection_glyph\":{\"id\":\"35760\"},\"view\":{\"id\":\"35759\"}},\"id\":\"35758\",\"type\":\"GlyphRenderer\"},{\"attributes\":{\"overlay\":{\"id\":\"35744\"}},\"id\":\"35742\",\"type\":\"BoxZoomTool\"},{\"attributes\":{},\"id\":\"35743\",\"type\":\"ResetTool\"},{\"attributes\":{},\"id\":\"35728\",\"type\":\"CategoricalScale\"},{\"attributes\":{\"line_color\":\"#30a2da\",\"line_width\":2,\"x\":{\"field\":\"Year_Month\"},\"y\":{\"field\":\"Frequency\"}},\"id\":\"35760\",\"type\":\"Line\"}],\"root_ids\":[\"35713\",\"35815\"]},\"title\":\"Bokeh Application\",\"version\":\"2.4.2\"}};\n",
       "    var render_items = [{\"docid\":\"82bc12c4-8374-4e49-b189-9fdb76c068a4\",\"root_ids\":[\"35713\"],\"roots\":{\"35713\":\"54abfe80-f3d7-44cf-9fb0-45196bf30b12\"}}];\n",
       "    root.Bokeh.embed.embed_items_notebook(docs_json, render_items);\n",
       "  }\n",
       "  if (root.Bokeh !== undefined && root.Bokeh.Panel !== undefined && ( root['Tabulator'] !== undefined)) {\n",
       "    embed_document(root);\n",
       "  } else {\n",
       "    var attempts = 0;\n",
       "    var timer = setInterval(function(root) {\n",
       "      if (root.Bokeh !== undefined && root.Bokeh.Panel !== undefined && (root['Tabulator'] !== undefined)) {\n",
       "        clearInterval(timer);\n",
       "        embed_document(root);\n",
       "      } else if (document.readyState == \"complete\") {\n",
       "        attempts++;\n",
       "        if (attempts > 200) {\n",
       "          clearInterval(timer);\n",
       "          console.log(\"Bokeh: ERROR: Unable to run BokehJS code because BokehJS library is missing\");\n",
       "        }\n",
       "      }\n",
       "    }, 25, root)\n",
       "  }\n",
       "})(window);</script>"
      ],
      "text/plain": [
       "<hvplot.interactive.Interactive at 0x24118fbf670>"
      ]
     },
     "execution_count": 78,
     "metadata": {
      "application/vnd.holoviews_exec.v0+json": {
       "id": "35713"
      }
     },
     "output_type": "execute_result"
    }
   ],
   "source": [
    "crrgn_plot = crimergn_pipeline.hvplot(x = 'Year_Month', y='Frequency',legend=False,xticks=0,line_width=2,fontsize=10, title=\"Total Crime Frequency plot for Region across 2013-2020\")\n",
    "crrgn_plot"
   ]
  },
  {
   "cell_type": "code",
   "execution_count": 83,
   "id": "44342ea5",
   "metadata": {},
   "outputs": [],
   "source": [
    "crimetyp1_pipeline = (\n",
    "    idf[(idf.Crime_Type == select_typ )].groupby(['Year_Month'])['Frequency'].sum()\n",
    "    .to_frame()\n",
    "    .reset_index()\n",
    "    .sort_values(by='Year_Month') \n",
    "    .reset_index(drop=True)\n",
    ")"
   ]
  },
  {
   "cell_type": "code",
   "execution_count": 84,
   "id": "55957e96",
   "metadata": {},
   "outputs": [
    {
     "data": {},
     "metadata": {},
     "output_type": "display_data"
    },
    {
     "data": {},
     "metadata": {},
     "output_type": "display_data"
    },
    {
     "data": {
      "application/vnd.holoviews_exec.v0+json": "",
      "text/html": [
       "<div id='43119'>\n",
       "\n",
       "\n",
       "\n",
       "\n",
       "\n",
       "  <div class=\"bk-root\" id=\"8ca54bf6-e62c-45cd-a611-316cb84d3e76\" data-root-id=\"43119\"></div>\n",
       "</div>\n",
       "<script type=\"application/javascript\">(function(root) {\n",
       "  function embed_document(root) {\n",
       "    var docs_json = {\"f793777e-3ca9-49ef-bc0d-60477946840e\":{\"defs\":[{\"extends\":null,\"module\":null,\"name\":\"ReactiveHTML1\",\"overrides\":[],\"properties\":[]},{\"extends\":null,\"module\":null,\"name\":\"FlexBox1\",\"overrides\":[],\"properties\":[{\"default\":\"flex-start\",\"kind\":null,\"name\":\"align_content\"},{\"default\":\"flex-start\",\"kind\":null,\"name\":\"align_items\"},{\"default\":\"row\",\"kind\":null,\"name\":\"flex_direction\"},{\"default\":\"wrap\",\"kind\":null,\"name\":\"flex_wrap\"},{\"default\":\"flex-start\",\"kind\":null,\"name\":\"justify_content\"}]},{\"extends\":null,\"module\":null,\"name\":\"TemplateActions1\",\"overrides\":[],\"properties\":[{\"default\":0,\"kind\":null,\"name\":\"open_modal\"},{\"default\":0,\"kind\":null,\"name\":\"close_modal\"}]},{\"extends\":null,\"module\":null,\"name\":\"MaterialTemplateActions1\",\"overrides\":[],\"properties\":[{\"default\":0,\"kind\":null,\"name\":\"open_modal\"},{\"default\":0,\"kind\":null,\"name\":\"close_modal\"}]}],\"roots\":{\"references\":[{\"attributes\":{\"end\":4720.7,\"reset_end\":4720.7,\"reset_start\":1052.3,\"start\":1052.3,\"tags\":[[[\"Frequency\",\"Frequency\",null]]]},\"id\":\"43126\",\"type\":\"Range1d\"},{\"attributes\":{\"callback\":null,\"renderers\":[{\"id\":\"43163\"}],\"tags\":[\"hv_created\"],\"tooltips\":[[\"Year_Month\",\"@{Year_Month}\"],[\"Frequency\",\"@{Frequency}\"]]},\"id\":\"43127\",\"type\":\"HoverTool\"},{\"attributes\":{\"axis\":{\"id\":\"43137\"},\"coordinates\":null,\"grid_line_color\":null,\"group\":null,\"ticker\":null},\"id\":\"43139\",\"type\":\"Grid\"},{\"attributes\":{\"line_alpha\":0.1,\"line_color\":\"#30a2da\",\"line_width\":2,\"x\":{\"field\":\"Year_Month\"},\"y\":{\"field\":\"Frequency\"}},\"id\":\"43161\",\"type\":\"Line\"},{\"attributes\":{},\"id\":\"43179\",\"type\":\"UnionRenderers\"},{\"attributes\":{\"below\":[{\"id\":\"43137\"}],\"center\":[{\"id\":\"43139\"},{\"id\":\"43143\"}],\"height\":300,\"left\":[{\"id\":\"43140\"}],\"margin\":[5,5,5,5],\"min_border_bottom\":10,\"min_border_left\":10,\"min_border_right\":10,\"min_border_top\":10,\"renderers\":[{\"id\":\"43163\"}],\"sizing_mode\":\"fixed\",\"title\":{\"id\":\"43129\"},\"toolbar\":{\"id\":\"43150\"},\"width\":700,\"x_range\":{\"id\":\"43125\"},\"x_scale\":{\"id\":\"43133\"},\"y_range\":{\"id\":\"43126\"},\"y_scale\":{\"id\":\"43135\"}},\"id\":\"43128\",\"subtype\":\"Figure\",\"type\":\"Plot\"},{\"attributes\":{},\"id\":\"43148\",\"type\":\"ResetTool\"},{\"attributes\":{},\"id\":\"43171\",\"type\":\"AllLabels\"},{\"attributes\":{\"data\":{\"Frequency\":[1672,1562,1768,1671,1607,1664,1480,1433,1458,1358,1602,1599,1628,1694,1711,1581,1687,1789,1559,1478,1566,1517,1791,1775,1836,1988,2066,2057,1877,2190,2086,1930,2018,2024,2124,2197,2423,2471,2696,2545,2556,2790,2491,2429,2519,2647,3122,2903,3370,3361,3392,3312,3129,3359,3209,2847,3252,3145,3458,3655,3839,3709,3787,3477,3431,3560,3663,3085,3402,3263,4415,3797,3906,3704,3541,3336,3404,3545,3534,3050,3300,2973,3204,2781,3270,3234,3671,3505,3521,3423,3338,2860],\"Year_Month\":[\"2013-05\",\"2013-06\",\"2013-07\",\"2013-08\",\"2013-09\",\"2013-10\",\"2013-11\",\"2013-12\",\"2014-01\",\"2014-02\",\"2014-03\",\"2014-04\",\"2014-05\",\"2014-06\",\"2014-07\",\"2014-08\",\"2014-09\",\"2014-10\",\"2014-11\",\"2014-12\",\"2015-01\",\"2015-02\",\"2015-03\",\"2015-04\",\"2015-05\",\"2015-06\",\"2015-07\",\"2015-08\",\"2015-09\",\"2015-10\",\"2015-11\",\"2015-12\",\"2016-01\",\"2016-02\",\"2016-03\",\"2016-04\",\"2016-05\",\"2016-06\",\"2016-07\",\"2016-08\",\"2016-09\",\"2016-10\",\"2016-11\",\"2016-12\",\"2017-01\",\"2017-02\",\"2017-03\",\"2017-04\",\"2017-05\",\"2017-06\",\"2017-07\",\"2017-08\",\"2017-09\",\"2017-10\",\"2017-11\",\"2017-12\",\"2018-01\",\"2018-02\",\"2018-03\",\"2018-04\",\"2018-05\",\"2018-06\",\"2018-07\",\"2018-08\",\"2018-09\",\"2018-10\",\"2018-11\",\"2018-12\",\"2019-01\",\"2019-02\",\"2019-03\",\"2019-04\",\"2019-05\",\"2019-06\",\"2019-07\",\"2019-08\",\"2019-09\",\"2019-10\",\"2019-11\",\"2019-12\",\"2020-01\",\"2020-02\",\"2020-03\",\"2020-04\",\"2020-05\",\"2020-06\",\"2020-07\",\"2020-08\",\"2020-09\",\"2020-10\",\"2020-11\",\"2020-12\"]},\"selected\":{\"id\":\"43158\"},\"selection_policy\":{\"id\":\"43179\"}},\"id\":\"43157\",\"type\":\"ColumnDataSource\"},{\"attributes\":{\"overlay\":{\"id\":\"43149\"}},\"id\":\"43147\",\"type\":\"BoxZoomTool\"},{\"attributes\":{\"children\":[{\"id\":\"43122\"},{\"id\":\"43124\"}],\"margin\":[0,0,0,0],\"name\":\"Row130606\"},\"id\":\"43121\",\"type\":\"Row\"},{\"attributes\":{\"coordinates\":null,\"group\":null,\"text\":\"Total Crime Frequency plot for crime type across 2013-2020\",\"text_color\":\"black\",\"text_font_size\":\"12pt\"},\"id\":\"43129\",\"type\":\"Title\"},{\"attributes\":{\"margin\":[5,5,5,5],\"name\":\"HSpacer130605\",\"sizing_mode\":\"stretch_width\"},\"id\":\"43124\",\"type\":\"Spacer\"},{\"attributes\":{\"coordinates\":null,\"data_source\":{\"id\":\"43157\"},\"glyph\":{\"id\":\"43160\"},\"group\":null,\"hover_glyph\":null,\"muted_glyph\":{\"id\":\"43162\"},\"nonselection_glyph\":{\"id\":\"43161\"},\"selection_glyph\":{\"id\":\"43165\"},\"view\":{\"id\":\"43164\"}},\"id\":\"43163\",\"type\":\"GlyphRenderer\"},{\"attributes\":{},\"id\":\"43135\",\"type\":\"LinearScale\"},{\"attributes\":{\"children\":[{\"id\":\"43120\"}],\"margin\":[0,0,0,0],\"name\":\"Row130613\"},\"id\":\"43119\",\"type\":\"Row\"},{\"attributes\":{},\"id\":\"43158\",\"type\":\"Selection\"},{\"attributes\":{\"margin\":[5,10,5,10],\"options\":[\"Anti-social behaviour\",\"Bicycle theft\",\"Burglary\",\"Criminal damage and arson\",\"Drugs\",\"Other crime\",\"Other theft\",\"Possession of weapons\",\"Public order\",\"Robbery\",\"Shoplifting\",\"Theft from the person\",\"Vehicle crime\",\"Violence and sexual offences\"],\"title\":\"Select\",\"value\":\"Possession of weapons\"},\"id\":\"43123\",\"type\":\"Select\"},{\"attributes\":{},\"id\":\"43138\",\"type\":\"CategoricalTicker\"},{\"attributes\":{\"line_color\":\"#30a2da\",\"line_width\":2,\"x\":{\"field\":\"Year_Month\"},\"y\":{\"field\":\"Frequency\"}},\"id\":\"43160\",\"type\":\"Line\"},{\"attributes\":{},\"id\":\"43144\",\"type\":\"SaveTool\"},{\"attributes\":{\"axis_label\":\"Frequency\",\"coordinates\":null,\"formatter\":{\"id\":\"43170\"},\"group\":null,\"major_label_policy\":{\"id\":\"43171\"},\"ticker\":{\"id\":\"43141\"}},\"id\":\"43140\",\"type\":\"LinearAxis\"},{\"attributes\":{},\"id\":\"43141\",\"type\":\"BasicTicker\"},{\"attributes\":{\"children\":[{\"id\":\"43123\"}],\"margin\":[0,0,0,0],\"name\":\"Column130601\"},\"id\":\"43122\",\"type\":\"Column\"},{\"attributes\":{},\"id\":\"43167\",\"type\":\"CategoricalTickFormatter\"},{\"attributes\":{\"children\":[{\"id\":\"43121\"},{\"id\":\"43128\"}],\"margin\":[0,0,0,0],\"name\":\"Column130612\"},\"id\":\"43120\",\"type\":\"Column\"},{\"attributes\":{},\"id\":\"43146\",\"type\":\"WheelZoomTool\"},{\"attributes\":{\"axis\":{\"id\":\"43140\"},\"coordinates\":null,\"dimension\":1,\"grid_line_color\":null,\"group\":null,\"ticker\":null},\"id\":\"43143\",\"type\":\"Grid\"},{\"attributes\":{\"line_alpha\":0.2,\"line_color\":\"#30a2da\",\"line_width\":2,\"x\":{\"field\":\"Year_Month\"},\"y\":{\"field\":\"Frequency\"}},\"id\":\"43162\",\"type\":\"Line\"},{\"attributes\":{\"line_color\":\"#30a2da\",\"line_width\":2,\"x\":{\"field\":\"Year_Month\"},\"y\":{\"field\":\"Frequency\"}},\"id\":\"43165\",\"type\":\"Line\"},{\"attributes\":{\"axis_label\":\"Year_Month\",\"coordinates\":null,\"formatter\":{\"id\":\"43167\"},\"group\":null,\"major_label_policy\":{\"id\":\"43168\"},\"ticker\":{\"id\":\"43138\"}},\"id\":\"43137\",\"type\":\"CategoricalAxis\"},{\"attributes\":{\"source\":{\"id\":\"43157\"}},\"id\":\"43164\",\"type\":\"CDSView\"},{\"attributes\":{},\"id\":\"43145\",\"type\":\"PanTool\"},{\"attributes\":{\"factors\":[\"2013-05\",\"2013-06\",\"2013-07\",\"2013-08\",\"2013-09\",\"2013-10\",\"2013-11\",\"2013-12\",\"2014-01\",\"2014-02\",\"2014-03\",\"2014-04\",\"2014-05\",\"2014-06\",\"2014-07\",\"2014-08\",\"2014-09\",\"2014-10\",\"2014-11\",\"2014-12\",\"2015-01\",\"2015-02\",\"2015-03\",\"2015-04\",\"2015-05\",\"2015-06\",\"2015-07\",\"2015-08\",\"2015-09\",\"2015-10\",\"2015-11\",\"2015-12\",\"2016-01\",\"2016-02\",\"2016-03\",\"2016-04\",\"2016-05\",\"2016-06\",\"2016-07\",\"2016-08\",\"2016-09\",\"2016-10\",\"2016-11\",\"2016-12\",\"2017-01\",\"2017-02\",\"2017-03\",\"2017-04\",\"2017-05\",\"2017-06\",\"2017-07\",\"2017-08\",\"2017-09\",\"2017-10\",\"2017-11\",\"2017-12\",\"2018-01\",\"2018-02\",\"2018-03\",\"2018-04\",\"2018-05\",\"2018-06\",\"2018-07\",\"2018-08\",\"2018-09\",\"2018-10\",\"2018-11\",\"2018-12\",\"2019-01\",\"2019-02\",\"2019-03\",\"2019-04\",\"2019-05\",\"2019-06\",\"2019-07\",\"2019-08\",\"2019-09\",\"2019-10\",\"2019-11\",\"2019-12\",\"2020-01\",\"2020-02\",\"2020-03\",\"2020-04\",\"2020-05\",\"2020-06\",\"2020-07\",\"2020-08\",\"2020-09\",\"2020-10\",\"2020-11\",\"2020-12\"],\"tags\":[[[\"Year_Month\",\"Year_Month\",null]]]},\"id\":\"43125\",\"type\":\"FactorRange\"},{\"attributes\":{},\"id\":\"43170\",\"type\":\"BasicTickFormatter\"},{\"attributes\":{},\"id\":\"43168\",\"type\":\"AllLabels\"},{\"attributes\":{\"bottom_units\":\"screen\",\"coordinates\":null,\"fill_alpha\":0.5,\"fill_color\":\"lightgrey\",\"group\":null,\"left_units\":\"screen\",\"level\":\"overlay\",\"line_alpha\":1.0,\"line_color\":\"black\",\"line_dash\":[4,4],\"line_width\":2,\"right_units\":\"screen\",\"syncable\":false,\"top_units\":\"screen\"},\"id\":\"43149\",\"type\":\"BoxAnnotation\"},{\"attributes\":{\"client_comm_id\":\"ee8d39f1c04442eeb1c6aa797a121666\",\"comm_id\":\"272e21584c504befbfa72437fe55f6eb\",\"plot_id\":\"43119\"},\"id\":\"43222\",\"type\":\"panel.models.comm_manager.CommManager\"},{\"attributes\":{\"tools\":[{\"id\":\"43127\"},{\"id\":\"43144\"},{\"id\":\"43145\"},{\"id\":\"43146\"},{\"id\":\"43147\"},{\"id\":\"43148\"}]},\"id\":\"43150\",\"type\":\"Toolbar\"},{\"attributes\":{},\"id\":\"43133\",\"type\":\"CategoricalScale\"}],\"root_ids\":[\"43119\",\"43222\"]},\"title\":\"Bokeh Application\",\"version\":\"2.4.2\"}};\n",
       "    var render_items = [{\"docid\":\"f793777e-3ca9-49ef-bc0d-60477946840e\",\"root_ids\":[\"43119\"],\"roots\":{\"43119\":\"8ca54bf6-e62c-45cd-a611-316cb84d3e76\"}}];\n",
       "    root.Bokeh.embed.embed_items_notebook(docs_json, render_items);\n",
       "  }\n",
       "  if (root.Bokeh !== undefined && root.Bokeh.Panel !== undefined && ( root['Tabulator'] !== undefined)) {\n",
       "    embed_document(root);\n",
       "  } else {\n",
       "    var attempts = 0;\n",
       "    var timer = setInterval(function(root) {\n",
       "      if (root.Bokeh !== undefined && root.Bokeh.Panel !== undefined && (root['Tabulator'] !== undefined)) {\n",
       "        clearInterval(timer);\n",
       "        embed_document(root);\n",
       "      } else if (document.readyState == \"complete\") {\n",
       "        attempts++;\n",
       "        if (attempts > 200) {\n",
       "          clearInterval(timer);\n",
       "          console.log(\"Bokeh: ERROR: Unable to run BokehJS code because BokehJS library is missing\");\n",
       "        }\n",
       "      }\n",
       "    }, 25, root)\n",
       "  }\n",
       "})(window);</script>"
      ],
      "text/plain": [
       "<hvplot.interactive.Interactive at 0x24119cb6ee0>"
      ]
     },
     "execution_count": 84,
     "metadata": {
      "application/vnd.holoviews_exec.v0+json": {
       "id": "43119"
      }
     },
     "output_type": "execute_result"
    }
   ],
   "source": [
    "crtyp1_plot = crimetyp1_pipeline.hvplot(x = 'Year_Month', y='Frequency',legend=False,line_width=2, title=\"Total Crime Frequency plot for crime type across 2013-2020\")\n",
    "crtyp1_plot"
   ]
  },
  {
   "cell_type": "code",
   "execution_count": 79,
   "id": "9f82acbe-edb5-4501-975f-fe4fb1498d67",
   "metadata": {},
   "outputs": [],
   "source": [
    "crimetyp_pipeline = (\n",
    "    idf[(idf.Crime_Type == select_typ )].groupby(['Year_Month','RGN19NM'])['Frequency'].sum()\n",
    "    .to_frame()\n",
    "    .reset_index()\n",
    "    .sort_values(by='Year_Month') \n",
    "    .reset_index(drop=True)\n",
    ")"
   ]
  },
  {
   "cell_type": "code",
   "execution_count": 80,
   "id": "64ed815c-9e7a-4c68-944b-6d3696a99feb",
   "metadata": {
    "scrolled": true
   },
   "outputs": [
    {
     "data": {},
     "metadata": {},
     "output_type": "display_data"
    },
    {
     "data": {},
     "metadata": {},
     "output_type": "display_data"
    },
    {
     "data": {
      "application/vnd.holoviews_exec.v0+json": "",
      "text/html": [
       "<div id='35861'>\n",
       "\n",
       "\n",
       "\n",
       "\n",
       "\n",
       "  <div class=\"bk-root\" id=\"1dc60020-dfdf-45fb-934b-d3d232076955\" data-root-id=\"35861\"></div>\n",
       "</div>\n",
       "<script type=\"application/javascript\">(function(root) {\n",
       "  function embed_document(root) {\n",
       "    var docs_json = {\"46b97e6a-64a5-4272-b8a0-b9130313f402\":{\"defs\":[{\"extends\":null,\"module\":null,\"name\":\"ReactiveHTML1\",\"overrides\":[],\"properties\":[]},{\"extends\":null,\"module\":null,\"name\":\"FlexBox1\",\"overrides\":[],\"properties\":[{\"default\":\"flex-start\",\"kind\":null,\"name\":\"align_content\"},{\"default\":\"flex-start\",\"kind\":null,\"name\":\"align_items\"},{\"default\":\"row\",\"kind\":null,\"name\":\"flex_direction\"},{\"default\":\"wrap\",\"kind\":null,\"name\":\"flex_wrap\"},{\"default\":\"flex-start\",\"kind\":null,\"name\":\"justify_content\"}]},{\"extends\":null,\"module\":null,\"name\":\"TemplateActions1\",\"overrides\":[],\"properties\":[{\"default\":0,\"kind\":null,\"name\":\"open_modal\"},{\"default\":0,\"kind\":null,\"name\":\"close_modal\"}]},{\"extends\":null,\"module\":null,\"name\":\"MaterialTemplateActions1\",\"overrides\":[],\"properties\":[{\"default\":0,\"kind\":null,\"name\":\"open_modal\"},{\"default\":0,\"kind\":null,\"name\":\"close_modal\"}]}],\"roots\":{\"references\":[{\"attributes\":{\"line_alpha\":0.2,\"line_color\":\"#30a2da\",\"line_width\":2,\"x\":{\"field\":\"Year_Month\"},\"y\":{\"field\":\"Frequency\"}},\"id\":\"35918\",\"type\":\"Line\"},{\"attributes\":{},\"id\":\"36007\",\"type\":\"UnionRenderers\"},{\"attributes\":{\"source\":{\"id\":\"35976\"}},\"id\":\"35983\",\"type\":\"CDSView\"},{\"attributes\":{},\"id\":\"35888\",\"type\":\"CategoricalTicker\"},{\"attributes\":{},\"id\":\"35941\",\"type\":\"Selection\"},{\"attributes\":{\"coordinates\":null,\"data_source\":{\"id\":\"35949\"},\"glyph\":{\"id\":\"35952\"},\"group\":null,\"hover_glyph\":null,\"muted_glyph\":{\"id\":\"35954\"},\"nonselection_glyph\":{\"id\":\"35953\"},\"selection_glyph\":{\"id\":\"35957\"},\"view\":{\"id\":\"35956\"}},\"id\":\"35955\",\"type\":\"GlyphRenderer\"},{\"attributes\":{\"line_alpha\":0.2,\"line_color\":\"#e5ae38\",\"line_width\":2,\"x\":{\"field\":\"Year_Month\"},\"y\":{\"field\":\"Frequency\"}},\"id\":\"35936\",\"type\":\"Line\"},{\"attributes\":{\"callback\":null,\"renderers\":[{\"id\":\"35919\"},{\"id\":\"35928\"},{\"id\":\"35937\"},{\"id\":\"35946\"},{\"id\":\"35955\"},{\"id\":\"35964\"},{\"id\":\"35973\"},{\"id\":\"35982\"},{\"id\":\"35991\"}],\"tags\":[\"hv_created\"],\"tooltips\":[[\"RGN19NM\",\"@{RGN19NM}\"],[\"Year_Month\",\"@{Year_Month}\"],[\"Frequency\",\"@{Frequency}\"]]},\"id\":\"35869\",\"type\":\"HoverTool\"},{\"attributes\":{},\"id\":\"36009\",\"type\":\"UnionRenderers\"},{\"attributes\":{\"source\":{\"id\":\"35949\"}},\"id\":\"35956\",\"type\":\"CDSView\"},{\"attributes\":{\"tools\":[{\"id\":\"35869\"},{\"id\":\"35894\"},{\"id\":\"35895\"},{\"id\":\"35896\"},{\"id\":\"35897\"},{\"id\":\"35898\"}]},\"id\":\"35900\",\"type\":\"Toolbar\"},{\"attributes\":{\"coordinates\":null,\"data_source\":{\"id\":\"35958\"},\"glyph\":{\"id\":\"35961\"},\"group\":null,\"hover_glyph\":null,\"muted_glyph\":{\"id\":\"35963\"},\"nonselection_glyph\":{\"id\":\"35962\"},\"selection_glyph\":{\"id\":\"35966\"},\"view\":{\"id\":\"35965\"}},\"id\":\"35964\",\"type\":\"GlyphRenderer\"},{\"attributes\":{\"line_color\":\"#17becf\",\"line_width\":2,\"x\":{\"field\":\"Year_Month\"},\"y\":{\"field\":\"Frequency\"}},\"id\":\"35966\",\"type\":\"Line\"},{\"attributes\":{\"data\":{\"Frequency\":[16878,17697,21834,20032,16126,15315,13718,12694,12095,11449,14196,14008,15225,16492,18045,14763,15053,13664,11825,11680,11191,11236,12829,13697,13775,14465,15218,14871,12317,12962,11092,10595,10119,9590,11327,11594,13070,13214,14720,14470,12701,12661,10219,10620,10271,10425,12495,13444,13604,14297,14997,14545,11872,12928,10572,9825,9582,8882,10537,11415,12971,13458,14554,13581,11383,11160,9651,9093,9220,9150,10489,10716,11289,11118,12838,11932,10340,9813,8616,7755,8089,7910,9886,15682,16476,14619,14430,14628,11949,11343,10636,10248],\"RGN19NM\":[\"South West\",\"South West\",\"South West\",\"South West\",\"South West\",\"South West\",\"South West\",\"South West\",\"South West\",\"South West\",\"South West\",\"South West\",\"South West\",\"South West\",\"South West\",\"South West\",\"South West\",\"South West\",\"South West\",\"South West\",\"South West\",\"South West\",\"South West\",\"South West\",\"South West\",\"South West\",\"South West\",\"South West\",\"South West\",\"South West\",\"South West\",\"South West\",\"South West\",\"South West\",\"South West\",\"South West\",\"South West\",\"South West\",\"South West\",\"South West\",\"South West\",\"South West\",\"South West\",\"South West\",\"South West\",\"South West\",\"South West\",\"South West\",\"South West\",\"South West\",\"South West\",\"South West\",\"South West\",\"South West\",\"South West\",\"South West\",\"South West\",\"South West\",\"South West\",\"South West\",\"South West\",\"South West\",\"South West\",\"South West\",\"South West\",\"South West\",\"South West\",\"South West\",\"South West\",\"South West\",\"South West\",\"South West\",\"South West\",\"South West\",\"South West\",\"South West\",\"South West\",\"South West\",\"South West\",\"South West\",\"South West\",\"South West\",\"South West\",\"South West\",\"South West\",\"South West\",\"South West\",\"South West\",\"South West\",\"South West\",\"South West\",\"South West\"],\"Year_Month\":[\"2013-05\",\"2013-06\",\"2013-07\",\"2013-08\",\"2013-09\",\"2013-10\",\"2013-11\",\"2013-12\",\"2014-01\",\"2014-02\",\"2014-03\",\"2014-04\",\"2014-05\",\"2014-06\",\"2014-07\",\"2014-08\",\"2014-09\",\"2014-10\",\"2014-11\",\"2014-12\",\"2015-01\",\"2015-02\",\"2015-03\",\"2015-04\",\"2015-05\",\"2015-06\",\"2015-07\",\"2015-08\",\"2015-09\",\"2015-10\",\"2015-11\",\"2015-12\",\"2016-01\",\"2016-02\",\"2016-03\",\"2016-04\",\"2016-05\",\"2016-06\",\"2016-07\",\"2016-08\",\"2016-09\",\"2016-10\",\"2016-11\",\"2016-12\",\"2017-01\",\"2017-02\",\"2017-03\",\"2017-04\",\"2017-05\",\"2017-06\",\"2017-07\",\"2017-08\",\"2017-09\",\"2017-10\",\"2017-11\",\"2017-12\",\"2018-01\",\"2018-02\",\"2018-03\",\"2018-04\",\"2018-05\",\"2018-06\",\"2018-07\",\"2018-08\",\"2018-09\",\"2018-10\",\"2018-11\",\"2018-12\",\"2019-01\",\"2019-02\",\"2019-03\",\"2019-04\",\"2019-05\",\"2019-06\",\"2019-07\",\"2019-08\",\"2019-09\",\"2019-10\",\"2019-11\",\"2019-12\",\"2020-01\",\"2020-02\",\"2020-03\",\"2020-04\",\"2020-05\",\"2020-06\",\"2020-07\",\"2020-08\",\"2020-09\",\"2020-10\",\"2020-11\",\"2020-12\"]},\"selected\":{\"id\":\"35968\"},\"selection_policy\":{\"id\":\"36013\"}},\"id\":\"35967\",\"type\":\"ColumnDataSource\"},{\"attributes\":{\"data\":{\"Frequency\":[25353,27317,34475,29192,22824,25799,22431,19879,18915,17951,21390,21009,22662,24551,28312,23081,22640,21844,18858,15398,14857,14601,17083,18606,19939,21671,23671,22133,18143,20914,17785,15921,14979,15052,16280,17399,21367,21893,26211,25757,22307,22897,18846,17685,17036,15806,19105,19960,20491,19497,23032,22229,18592,20551,16559,15178,16065,14091,16183,19940,18671,19408,21347,19990,17844,22421,17976,16579,16966,16906,18959,19547,20993,22162,25822,23675,20020,20568,18533,16986,17649,17055,23063,62789,58546,39619,35633,35898,30917,31278,34208,29823],\"RGN19NM\":[\"London\",\"London\",\"London\",\"London\",\"London\",\"London\",\"London\",\"London\",\"London\",\"London\",\"London\",\"London\",\"London\",\"London\",\"London\",\"London\",\"London\",\"London\",\"London\",\"London\",\"London\",\"London\",\"London\",\"London\",\"London\",\"London\",\"London\",\"London\",\"London\",\"London\",\"London\",\"London\",\"London\",\"London\",\"London\",\"London\",\"London\",\"London\",\"London\",\"London\",\"London\",\"London\",\"London\",\"London\",\"London\",\"London\",\"London\",\"London\",\"London\",\"London\",\"London\",\"London\",\"London\",\"London\",\"London\",\"London\",\"London\",\"London\",\"London\",\"London\",\"London\",\"London\",\"London\",\"London\",\"London\",\"London\",\"London\",\"London\",\"London\",\"London\",\"London\",\"London\",\"London\",\"London\",\"London\",\"London\",\"London\",\"London\",\"London\",\"London\",\"London\",\"London\",\"London\",\"London\",\"London\",\"London\",\"London\",\"London\",\"London\",\"London\",\"London\",\"London\"],\"Year_Month\":[\"2013-05\",\"2013-06\",\"2013-07\",\"2013-08\",\"2013-09\",\"2013-10\",\"2013-11\",\"2013-12\",\"2014-01\",\"2014-02\",\"2014-03\",\"2014-04\",\"2014-05\",\"2014-06\",\"2014-07\",\"2014-08\",\"2014-09\",\"2014-10\",\"2014-11\",\"2014-12\",\"2015-01\",\"2015-02\",\"2015-03\",\"2015-04\",\"2015-05\",\"2015-06\",\"2015-07\",\"2015-08\",\"2015-09\",\"2015-10\",\"2015-11\",\"2015-12\",\"2016-01\",\"2016-02\",\"2016-03\",\"2016-04\",\"2016-05\",\"2016-06\",\"2016-07\",\"2016-08\",\"2016-09\",\"2016-10\",\"2016-11\",\"2016-12\",\"2017-01\",\"2017-02\",\"2017-03\",\"2017-04\",\"2017-05\",\"2017-06\",\"2017-07\",\"2017-08\",\"2017-09\",\"2017-10\",\"2017-11\",\"2017-12\",\"2018-01\",\"2018-02\",\"2018-03\",\"2018-04\",\"2018-05\",\"2018-06\",\"2018-07\",\"2018-08\",\"2018-09\",\"2018-10\",\"2018-11\",\"2018-12\",\"2019-01\",\"2019-02\",\"2019-03\",\"2019-04\",\"2019-05\",\"2019-06\",\"2019-07\",\"2019-08\",\"2019-09\",\"2019-10\",\"2019-11\",\"2019-12\",\"2020-01\",\"2020-02\",\"2020-03\",\"2020-04\",\"2020-05\",\"2020-06\",\"2020-07\",\"2020-08\",\"2020-09\",\"2020-10\",\"2020-11\",\"2020-12\"]},\"selected\":{\"id\":\"35932\"},\"selection_policy\":{\"id\":\"36005\"}},\"id\":\"35931\",\"type\":\"ColumnDataSource\"},{\"attributes\":{},\"id\":\"35895\",\"type\":\"PanTool\"},{\"attributes\":{\"source\":{\"id\":\"35931\"}},\"id\":\"35938\",\"type\":\"CDSView\"},{\"attributes\":{\"line_alpha\":0.1,\"line_color\":\"#e5ae38\",\"line_width\":2,\"x\":{\"field\":\"Year_Month\"},\"y\":{\"field\":\"Frequency\"}},\"id\":\"35935\",\"type\":\"Line\"},{\"attributes\":{\"line_alpha\":0.2,\"line_color\":\"#d62728\",\"line_width\":2,\"x\":{\"field\":\"Year_Month\"},\"y\":{\"field\":\"Frequency\"}},\"id\":\"35981\",\"type\":\"Line\"},{\"attributes\":{\"coordinates\":null,\"data_source\":{\"id\":\"35931\"},\"glyph\":{\"id\":\"35934\"},\"group\":null,\"hover_glyph\":null,\"muted_glyph\":{\"id\":\"35936\"},\"nonselection_glyph\":{\"id\":\"35935\"},\"selection_glyph\":{\"id\":\"35939\"},\"view\":{\"id\":\"35938\"}},\"id\":\"35937\",\"type\":\"GlyphRenderer\"},{\"attributes\":{\"line_color\":\"#6d904f\",\"line_width\":2,\"x\":{\"field\":\"Year_Month\"},\"y\":{\"field\":\"Frequency\"}},\"id\":\"35948\",\"type\":\"Line\"},{\"attributes\":{},\"id\":\"36013\",\"type\":\"UnionRenderers\"},{\"attributes\":{\"line_alpha\":0.1,\"line_color\":\"#d62728\",\"line_width\":2,\"x\":{\"field\":\"Year_Month\"},\"y\":{\"field\":\"Frequency\"}},\"id\":\"35980\",\"type\":\"Line\"},{\"attributes\":{\"coordinates\":null,\"data_source\":{\"id\":\"35922\"},\"glyph\":{\"id\":\"35925\"},\"group\":null,\"hover_glyph\":null,\"muted_glyph\":{\"id\":\"35927\"},\"nonselection_glyph\":{\"id\":\"35926\"},\"selection_glyph\":{\"id\":\"35930\"},\"view\":{\"id\":\"35929\"}},\"id\":\"35928\",\"type\":\"GlyphRenderer\"},{\"attributes\":{\"axis\":{\"id\":\"35887\"},\"coordinates\":null,\"grid_line_color\":null,\"group\":null,\"ticker\":null},\"id\":\"35889\",\"type\":\"Grid\"},{\"attributes\":{\"line_color\":\"#1f77b4\",\"line_width\":2,\"x\":{\"field\":\"Year_Month\"},\"y\":{\"field\":\"Frequency\"}},\"id\":\"35993\",\"type\":\"Line\"},{\"attributes\":{\"line_color\":\"#8b8b8b\",\"line_width\":2,\"x\":{\"field\":\"Year_Month\"},\"y\":{\"field\":\"Frequency\"}},\"id\":\"35957\",\"type\":\"Line\"},{\"attributes\":{},\"id\":\"35896\",\"type\":\"WheelZoomTool\"},{\"attributes\":{\"coordinates\":null,\"data_source\":{\"id\":\"35967\"},\"glyph\":{\"id\":\"35970\"},\"group\":null,\"hover_glyph\":null,\"muted_glyph\":{\"id\":\"35972\"},\"nonselection_glyph\":{\"id\":\"35971\"},\"selection_glyph\":{\"id\":\"35975\"},\"view\":{\"id\":\"35974\"}},\"id\":\"35973\",\"type\":\"GlyphRenderer\"},{\"attributes\":{\"axis_label\":\"Frequency\",\"coordinates\":null,\"formatter\":{\"id\":\"35911\"},\"group\":null,\"major_label_policy\":{\"id\":\"35912\"},\"ticker\":{\"id\":\"35891\"}},\"id\":\"35890\",\"type\":\"LinearAxis\"},{\"attributes\":{},\"id\":\"35986\",\"type\":\"Selection\"},{\"attributes\":{},\"id\":\"36015\",\"type\":\"UnionRenderers\"},{\"attributes\":{},\"id\":\"35885\",\"type\":\"LinearScale\"},{\"attributes\":{\"line_alpha\":0.2,\"line_color\":\"#6d904f\",\"line_width\":2,\"x\":{\"field\":\"Year_Month\"},\"y\":{\"field\":\"Frequency\"}},\"id\":\"35945\",\"type\":\"Line\"},{\"attributes\":{\"client_comm_id\":\"482c81556ba34278ae80ca18d6577bd7\",\"comm_id\":\"e5f8106b50a64a40bc9dcbbbadc2ae58\",\"plot_id\":\"35861\"},\"id\":\"36306\",\"type\":\"panel.models.comm_manager.CommManager\"},{\"attributes\":{\"line_color\":\"#8b8b8b\",\"line_width\":2,\"x\":{\"field\":\"Year_Month\"},\"y\":{\"field\":\"Frequency\"}},\"id\":\"35952\",\"type\":\"Line\"},{\"attributes\":{\"data\":{\"Frequency\":[22309,23907,29609,27657,21660,20509,18074,16377,16021,14739,18857,20543,21344,23573,26534,23448,22300,20695,18066,15637,15741,15536,18144,19910,20781,22142,23336,21888,18256,18211,15562,15111,14293,14467,16159,16558,18935,18576,21490,21030,19119,18636,14839,14913,14337,14637,18642,17920,18056,18476,18080,18370,15163,16132,12992,11500,11846,11017,12759,11211,12258,13143,13834,12672,10576,9523,6689,6153,8404,7739,9632,12568,13318,13606,16928,15458,12632,12240,10344,9735,10217,9299,11571,21496,22798,19456,18924,18912,14721,14115,14320,13302],\"RGN19NM\":[\"South East\",\"South East\",\"South East\",\"South East\",\"South East\",\"South East\",\"South East\",\"South East\",\"South East\",\"South East\",\"South East\",\"South East\",\"South East\",\"South East\",\"South East\",\"South East\",\"South East\",\"South East\",\"South East\",\"South East\",\"South East\",\"South East\",\"South East\",\"South East\",\"South East\",\"South East\",\"South East\",\"South East\",\"South East\",\"South East\",\"South East\",\"South East\",\"South East\",\"South East\",\"South East\",\"South East\",\"South East\",\"South East\",\"South East\",\"South East\",\"South East\",\"South East\",\"South East\",\"South East\",\"South East\",\"South East\",\"South East\",\"South East\",\"South East\",\"South East\",\"South East\",\"South East\",\"South East\",\"South East\",\"South East\",\"South East\",\"South East\",\"South East\",\"South East\",\"South East\",\"South East\",\"South East\",\"South East\",\"South East\",\"South East\",\"South East\",\"South East\",\"South East\",\"South East\",\"South East\",\"South East\",\"South East\",\"South East\",\"South East\",\"South East\",\"South East\",\"South East\",\"South East\",\"South East\",\"South East\",\"South East\",\"South East\",\"South East\",\"South East\",\"South East\",\"South East\",\"South East\",\"South East\",\"South East\",\"South East\",\"South East\",\"South East\"],\"Year_Month\":[\"2013-05\",\"2013-06\",\"2013-07\",\"2013-08\",\"2013-09\",\"2013-10\",\"2013-11\",\"2013-12\",\"2014-01\",\"2014-02\",\"2014-03\",\"2014-04\",\"2014-05\",\"2014-06\",\"2014-07\",\"2014-08\",\"2014-09\",\"2014-10\",\"2014-11\",\"2014-12\",\"2015-01\",\"2015-02\",\"2015-03\",\"2015-04\",\"2015-05\",\"2015-06\",\"2015-07\",\"2015-08\",\"2015-09\",\"2015-10\",\"2015-11\",\"2015-12\",\"2016-01\",\"2016-02\",\"2016-03\",\"2016-04\",\"2016-05\",\"2016-06\",\"2016-07\",\"2016-08\",\"2016-09\",\"2016-10\",\"2016-11\",\"2016-12\",\"2017-01\",\"2017-02\",\"2017-03\",\"2017-04\",\"2017-05\",\"2017-06\",\"2017-07\",\"2017-08\",\"2017-09\",\"2017-10\",\"2017-11\",\"2017-12\",\"2018-01\",\"2018-02\",\"2018-03\",\"2018-04\",\"2018-05\",\"2018-06\",\"2018-07\",\"2018-08\",\"2018-09\",\"2018-10\",\"2018-11\",\"2018-12\",\"2019-01\",\"2019-02\",\"2019-03\",\"2019-04\",\"2019-05\",\"2019-06\",\"2019-07\",\"2019-08\",\"2019-09\",\"2019-10\",\"2019-11\",\"2019-12\",\"2020-01\",\"2020-02\",\"2020-03\",\"2020-04\",\"2020-05\",\"2020-06\",\"2020-07\",\"2020-08\",\"2020-09\",\"2020-10\",\"2020-11\",\"2020-12\"]},\"selected\":{\"id\":\"35959\"},\"selection_policy\":{\"id\":\"36011\"}},\"id\":\"35958\",\"type\":\"ColumnDataSource\"},{\"attributes\":{\"line_alpha\":0.1,\"line_color\":\"#1f77b4\",\"line_width\":2,\"x\":{\"field\":\"Year_Month\"},\"y\":{\"field\":\"Frequency\"}},\"id\":\"35989\",\"type\":\"Line\"},{\"attributes\":{\"line_alpha\":0.1,\"line_color\":\"#30a2da\",\"line_width\":2,\"x\":{\"field\":\"Year_Month\"},\"y\":{\"field\":\"Frequency\"}},\"id\":\"35917\",\"type\":\"Line\"},{\"attributes\":{},\"id\":\"35909\",\"type\":\"AllLabels\"},{\"attributes\":{\"coordinates\":null,\"data_source\":{\"id\":\"35976\"},\"glyph\":{\"id\":\"35979\"},\"group\":null,\"hover_glyph\":null,\"muted_glyph\":{\"id\":\"35981\"},\"nonselection_glyph\":{\"id\":\"35980\"},\"selection_glyph\":{\"id\":\"35984\"},\"view\":{\"id\":\"35983\"}},\"id\":\"35982\",\"type\":\"GlyphRenderer\"},{\"attributes\":{\"line_alpha\":0.1,\"line_color\":\"#fc4f30\",\"line_width\":2,\"x\":{\"field\":\"Year_Month\"},\"y\":{\"field\":\"Frequency\"}},\"id\":\"35926\",\"type\":\"Line\"},{\"attributes\":{\"source\":{\"id\":\"35985\"}},\"id\":\"35992\",\"type\":\"CDSView\"},{\"attributes\":{\"line_alpha\":0.1,\"line_color\":\"#8b8b8b\",\"line_width\":2,\"x\":{\"field\":\"Year_Month\"},\"y\":{\"field\":\"Frequency\"}},\"id\":\"35953\",\"type\":\"Line\"},{\"attributes\":{\"coordinates\":null,\"data_source\":{\"id\":\"35940\"},\"glyph\":{\"id\":\"35943\"},\"group\":null,\"hover_glyph\":null,\"muted_glyph\":{\"id\":\"35945\"},\"nonselection_glyph\":{\"id\":\"35944\"},\"selection_glyph\":{\"id\":\"35948\"},\"view\":{\"id\":\"35947\"}},\"id\":\"35946\",\"type\":\"GlyphRenderer\"},{\"attributes\":{\"line_color\":\"#30a2da\",\"line_width\":2,\"x\":{\"field\":\"Year_Month\"},\"y\":{\"field\":\"Frequency\"}},\"id\":\"35921\",\"type\":\"Line\"},{\"attributes\":{\"line_alpha\":0.2,\"line_color\":\"#fc4f30\",\"line_width\":2,\"x\":{\"field\":\"Year_Month\"},\"y\":{\"field\":\"Frequency\"}},\"id\":\"35927\",\"type\":\"Line\"},{\"attributes\":{\"line_alpha\":0.1,\"line_color\":\"#9467bd\",\"line_width\":2,\"x\":{\"field\":\"Year_Month\"},\"y\":{\"field\":\"Frequency\"}},\"id\":\"35971\",\"type\":\"Line\"},{\"attributes\":{\"line_alpha\":0.2,\"line_color\":\"#9467bd\",\"line_width\":2,\"x\":{\"field\":\"Year_Month\"},\"y\":{\"field\":\"Frequency\"}},\"id\":\"35972\",\"type\":\"Line\"},{\"attributes\":{},\"id\":\"35950\",\"type\":\"Selection\"},{\"attributes\":{\"children\":[{\"id\":\"35864\"},{\"id\":\"35866\"}],\"margin\":[0,0,0,0],\"name\":\"Row114764\"},\"id\":\"35863\",\"type\":\"Row\"},{\"attributes\":{},\"id\":\"36001\",\"type\":\"UnionRenderers\"},{\"attributes\":{\"line_color\":\"#d62728\",\"line_width\":2,\"x\":{\"field\":\"Year_Month\"},\"y\":{\"field\":\"Frequency\"}},\"id\":\"35979\",\"type\":\"Line\"},{\"attributes\":{\"margin\":[5,5,5,5],\"name\":\"HSpacer114763\",\"sizing_mode\":\"stretch_width\"},\"id\":\"35866\",\"type\":\"Spacer\"},{\"attributes\":{\"children\":[{\"id\":\"35862\"}],\"margin\":[0,0,0,0],\"name\":\"Row114771\"},\"id\":\"35861\",\"type\":\"Row\"},{\"attributes\":{},\"id\":\"35923\",\"type\":\"Selection\"},{\"attributes\":{\"children\":[{\"id\":\"35863\"},{\"id\":\"35878\"}],\"margin\":[0,0,0,0],\"name\":\"Column114770\"},\"id\":\"35862\",\"type\":\"Column\"},{\"attributes\":{\"line_alpha\":0.2,\"line_color\":\"#1f77b4\",\"line_width\":2,\"x\":{\"field\":\"Year_Month\"},\"y\":{\"field\":\"Frequency\"}},\"id\":\"35990\",\"type\":\"Line\"},{\"attributes\":{\"line_color\":\"#6d904f\",\"line_width\":2,\"x\":{\"field\":\"Year_Month\"},\"y\":{\"field\":\"Frequency\"}},\"id\":\"35943\",\"type\":\"Line\"},{\"attributes\":{\"line_color\":\"#d62728\",\"line_width\":2,\"x\":{\"field\":\"Year_Month\"},\"y\":{\"field\":\"Frequency\"}},\"id\":\"35984\",\"type\":\"Line\"},{\"attributes\":{\"source\":{\"id\":\"35913\"}},\"id\":\"35920\",\"type\":\"CDSView\"},{\"attributes\":{\"line_color\":\"#1f77b4\",\"line_width\":2,\"x\":{\"field\":\"Year_Month\"},\"y\":{\"field\":\"Frequency\"}},\"id\":\"35988\",\"type\":\"Line\"},{\"attributes\":{},\"id\":\"35932\",\"type\":\"Selection\"},{\"attributes\":{\"data\":{\"Frequency\":[15908,16054,19812,18128,14411,14356,12506,11641,11149,10781,14275,14585,15289,16676,18540,15484,15433,13866,11822,10302,10746,10584,12127,13477,13305,14815,15130,15029,13072,13863,10996,10779,10869,10932,12470,12783,14739,14959,16463,15521,14333,14478,10675,10600,10227,10387,12841,13911,14343,14613,16013,15326,12474,14065,11544,10955,10129,9450,11117,12178,13392,13878,15034,13129,11276,11349,9911,9314,9413,9244,10401,10547,10907,10707,12888,11673,9870,9520,8199,7554,7971,7983,10246,20495,19918,14606,13411,13266,11842,12573,11331,10519],\"RGN19NM\":[\"West Midlands\",\"West Midlands\",\"West Midlands\",\"West Midlands\",\"West Midlands\",\"West Midlands\",\"West Midlands\",\"West Midlands\",\"West Midlands\",\"West Midlands\",\"West Midlands\",\"West Midlands\",\"West Midlands\",\"West Midlands\",\"West Midlands\",\"West Midlands\",\"West Midlands\",\"West Midlands\",\"West Midlands\",\"West Midlands\",\"West Midlands\",\"West Midlands\",\"West Midlands\",\"West Midlands\",\"West Midlands\",\"West Midlands\",\"West Midlands\",\"West Midlands\",\"West Midlands\",\"West Midlands\",\"West Midlands\",\"West Midlands\",\"West Midlands\",\"West Midlands\",\"West Midlands\",\"West Midlands\",\"West Midlands\",\"West Midlands\",\"West Midlands\",\"West Midlands\",\"West Midlands\",\"West Midlands\",\"West Midlands\",\"West Midlands\",\"West Midlands\",\"West Midlands\",\"West Midlands\",\"West Midlands\",\"West Midlands\",\"West Midlands\",\"West Midlands\",\"West Midlands\",\"West Midlands\",\"West Midlands\",\"West Midlands\",\"West Midlands\",\"West Midlands\",\"West Midlands\",\"West Midlands\",\"West Midlands\",\"West Midlands\",\"West Midlands\",\"West Midlands\",\"West Midlands\",\"West Midlands\",\"West Midlands\",\"West Midlands\",\"West Midlands\",\"West Midlands\",\"West Midlands\",\"West Midlands\",\"West Midlands\",\"West Midlands\",\"West Midlands\",\"West Midlands\",\"West Midlands\",\"West Midlands\",\"West Midlands\",\"West Midlands\",\"West Midlands\",\"West Midlands\",\"West Midlands\",\"West Midlands\",\"West Midlands\",\"West Midlands\",\"West Midlands\",\"West Midlands\",\"West Midlands\",\"West Midlands\",\"West Midlands\",\"West Midlands\",\"West Midlands\"],\"Year_Month\":[\"2013-05\",\"2013-06\",\"2013-07\",\"2013-08\",\"2013-09\",\"2013-10\",\"2013-11\",\"2013-12\",\"2014-01\",\"2014-02\",\"2014-03\",\"2014-04\",\"2014-05\",\"2014-06\",\"2014-07\",\"2014-08\",\"2014-09\",\"2014-10\",\"2014-11\",\"2014-12\",\"2015-01\",\"2015-02\",\"2015-03\",\"2015-04\",\"2015-05\",\"2015-06\",\"2015-07\",\"2015-08\",\"2015-09\",\"2015-10\",\"2015-11\",\"2015-12\",\"2016-01\",\"2016-02\",\"2016-03\",\"2016-04\",\"2016-05\",\"2016-06\",\"2016-07\",\"2016-08\",\"2016-09\",\"2016-10\",\"2016-11\",\"2016-12\",\"2017-01\",\"2017-02\",\"2017-03\",\"2017-04\",\"2017-05\",\"2017-06\",\"2017-07\",\"2017-08\",\"2017-09\",\"2017-10\",\"2017-11\",\"2017-12\",\"2018-01\",\"2018-02\",\"2018-03\",\"2018-04\",\"2018-05\",\"2018-06\",\"2018-07\",\"2018-08\",\"2018-09\",\"2018-10\",\"2018-11\",\"2018-12\",\"2019-01\",\"2019-02\",\"2019-03\",\"2019-04\",\"2019-05\",\"2019-06\",\"2019-07\",\"2019-08\",\"2019-09\",\"2019-10\",\"2019-11\",\"2019-12\",\"2020-01\",\"2020-02\",\"2020-03\",\"2020-04\",\"2020-05\",\"2020-06\",\"2020-07\",\"2020-08\",\"2020-09\",\"2020-10\",\"2020-11\",\"2020-12\"]},\"selected\":{\"id\":\"35977\"},\"selection_policy\":{\"id\":\"36015\"}},\"id\":\"35976\",\"type\":\"ColumnDataSource\"},{\"attributes\":{\"children\":[{\"id\":\"35865\"}],\"margin\":[0,0,0,0],\"name\":\"Column114759\"},\"id\":\"35864\",\"type\":\"Column\"},{\"attributes\":{\"line_alpha\":0.2,\"line_color\":\"#8b8b8b\",\"line_width\":2,\"x\":{\"field\":\"Year_Month\"},\"y\":{\"field\":\"Frequency\"}},\"id\":\"35954\",\"type\":\"Line\"},{\"attributes\":{\"coordinates\":null,\"data_source\":{\"id\":\"35985\"},\"glyph\":{\"id\":\"35988\"},\"group\":null,\"hover_glyph\":null,\"muted_glyph\":{\"id\":\"35990\"},\"nonselection_glyph\":{\"id\":\"35989\"},\"selection_glyph\":{\"id\":\"35993\"},\"view\":{\"id\":\"35992\"}},\"id\":\"35991\",\"type\":\"GlyphRenderer\"},{\"attributes\":{\"line_color\":\"#e5ae38\",\"line_width\":2,\"x\":{\"field\":\"Year_Month\"},\"y\":{\"field\":\"Frequency\"}},\"id\":\"35939\",\"type\":\"Line\"},{\"attributes\":{\"data\":{\"Frequency\":[19869,20222,24591,23175,18438,18518,16986,14746,14890,14296,18205,19546,19604,20531,22923,19216,17810,18044,16561,13966,14998,14584,16071,17263,17538,17629,19696,19837,16902,18428,15561,13909,14785,14332,16122,16281,18085,17926,20342,19520,18645,18933,14694,13614,13302,12932,14804,15476,15105,15029,15965,16138,13728,15822,13007,10992,10537,9986,11757,12389,13445,12871,13449,13119,10726,11063,9091,7878,8448,9118,9618,10040,10021,9686,11415,11461,9395,10111,8285,7286,7937,7332,10042,12076,14733,13392,13263,13545,11474,11981,10589,9152],\"RGN19NM\":[\"Yorkshire and The Humber\",\"Yorkshire and The Humber\",\"Yorkshire and The Humber\",\"Yorkshire and The Humber\",\"Yorkshire and The Humber\",\"Yorkshire and The Humber\",\"Yorkshire and The Humber\",\"Yorkshire and The Humber\",\"Yorkshire and The Humber\",\"Yorkshire and The Humber\",\"Yorkshire and The Humber\",\"Yorkshire and The Humber\",\"Yorkshire and The Humber\",\"Yorkshire and The Humber\",\"Yorkshire and The Humber\",\"Yorkshire and The Humber\",\"Yorkshire and The Humber\",\"Yorkshire and The Humber\",\"Yorkshire and The Humber\",\"Yorkshire and The Humber\",\"Yorkshire and The Humber\",\"Yorkshire and The Humber\",\"Yorkshire and The Humber\",\"Yorkshire and The Humber\",\"Yorkshire and The Humber\",\"Yorkshire and The Humber\",\"Yorkshire and The Humber\",\"Yorkshire and The Humber\",\"Yorkshire and The Humber\",\"Yorkshire and The Humber\",\"Yorkshire and The Humber\",\"Yorkshire and The Humber\",\"Yorkshire and The Humber\",\"Yorkshire and The Humber\",\"Yorkshire and The Humber\",\"Yorkshire and The Humber\",\"Yorkshire and The Humber\",\"Yorkshire and The Humber\",\"Yorkshire and The Humber\",\"Yorkshire and The Humber\",\"Yorkshire and The Humber\",\"Yorkshire and The Humber\",\"Yorkshire and The Humber\",\"Yorkshire and The Humber\",\"Yorkshire and The Humber\",\"Yorkshire and The Humber\",\"Yorkshire and The Humber\",\"Yorkshire and The Humber\",\"Yorkshire and The Humber\",\"Yorkshire and The Humber\",\"Yorkshire and The Humber\",\"Yorkshire and The Humber\",\"Yorkshire and The Humber\",\"Yorkshire and The Humber\",\"Yorkshire and The Humber\",\"Yorkshire and The Humber\",\"Yorkshire and The Humber\",\"Yorkshire and The Humber\",\"Yorkshire and The Humber\",\"Yorkshire and The Humber\",\"Yorkshire and The Humber\",\"Yorkshire and The Humber\",\"Yorkshire and The Humber\",\"Yorkshire and The Humber\",\"Yorkshire and The Humber\",\"Yorkshire and The Humber\",\"Yorkshire and The Humber\",\"Yorkshire and The Humber\",\"Yorkshire and The Humber\",\"Yorkshire and The Humber\",\"Yorkshire and The Humber\",\"Yorkshire and The Humber\",\"Yorkshire and The Humber\",\"Yorkshire and The Humber\",\"Yorkshire and The Humber\",\"Yorkshire and The Humber\",\"Yorkshire and The Humber\",\"Yorkshire and The Humber\",\"Yorkshire and The Humber\",\"Yorkshire and The Humber\",\"Yorkshire and The Humber\",\"Yorkshire and The Humber\",\"Yorkshire and The Humber\",\"Yorkshire and The Humber\",\"Yorkshire and The Humber\",\"Yorkshire and The Humber\",\"Yorkshire and The Humber\",\"Yorkshire and The Humber\",\"Yorkshire and The Humber\",\"Yorkshire and The Humber\",\"Yorkshire and The Humber\",\"Yorkshire and The Humber\"],\"Year_Month\":[\"2013-05\",\"2013-06\",\"2013-07\",\"2013-08\",\"2013-09\",\"2013-10\",\"2013-11\",\"2013-12\",\"2014-01\",\"2014-02\",\"2014-03\",\"2014-04\",\"2014-05\",\"2014-06\",\"2014-07\",\"2014-08\",\"2014-09\",\"2014-10\",\"2014-11\",\"2014-12\",\"2015-01\",\"2015-02\",\"2015-03\",\"2015-04\",\"2015-05\",\"2015-06\",\"2015-07\",\"2015-08\",\"2015-09\",\"2015-10\",\"2015-11\",\"2015-12\",\"2016-01\",\"2016-02\",\"2016-03\",\"2016-04\",\"2016-05\",\"2016-06\",\"2016-07\",\"2016-08\",\"2016-09\",\"2016-10\",\"2016-11\",\"2016-12\",\"2017-01\",\"2017-02\",\"2017-03\",\"2017-04\",\"2017-05\",\"2017-06\",\"2017-07\",\"2017-08\",\"2017-09\",\"2017-10\",\"2017-11\",\"2017-12\",\"2018-01\",\"2018-02\",\"2018-03\",\"2018-04\",\"2018-05\",\"2018-06\",\"2018-07\",\"2018-08\",\"2018-09\",\"2018-10\",\"2018-11\",\"2018-12\",\"2019-01\",\"2019-02\",\"2019-03\",\"2019-04\",\"2019-05\",\"2019-06\",\"2019-07\",\"2019-08\",\"2019-09\",\"2019-10\",\"2019-11\",\"2019-12\",\"2020-01\",\"2020-02\",\"2020-03\",\"2020-04\",\"2020-05\",\"2020-06\",\"2020-07\",\"2020-08\",\"2020-09\",\"2020-10\",\"2020-11\",\"2020-12\"]},\"selected\":{\"id\":\"35986\"},\"selection_policy\":{\"id\":\"36017\"}},\"id\":\"35985\",\"type\":\"ColumnDataSource\"},{\"attributes\":{},\"id\":\"35914\",\"type\":\"Selection\"},{\"attributes\":{},\"id\":\"35968\",\"type\":\"Selection\"},{\"attributes\":{\"line_color\":\"#9467bd\",\"line_width\":2,\"x\":{\"field\":\"Year_Month\"},\"y\":{\"field\":\"Frequency\"}},\"id\":\"35975\",\"type\":\"Line\"},{\"attributes\":{\"line_color\":\"#30a2da\",\"line_width\":2,\"x\":{\"field\":\"Year_Month\"},\"y\":{\"field\":\"Frequency\"}},\"id\":\"35916\",\"type\":\"Line\"},{\"attributes\":{\"factors\":[\"2013-05\",\"2013-06\",\"2013-07\",\"2013-08\",\"2013-09\",\"2013-10\",\"2013-11\",\"2013-12\",\"2014-01\",\"2014-02\",\"2014-03\",\"2014-04\",\"2014-05\",\"2014-06\",\"2014-07\",\"2014-08\",\"2014-09\",\"2014-10\",\"2014-11\",\"2014-12\",\"2015-01\",\"2015-02\",\"2015-03\",\"2015-04\",\"2015-05\",\"2015-06\",\"2015-07\",\"2015-08\",\"2015-09\",\"2015-10\",\"2015-11\",\"2015-12\",\"2016-01\",\"2016-02\",\"2016-03\",\"2016-04\",\"2016-05\",\"2016-06\",\"2016-07\",\"2016-08\",\"2016-09\",\"2016-10\",\"2016-11\",\"2016-12\",\"2017-01\",\"2017-02\",\"2017-03\",\"2017-04\",\"2017-05\",\"2017-06\",\"2017-07\",\"2017-08\",\"2017-09\",\"2017-10\",\"2017-11\",\"2017-12\",\"2018-01\",\"2018-02\",\"2018-03\",\"2018-04\",\"2018-05\",\"2018-06\",\"2018-07\",\"2018-08\",\"2018-09\",\"2018-10\",\"2018-11\",\"2018-12\",\"2019-01\",\"2019-02\",\"2019-03\",\"2019-04\",\"2019-05\",\"2019-06\",\"2019-07\",\"2019-08\",\"2019-09\",\"2019-10\",\"2019-11\",\"2019-12\",\"2020-01\",\"2020-02\",\"2020-03\",\"2020-04\",\"2020-05\",\"2020-06\",\"2020-07\",\"2020-08\",\"2020-09\",\"2020-10\",\"2020-11\",\"2020-12\"],\"tags\":[[[\"Year_Month\",\"Year_Month\",null]]]},\"id\":\"35867\",\"type\":\"FactorRange\"},{\"attributes\":{\"source\":{\"id\":\"35958\"}},\"id\":\"35965\",\"type\":\"CDSView\"},{\"attributes\":{},\"id\":\"36011\",\"type\":\"UnionRenderers\"},{\"attributes\":{\"line_color\":\"#fc4f30\",\"line_width\":2,\"x\":{\"field\":\"Year_Month\"},\"y\":{\"field\":\"Frequency\"}},\"id\":\"35930\",\"type\":\"Line\"},{\"attributes\":{},\"id\":\"35977\",\"type\":\"Selection\"},{\"attributes\":{\"line_color\":\"#9467bd\",\"line_width\":2,\"x\":{\"field\":\"Year_Month\"},\"y\":{\"field\":\"Frequency\"}},\"id\":\"35970\",\"type\":\"Line\"},{\"attributes\":{\"axis_label\":\"Year_Month\",\"coordinates\":null,\"formatter\":{\"id\":\"35908\"},\"group\":null,\"major_label_policy\":{\"id\":\"35909\"},\"ticker\":{\"id\":\"35888\"}},\"id\":\"35887\",\"type\":\"CategoricalAxis\"},{\"attributes\":{\"source\":{\"id\":\"35940\"}},\"id\":\"35947\",\"type\":\"CDSView\"},{\"attributes\":{\"data\":{\"Frequency\":[13928,14892,18369,16934,13266,12923,11775,10810,10596,10766,12997,13859,14715,15565,17207,14230,14100,13102,11679,10400,10519,10253,12058,12966,12879,13340,14649,14307,12005,12666,10522,10124,10428,10136,11655,11706,13719,13398,15375,14810,13566,12724,9888,9084,9258,9393,11560,12279,12876,12327,13804,12814,11122,12139,9723,9200,8778,8228,9470,10322,12074,11989,13309,11782,9548,9382,8463,7679,8275,8673,9525,9770,9902,9259,10442,10155,8295,8345,7206,6911,7073,7085,8632,18425,21486,14336,12709,11642,10434,10864,10450,8835],\"RGN19NM\":[\"East Midlands\",\"East Midlands\",\"East Midlands\",\"East Midlands\",\"East Midlands\",\"East Midlands\",\"East Midlands\",\"East Midlands\",\"East Midlands\",\"East Midlands\",\"East Midlands\",\"East Midlands\",\"East Midlands\",\"East Midlands\",\"East Midlands\",\"East Midlands\",\"East Midlands\",\"East Midlands\",\"East Midlands\",\"East Midlands\",\"East Midlands\",\"East Midlands\",\"East Midlands\",\"East Midlands\",\"East Midlands\",\"East Midlands\",\"East Midlands\",\"East Midlands\",\"East Midlands\",\"East Midlands\",\"East Midlands\",\"East Midlands\",\"East Midlands\",\"East Midlands\",\"East Midlands\",\"East Midlands\",\"East Midlands\",\"East Midlands\",\"East Midlands\",\"East Midlands\",\"East Midlands\",\"East Midlands\",\"East Midlands\",\"East Midlands\",\"East Midlands\",\"East Midlands\",\"East Midlands\",\"East Midlands\",\"East Midlands\",\"East Midlands\",\"East Midlands\",\"East Midlands\",\"East Midlands\",\"East Midlands\",\"East Midlands\",\"East Midlands\",\"East Midlands\",\"East Midlands\",\"East Midlands\",\"East Midlands\",\"East Midlands\",\"East Midlands\",\"East Midlands\",\"East Midlands\",\"East Midlands\",\"East Midlands\",\"East Midlands\",\"East Midlands\",\"East Midlands\",\"East Midlands\",\"East Midlands\",\"East Midlands\",\"East Midlands\",\"East Midlands\",\"East Midlands\",\"East Midlands\",\"East Midlands\",\"East Midlands\",\"East Midlands\",\"East Midlands\",\"East Midlands\",\"East Midlands\",\"East Midlands\",\"East Midlands\",\"East Midlands\",\"East Midlands\",\"East Midlands\",\"East Midlands\",\"East Midlands\",\"East Midlands\",\"East Midlands\",\"East Midlands\"],\"Year_Month\":[\"2013-05\",\"2013-06\",\"2013-07\",\"2013-08\",\"2013-09\",\"2013-10\",\"2013-11\",\"2013-12\",\"2014-01\",\"2014-02\",\"2014-03\",\"2014-04\",\"2014-05\",\"2014-06\",\"2014-07\",\"2014-08\",\"2014-09\",\"2014-10\",\"2014-11\",\"2014-12\",\"2015-01\",\"2015-02\",\"2015-03\",\"2015-04\",\"2015-05\",\"2015-06\",\"2015-07\",\"2015-08\",\"2015-09\",\"2015-10\",\"2015-11\",\"2015-12\",\"2016-01\",\"2016-02\",\"2016-03\",\"2016-04\",\"2016-05\",\"2016-06\",\"2016-07\",\"2016-08\",\"2016-09\",\"2016-10\",\"2016-11\",\"2016-12\",\"2017-01\",\"2017-02\",\"2017-03\",\"2017-04\",\"2017-05\",\"2017-06\",\"2017-07\",\"2017-08\",\"2017-09\",\"2017-10\",\"2017-11\",\"2017-12\",\"2018-01\",\"2018-02\",\"2018-03\",\"2018-04\",\"2018-05\",\"2018-06\",\"2018-07\",\"2018-08\",\"2018-09\",\"2018-10\",\"2018-11\",\"2018-12\",\"2019-01\",\"2019-02\",\"2019-03\",\"2019-04\",\"2019-05\",\"2019-06\",\"2019-07\",\"2019-08\",\"2019-09\",\"2019-10\",\"2019-11\",\"2019-12\",\"2020-01\",\"2020-02\",\"2020-03\",\"2020-04\",\"2020-05\",\"2020-06\",\"2020-07\",\"2020-08\",\"2020-09\",\"2020-10\",\"2020-11\",\"2020-12\"]},\"selected\":{\"id\":\"35914\"},\"selection_policy\":{\"id\":\"36001\"}},\"id\":\"35913\",\"type\":\"ColumnDataSource\"},{\"attributes\":{\"coordinates\":null,\"group\":null,\"text\":\"Total Crime Frequency plot for crime type across 2013-2020\",\"text_color\":\"black\",\"text_font_size\":\"12pt\"},\"id\":\"35879\",\"type\":\"Title\"},{\"attributes\":{},\"id\":\"35912\",\"type\":\"AllLabels\"},{\"attributes\":{},\"id\":\"35911\",\"type\":\"BasicTickFormatter\"},{\"attributes\":{},\"id\":\"35894\",\"type\":\"SaveTool\"},{\"attributes\":{\"end\":68699.8,\"reset_end\":68699.8,\"reset_start\":-2229.8,\"start\":-2229.8,\"tags\":[[[\"Frequency\",\"Frequency\",null]]]},\"id\":\"35868\",\"type\":\"Range1d\"},{\"attributes\":{},\"id\":\"35898\",\"type\":\"ResetTool\"},{\"attributes\":{},\"id\":\"36017\",\"type\":\"UnionRenderers\"},{\"attributes\":{\"data\":{\"Frequency\":[30955,32646,38987,36124,28113,29247,25368,22696,22056,21514,26526,28353,28949,30292,34021,28741,29374,28301,24424,21512,21338,21693,25003,28106,27394,28192,28718,29306,26097,28361,21734,21103,21529,21629,25065,25535,28491,27771,29026,28661,26162,27487,20138,19552,19234,18344,21535,23917,23775,22286,22104,21619,18696,21736,17718,15023,14414,13455,13067,14263,15772,14698,14822,13380,12035,12936,11534,11768,12301,12777,14482,16046,15936,15459,11311,10867,8982,10722,8449,7154,7999,7867,10996,22198,21857,22534,13088,14142,12480,16299,13838,11823],\"RGN19NM\":[\"North West\",\"North West\",\"North West\",\"North West\",\"North West\",\"North West\",\"North West\",\"North West\",\"North West\",\"North West\",\"North West\",\"North West\",\"North West\",\"North West\",\"North West\",\"North West\",\"North West\",\"North West\",\"North West\",\"North West\",\"North West\",\"North West\",\"North West\",\"North West\",\"North West\",\"North West\",\"North West\",\"North West\",\"North West\",\"North West\",\"North West\",\"North West\",\"North West\",\"North West\",\"North West\",\"North West\",\"North West\",\"North West\",\"North West\",\"North West\",\"North West\",\"North West\",\"North West\",\"North West\",\"North West\",\"North West\",\"North West\",\"North West\",\"North West\",\"North West\",\"North West\",\"North West\",\"North West\",\"North West\",\"North West\",\"North West\",\"North West\",\"North West\",\"North West\",\"North West\",\"North West\",\"North West\",\"North West\",\"North West\",\"North West\",\"North West\",\"North West\",\"North West\",\"North West\",\"North West\",\"North West\",\"North West\",\"North West\",\"North West\",\"North West\",\"North West\",\"North West\",\"North West\",\"North West\",\"North West\",\"North West\",\"North West\",\"North West\",\"North West\",\"North West\",\"North West\",\"North West\",\"North West\",\"North West\",\"North West\",\"North West\",\"North West\"],\"Year_Month\":[\"2013-05\",\"2013-06\",\"2013-07\",\"2013-08\",\"2013-09\",\"2013-10\",\"2013-11\",\"2013-12\",\"2014-01\",\"2014-02\",\"2014-03\",\"2014-04\",\"2014-05\",\"2014-06\",\"2014-07\",\"2014-08\",\"2014-09\",\"2014-10\",\"2014-11\",\"2014-12\",\"2015-01\",\"2015-02\",\"2015-03\",\"2015-04\",\"2015-05\",\"2015-06\",\"2015-07\",\"2015-08\",\"2015-09\",\"2015-10\",\"2015-11\",\"2015-12\",\"2016-01\",\"2016-02\",\"2016-03\",\"2016-04\",\"2016-05\",\"2016-06\",\"2016-07\",\"2016-08\",\"2016-09\",\"2016-10\",\"2016-11\",\"2016-12\",\"2017-01\",\"2017-02\",\"2017-03\",\"2017-04\",\"2017-05\",\"2017-06\",\"2017-07\",\"2017-08\",\"2017-09\",\"2017-10\",\"2017-11\",\"2017-12\",\"2018-01\",\"2018-02\",\"2018-03\",\"2018-04\",\"2018-05\",\"2018-06\",\"2018-07\",\"2018-08\",\"2018-09\",\"2018-10\",\"2018-11\",\"2018-12\",\"2019-01\",\"2019-02\",\"2019-03\",\"2019-04\",\"2019-05\",\"2019-06\",\"2019-07\",\"2019-08\",\"2019-09\",\"2019-10\",\"2019-11\",\"2019-12\",\"2020-01\",\"2020-02\",\"2020-03\",\"2020-04\",\"2020-05\",\"2020-06\",\"2020-07\",\"2020-08\",\"2020-09\",\"2020-10\",\"2020-11\",\"2020-12\"]},\"selected\":{\"id\":\"35950\"},\"selection_policy\":{\"id\":\"36009\"}},\"id\":\"35949\",\"type\":\"ColumnDataSource\"},{\"attributes\":{},\"id\":\"35883\",\"type\":\"CategoricalScale\"},{\"attributes\":{\"axis\":{\"id\":\"35890\"},\"coordinates\":null,\"dimension\":1,\"grid_line_color\":null,\"group\":null,\"ticker\":null},\"id\":\"35893\",\"type\":\"Grid\"},{\"attributes\":{\"below\":[{\"id\":\"35887\"}],\"center\":[{\"id\":\"35889\"},{\"id\":\"35893\"}],\"height\":300,\"left\":[{\"id\":\"35890\"}],\"margin\":[5,5,5,5],\"min_border_bottom\":10,\"min_border_left\":10,\"min_border_right\":10,\"min_border_top\":10,\"renderers\":[{\"id\":\"35919\"},{\"id\":\"35928\"},{\"id\":\"35937\"},{\"id\":\"35946\"},{\"id\":\"35955\"},{\"id\":\"35964\"},{\"id\":\"35973\"},{\"id\":\"35982\"},{\"id\":\"35991\"}],\"sizing_mode\":\"fixed\",\"title\":{\"id\":\"35879\"},\"toolbar\":{\"id\":\"35900\"},\"width\":700,\"x_range\":{\"id\":\"35867\"},\"x_scale\":{\"id\":\"35883\"},\"y_range\":{\"id\":\"35868\"},\"y_scale\":{\"id\":\"35885\"}},\"id\":\"35878\",\"subtype\":\"Figure\",\"type\":\"Plot\"},{\"attributes\":{\"line_color\":\"#fc4f30\",\"line_width\":2,\"x\":{\"field\":\"Year_Month\"},\"y\":{\"field\":\"Frequency\"}},\"id\":\"35925\",\"type\":\"Line\"},{\"attributes\":{\"bottom_units\":\"screen\",\"coordinates\":null,\"fill_alpha\":0.5,\"fill_color\":\"lightgrey\",\"group\":null,\"left_units\":\"screen\",\"level\":\"overlay\",\"line_alpha\":1.0,\"line_color\":\"black\",\"line_dash\":[4,4],\"line_width\":2,\"right_units\":\"screen\",\"syncable\":false,\"top_units\":\"screen\"},\"id\":\"35899\",\"type\":\"BoxAnnotation\"},{\"attributes\":{\"data\":{\"Frequency\":[11965,12860,15858,15069,12356,13003,11371,9940,10188,10583,13012,13442,14252,14569,15075,13451,13618,13526,11487,9214,9686,9930,11487,12903,12173,12687,13414,13356,11538,13018,9456,8427,8404,8691,10693,9919,11513,10781,12324,11753,11580,12198,9094,8984,8745,8357,10386,10579,10646,10295,10597,10981,9623,11258,8757,8013,8217,7786,8486,9042,10093,9342,9940,9395,8118,8677,7374,6526,6687,7622,8015,8342,8027,8265,9437,8887,7808,8378,6512,3681,7031,6371,7506,16413,16139,11101,6025,10326,9798,12256,10156,7509],\"RGN19NM\":[\"North East\",\"North East\",\"North East\",\"North East\",\"North East\",\"North East\",\"North East\",\"North East\",\"North East\",\"North East\",\"North East\",\"North East\",\"North East\",\"North East\",\"North East\",\"North East\",\"North East\",\"North East\",\"North East\",\"North East\",\"North East\",\"North East\",\"North East\",\"North East\",\"North East\",\"North East\",\"North East\",\"North East\",\"North East\",\"North East\",\"North East\",\"North East\",\"North East\",\"North East\",\"North East\",\"North East\",\"North East\",\"North East\",\"North East\",\"North East\",\"North East\",\"North East\",\"North East\",\"North East\",\"North East\",\"North East\",\"North East\",\"North East\",\"North East\",\"North East\",\"North East\",\"North East\",\"North East\",\"North East\",\"North East\",\"North East\",\"North East\",\"North East\",\"North East\",\"North East\",\"North East\",\"North East\",\"North East\",\"North East\",\"North East\",\"North East\",\"North East\",\"North East\",\"North East\",\"North East\",\"North East\",\"North East\",\"North East\",\"North East\",\"North East\",\"North East\",\"North East\",\"North East\",\"North East\",\"North East\",\"North East\",\"North East\",\"North East\",\"North East\",\"North East\",\"North East\",\"North East\",\"North East\",\"North East\",\"North East\",\"North East\",\"North East\"],\"Year_Month\":[\"2013-05\",\"2013-06\",\"2013-07\",\"2013-08\",\"2013-09\",\"2013-10\",\"2013-11\",\"2013-12\",\"2014-01\",\"2014-02\",\"2014-03\",\"2014-04\",\"2014-05\",\"2014-06\",\"2014-07\",\"2014-08\",\"2014-09\",\"2014-10\",\"2014-11\",\"2014-12\",\"2015-01\",\"2015-02\",\"2015-03\",\"2015-04\",\"2015-05\",\"2015-06\",\"2015-07\",\"2015-08\",\"2015-09\",\"2015-10\",\"2015-11\",\"2015-12\",\"2016-01\",\"2016-02\",\"2016-03\",\"2016-04\",\"2016-05\",\"2016-06\",\"2016-07\",\"2016-08\",\"2016-09\",\"2016-10\",\"2016-11\",\"2016-12\",\"2017-01\",\"2017-02\",\"2017-03\",\"2017-04\",\"2017-05\",\"2017-06\",\"2017-07\",\"2017-08\",\"2017-09\",\"2017-10\",\"2017-11\",\"2017-12\",\"2018-01\",\"2018-02\",\"2018-03\",\"2018-04\",\"2018-05\",\"2018-06\",\"2018-07\",\"2018-08\",\"2018-09\",\"2018-10\",\"2018-11\",\"2018-12\",\"2019-01\",\"2019-02\",\"2019-03\",\"2019-04\",\"2019-05\",\"2019-06\",\"2019-07\",\"2019-08\",\"2019-09\",\"2019-10\",\"2019-11\",\"2019-12\",\"2020-01\",\"2020-02\",\"2020-03\",\"2020-04\",\"2020-05\",\"2020-06\",\"2020-07\",\"2020-08\",\"2020-09\",\"2020-10\",\"2020-11\",\"2020-12\"]},\"selected\":{\"id\":\"35941\"},\"selection_policy\":{\"id\":\"36007\"}},\"id\":\"35940\",\"type\":\"ColumnDataSource\"},{\"attributes\":{\"line_alpha\":0.1,\"line_color\":\"#6d904f\",\"line_width\":2,\"x\":{\"field\":\"Year_Month\"},\"y\":{\"field\":\"Frequency\"}},\"id\":\"35944\",\"type\":\"Line\"},{\"attributes\":{\"source\":{\"id\":\"35922\"}},\"id\":\"35929\",\"type\":\"CDSView\"},{\"attributes\":{},\"id\":\"35891\",\"type\":\"BasicTicker\"},{\"attributes\":{},\"id\":\"35908\",\"type\":\"CategoricalTickFormatter\"},{\"attributes\":{\"coordinates\":null,\"data_source\":{\"id\":\"35913\"},\"glyph\":{\"id\":\"35916\"},\"group\":null,\"hover_glyph\":null,\"muted_glyph\":{\"id\":\"35918\"},\"nonselection_glyph\":{\"id\":\"35917\"},\"selection_glyph\":{\"id\":\"35921\"},\"view\":{\"id\":\"35920\"}},\"id\":\"35919\",\"type\":\"GlyphRenderer\"},{\"attributes\":{\"line_alpha\":0.2,\"line_color\":\"#17becf\",\"line_width\":2,\"x\":{\"field\":\"Year_Month\"},\"y\":{\"field\":\"Frequency\"}},\"id\":\"35963\",\"type\":\"Line\"},{\"attributes\":{\"overlay\":{\"id\":\"35899\"}},\"id\":\"35897\",\"type\":\"BoxZoomTool\"},{\"attributes\":{\"data\":{\"Frequency\":[15546,16676,20739,19693,14673,14820,13118,10744,10823,10687,13816,14809,15163,15914,17824,15849,15703,14751,12552,10985,10759,11330,13404,14416,14841,15218,15945,14945,12603,13306,11861,11873,11590,11140,12940,13287,15137,15293,17467,16165,15224,14997,11471,11605,11166,11444,13659,13908,14679,15598,16083,14614,12863,13546,10560,9657,9193,9300,10472,11192,12646,12960,13948,12359,10430,10324,8882,8595,8477,9165,10091,10417,10715,11240,12425,11598,9746,9547,8390,7692,8146,7857,9590,13789,14114,13456,14181,13548,10792,10687,11387,9729],\"RGN19NM\":[\"East of England\",\"East of England\",\"East of England\",\"East of England\",\"East of England\",\"East of England\",\"East of England\",\"East of England\",\"East of England\",\"East of England\",\"East of England\",\"East of England\",\"East of England\",\"East of England\",\"East of England\",\"East of England\",\"East of England\",\"East of England\",\"East of England\",\"East of England\",\"East of England\",\"East of England\",\"East of England\",\"East of England\",\"East of England\",\"East of England\",\"East of England\",\"East of England\",\"East of England\",\"East of England\",\"East of England\",\"East of England\",\"East of England\",\"East of England\",\"East of England\",\"East of England\",\"East of England\",\"East of England\",\"East of England\",\"East of England\",\"East of England\",\"East of England\",\"East of England\",\"East of England\",\"East of England\",\"East of England\",\"East of England\",\"East of England\",\"East of England\",\"East of England\",\"East of England\",\"East of England\",\"East of England\",\"East of England\",\"East of England\",\"East of England\",\"East of England\",\"East of England\",\"East of England\",\"East of England\",\"East of England\",\"East of England\",\"East of England\",\"East of England\",\"East of England\",\"East of England\",\"East of England\",\"East of England\",\"East of England\",\"East of England\",\"East of England\",\"East of England\",\"East of England\",\"East of England\",\"East of England\",\"East of England\",\"East of England\",\"East of England\",\"East of England\",\"East of England\",\"East of England\",\"East of England\",\"East of England\",\"East of England\",\"East of England\",\"East of England\",\"East of England\",\"East of England\",\"East of England\",\"East of England\",\"East of England\",\"East of England\"],\"Year_Month\":[\"2013-05\",\"2013-06\",\"2013-07\",\"2013-08\",\"2013-09\",\"2013-10\",\"2013-11\",\"2013-12\",\"2014-01\",\"2014-02\",\"2014-03\",\"2014-04\",\"2014-05\",\"2014-06\",\"2014-07\",\"2014-08\",\"2014-09\",\"2014-10\",\"2014-11\",\"2014-12\",\"2015-01\",\"2015-02\",\"2015-03\",\"2015-04\",\"2015-05\",\"2015-06\",\"2015-07\",\"2015-08\",\"2015-09\",\"2015-10\",\"2015-11\",\"2015-12\",\"2016-01\",\"2016-02\",\"2016-03\",\"2016-04\",\"2016-05\",\"2016-06\",\"2016-07\",\"2016-08\",\"2016-09\",\"2016-10\",\"2016-11\",\"2016-12\",\"2017-01\",\"2017-02\",\"2017-03\",\"2017-04\",\"2017-05\",\"2017-06\",\"2017-07\",\"2017-08\",\"2017-09\",\"2017-10\",\"2017-11\",\"2017-12\",\"2018-01\",\"2018-02\",\"2018-03\",\"2018-04\",\"2018-05\",\"2018-06\",\"2018-07\",\"2018-08\",\"2018-09\",\"2018-10\",\"2018-11\",\"2018-12\",\"2019-01\",\"2019-02\",\"2019-03\",\"2019-04\",\"2019-05\",\"2019-06\",\"2019-07\",\"2019-08\",\"2019-09\",\"2019-10\",\"2019-11\",\"2019-12\",\"2020-01\",\"2020-02\",\"2020-03\",\"2020-04\",\"2020-05\",\"2020-06\",\"2020-07\",\"2020-08\",\"2020-09\",\"2020-10\",\"2020-11\",\"2020-12\"]},\"selected\":{\"id\":\"35923\"},\"selection_policy\":{\"id\":\"36003\"}},\"id\":\"35922\",\"type\":\"ColumnDataSource\"},{\"attributes\":{\"margin\":[5,10,5,10],\"options\":[\"Anti-social behaviour\",\"Bicycle theft\",\"Burglary\",\"Criminal damage and arson\",\"Drugs\",\"Other crime\",\"Other theft\",\"Possession of weapons\",\"Public order\",\"Robbery\",\"Shoplifting\",\"Theft from the person\",\"Vehicle crime\",\"Violence and sexual offences\"],\"title\":\"Select\",\"value\":\"Anti-social behaviour\"},\"id\":\"35865\",\"type\":\"Select\"},{\"attributes\":{\"line_alpha\":0.1,\"line_color\":\"#17becf\",\"line_width\":2,\"x\":{\"field\":\"Year_Month\"},\"y\":{\"field\":\"Frequency\"}},\"id\":\"35962\",\"type\":\"Line\"},{\"attributes\":{},\"id\":\"36005\",\"type\":\"UnionRenderers\"},{\"attributes\":{\"source\":{\"id\":\"35967\"}},\"id\":\"35974\",\"type\":\"CDSView\"},{\"attributes\":{\"line_color\":\"#e5ae38\",\"line_width\":2,\"x\":{\"field\":\"Year_Month\"},\"y\":{\"field\":\"Frequency\"}},\"id\":\"35934\",\"type\":\"Line\"},{\"attributes\":{},\"id\":\"35959\",\"type\":\"Selection\"},{\"attributes\":{\"line_color\":\"#17becf\",\"line_width\":2,\"x\":{\"field\":\"Year_Month\"},\"y\":{\"field\":\"Frequency\"}},\"id\":\"35961\",\"type\":\"Line\"},{\"attributes\":{},\"id\":\"36003\",\"type\":\"UnionRenderers\"}],\"root_ids\":[\"35861\",\"36306\"]},\"title\":\"Bokeh Application\",\"version\":\"2.4.2\"}};\n",
       "    var render_items = [{\"docid\":\"46b97e6a-64a5-4272-b8a0-b9130313f402\",\"root_ids\":[\"35861\"],\"roots\":{\"35861\":\"1dc60020-dfdf-45fb-934b-d3d232076955\"}}];\n",
       "    root.Bokeh.embed.embed_items_notebook(docs_json, render_items);\n",
       "  }\n",
       "  if (root.Bokeh !== undefined && root.Bokeh.Panel !== undefined && ( root['Tabulator'] !== undefined)) {\n",
       "    embed_document(root);\n",
       "  } else {\n",
       "    var attempts = 0;\n",
       "    var timer = setInterval(function(root) {\n",
       "      if (root.Bokeh !== undefined && root.Bokeh.Panel !== undefined && (root['Tabulator'] !== undefined)) {\n",
       "        clearInterval(timer);\n",
       "        embed_document(root);\n",
       "      } else if (document.readyState == \"complete\") {\n",
       "        attempts++;\n",
       "        if (attempts > 200) {\n",
       "          clearInterval(timer);\n",
       "          console.log(\"Bokeh: ERROR: Unable to run BokehJS code because BokehJS library is missing\");\n",
       "        }\n",
       "      }\n",
       "    }, 25, root)\n",
       "  }\n",
       "})(window);</script>"
      ],
      "text/plain": [
       "<hvplot.interactive.Interactive at 0x24118eb3c10>"
      ]
     },
     "execution_count": 80,
     "metadata": {
      "application/vnd.holoviews_exec.v0+json": {
       "id": "35861"
      }
     },
     "output_type": "execute_result"
    }
   ],
   "source": [
    "crtyp_plot = crimetyp_pipeline.hvplot(x = 'Year_Month', y='Frequency',by='RGN19NM',legend=False,line_width=2, title=\"Crime Frequency plot for crime type and region across 2013-2020\")\n",
    "crtyp_plot"
   ]
  },
  {
   "cell_type": "code",
   "execution_count": 95,
   "id": "fcda4b4c-f775-4cdc-8535-f43924b6b799",
   "metadata": {},
   "outputs": [
    {
     "name": "stdout",
     "output_type": "stream",
     "text": [
      "Launching server at http://localhost:55151\n"
     ]
    }
   ],
   "source": [
    "template = pn.template.FastListTemplate(\n",
    "    title='Crime frequency:England dashboard', \n",
    "    sidebar=[pn.pane.Markdown(\"# Crime frequency England dashboard\"), \n",
    "             pn.pane.Markdown(\"#### Choose from the options below\"), \n",
    "             pn.pane.Markdown(\"## Settings\"),   \n",
    "             year_slider,select_rgn,select_typ],\n",
    "    main=[pn.Row(pn.Column(cryr_plot.panel(width=260), margin=(0,25)), \n",
    "                 pn.Column(crrgn_plot.panel(width=700))), \n",
    "          pn.Row(pn.Column(cryrtyp_plot.panel(width=260), margin=(0,25)),\n",
    "              pn.Column(crtyp1_plot.panel(width=700))),\n",
    "          pn.Row(\n",
    "              pn.Column(crtyp_plot.panel(width=700),margin=(20,100)))],\n",
    "    accent_base_color=\"#88d8b0\",\n",
    "    header_background=\"#88d8b0\",\n",
    ")\n",
    "template.show()\n",
    "template.servable();"
   ]
  },
  {
   "cell_type": "code",
   "execution_count": null,
   "id": "f300ead0-a965-4a56-9a24-9242112c520a",
   "metadata": {},
   "outputs": [],
   "source": [
    "pn.Column(cryrtyp_plot.panel(width=260), margin=(0,25))"
   ]
  },
  {
   "cell_type": "code",
   "execution_count": null,
   "id": "c4d74644-393c-4b48-8fc8-89387bfc6a9c",
   "metadata": {},
   "outputs": [],
   "source": []
  },
  {
   "cell_type": "code",
   "execution_count": null,
   "id": "1cabea9c-f4dc-4157-8741-b42ddfab1634",
   "metadata": {},
   "outputs": [],
   "source": []
  },
  {
   "cell_type": "code",
   "execution_count": null,
   "id": "633a9852-2022-4d2d-a28f-50fb3e235b83",
   "metadata": {},
   "outputs": [],
   "source": []
  }
 ],
 "metadata": {
  "kernelspec": {
   "display_name": "Python 3 (ipykernel)",
   "language": "python",
   "name": "python3"
  },
  "language_info": {
   "codemirror_mode": {
    "name": "ipython",
    "version": 3
   },
   "file_extension": ".py",
   "mimetype": "text/x-python",
   "name": "python",
   "nbconvert_exporter": "python",
   "pygments_lexer": "ipython3",
   "version": "3.8.8"
  }
 },
 "nbformat": 4,
 "nbformat_minor": 5
}
